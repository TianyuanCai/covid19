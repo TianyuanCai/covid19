{
 "cells": [
  {
   "cell_type": "code",
   "execution_count": 649,
   "metadata": {},
   "outputs": [],
   "source": [
    "import os\n",
    "import pandas as pd\n",
    "import re"
   ]
  },
  {
   "cell_type": "code",
   "execution_count": 650,
   "metadata": {},
   "outputs": [],
   "source": [
    "mobility_path = '../data/raw/'\n",
    "processed_path = '../data/processed/'\n",
    "raw_path = '../data/raw/'\n"
   ]
  },
  {
   "cell_type": "code",
   "execution_count": 651,
   "metadata": {},
   "outputs": [],
   "source": [
    "# mobility_combine = []\n",
    "\n",
    "# for file in os.listdir(mobility_path):\n",
    "#     df = pd.read_csv(path + file, sep='\\t')\n",
    "#     df = df.loc[(df['Kind'] == 'subregion')]\n",
    "#     mobility_combine.append(df)\n",
    "\n",
    "# mobility_df_combine = pd.concat(mobility_combine)\n",
    "\n",
    "# mobility_df_combine.to_csv(path+'mobility_county.csv')"
   ]
  },
  {
   "cell_type": "code",
   "execution_count": 652,
   "metadata": {},
   "outputs": [],
   "source": [
    "mobility = pd.read_csv(mobility_path+'Global_Mobility_Report.csv', low_memory=False)\n",
    "processed = pd.read_csv(processed_path + 'time_series.csv')\n",
    "zips = pd.read_csv(raw_path + 'uszips.csv')"
   ]
  },
  {
   "cell_type": "code",
   "execution_count": 625,
   "metadata": {},
   "outputs": [],
   "source": [
    "# clean USA data\n",
    "USA = mobility.loc[mobility['country_region'] == 'United States'].reset_index()\n",
    "to_drop = ['index', 'country_region_code', 'country_region']\n",
    "USA = USA.drop(to_drop, axis=1)\n",
    "USA.insert(1, 'county', USA['sub_region_2'].str.lower())\n",
    "USA = USA.drop(['sub_region_2'],axis=1)\n",
    "USA = USA.loc[~pd.isna(USA['county'])]\n",
    "USA['county'] = USA['county'].map(lambda x: re.sub(' county| city','', x)).str.lower()\n",
    "USA.insert(1, 'state', USA['sub_region_1'].str.lower())\n",
    "USA = USA.drop(['sub_region_1'],axis=1)"
   ]
  },
  {
   "cell_type": "code",
   "execution_count": 626,
   "metadata": {},
   "outputs": [],
   "source": [
    "processed['county'] = processed['county'].str.lower()\n",
    "processed['state'] = processed['state'].str.lower()"
   ]
  },
  {
   "cell_type": "code",
   "execution_count": 627,
   "metadata": {},
   "outputs": [],
   "source": [
    "# take only subset of counties according to proccessed data\n",
    "counties = pd.unique(processed['county'].str.lower().map(lambda x: re.sub(' city','', x)))\n",
    "USA = USA.loc[USA['county'].str.lower().isin(counties)]"
   ]
  },
  {
   "cell_type": "code",
   "execution_count": 628,
   "metadata": {},
   "outputs": [],
   "source": [
    "# difference in counties\n",
    "difference = set(pd.unique(counties)) - set(USA['county'].str.lower().unique())"
   ]
  },
  {
   "cell_type": "code",
   "execution_count": 629,
   "metadata": {},
   "outputs": [],
   "source": [
    "# Cut time\n",
    "USA = USA.loc[USA['date']<'2020-04-05']"
   ]
  },
  {
   "cell_type": "code",
   "execution_count": 632,
   "metadata": {},
   "outputs": [],
   "source": [
    "# deal with duplicates\n",
    "columns = set(USA.columns) - set(['state', 'county', 'date'])\n",
    "agg = {key:'mean' for key in columns}\n",
    "USA_grouped = USA.groupby(['state', 'county', 'date']).aggregate(agg)"
   ]
  },
  {
   "cell_type": "code",
   "execution_count": 643,
   "metadata": {},
   "outputs": [],
   "source": [
    "df = pd.merge(USA_grouped,processed, on=['state', 'county','date'])"
   ]
  },
  {
   "cell_type": "code",
   "execution_count": 644,
   "metadata": {},
   "outputs": [
    {
     "data": {
      "text/plain": [
       "0"
      ]
     },
     "execution_count": 644,
     "metadata": {},
     "output_type": "execute_result"
    }
   ],
   "source": [
    "len(df[['date', 'county', 'county_fips_all', 'timestamp']].drop_duplicates())-len(df)"
   ]
  },
  {
   "cell_type": "code",
   "execution_count": 645,
   "metadata": {},
   "outputs": [],
   "source": [
    "df.to_csv(processed_path + 'time_series_mobility.csv')"
   ]
  }
 ],
 "metadata": {
  "kernelspec": {
   "display_name": "Python 3",
   "language": "python",
   "name": "python3"
  },
  "language_info": {
   "codemirror_mode": {
    "name": "ipython",
    "version": 3
   },
   "file_extension": ".py",
   "mimetype": "text/x-python",
   "name": "python",
   "nbconvert_exporter": "python",
   "pygments_lexer": "ipython3",
   "version": "3.7.7"
  }
 },
 "nbformat": 4,
 "nbformat_minor": 4
}
