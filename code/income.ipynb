{
 "cells": [
  {
   "cell_type": "code",
   "execution_count": 352,
   "metadata": {},
   "outputs": [],
   "source": [
    "import os\n",
    "import pandas as pd\n",
    "import re\n",
    "import numpy as np"
   ]
  },
  {
   "cell_type": "code",
   "execution_count": 394,
   "metadata": {},
   "outputs": [],
   "source": [
    "income_path = '../data/income/'\n",
    "processed_path = '../data/processed/'"
   ]
  },
  {
   "cell_type": "code",
   "execution_count": 395,
   "metadata": {},
   "outputs": [],
   "source": [
    "income = pd.read_csv(income_path + 'income.csv')\n",
    "states_name = pd.read_csv(income_path + 'states_name.csv')\n",
    "population = pd.read_csv(income_path + 'population.csv')\n",
    "time_series_mobility = pd.read_csv(processed_path + 'time_series_mobility.csv')"
   ]
  },
  {
   "cell_type": "code",
   "execution_count": 396,
   "metadata": {},
   "outputs": [],
   "source": [
    "income_split = np.split(income, income[income.isnull().all(1)].index)[1:]\n",
    "income_clean = pd.DataFrame()\n",
    "for state in income_split:\n",
    "    state_name = state['County'][1:2].values\n",
    "    state['state'] = state_name[0]\n",
    "    if state_name == 'District of Columbia':\n",
    "        income_clean = income_clean.append(state[1:2])\n",
    "    else:\n",
    "        \n",
    "        income_clean = income_clean.append(state[2:])"
   ]
  },
  {
   "cell_type": "code",
   "execution_count": 397,
   "metadata": {},
   "outputs": [],
   "source": [
    "income_clean['state'] = income_clean['state'].str.lower()\n",
    "income_clean['county'] = income_clean['County'].str.lower()\n",
    "income_clean['income_2018'] = income_clean['2,018']\n",
    "income_clean = income_clean.drop(['County','2,018'], axis=1)\n",
    "income_clean = income_clean[['county','state','income_2018']]"
   ]
  },
  {
   "cell_type": "code",
   "execution_count": 409,
   "metadata": {},
   "outputs": [],
   "source": [
    "income_clean['income_2018'] = income_clean['income_2018'].map(lambda x: int(re.sub(',','', x)))"
   ]
  },
  {
   "cell_type": "code",
   "execution_count": 398,
   "metadata": {},
   "outputs": [],
   "source": [
    "population = population[1:]\n",
    "population = population.drop(index_list)"
   ]
  },
  {
   "cell_type": "code",
   "execution_count": 399,
   "metadata": {},
   "outputs": [],
   "source": [
    "# find index of \n",
    "index_list = []\n",
    "for state in states.unique():\n",
    "    index_list.append(states[(states == state)].index[0])"
   ]
  },
  {
   "cell_type": "code",
   "execution_count": 400,
   "metadata": {},
   "outputs": [],
   "source": [
    "population['Area_Name'] = population['Area_Name'].map(lambda x: re.sub(' County| City','', x)).str.lower()"
   ]
  },
  {
   "cell_type": "code",
   "execution_count": 401,
   "metadata": {},
   "outputs": [],
   "source": [
    "dictionary = {short:long for (short,long) in zip(states_name['Code'], states_name['State'])}\n",
    "population['State'] = population['State'].map(dictionary).str.lower()"
   ]
  },
  {
   "cell_type": "code",
   "execution_count": 402,
   "metadata": {},
   "outputs": [],
   "source": [
    "population = population[['State', 'Area_Name', 'POP_ESTIMATE_2018']]\n",
    "population.columns = ['state','county', 'pop_2018']"
   ]
  },
  {
   "cell_type": "code",
   "execution_count": 403,
   "metadata": {},
   "outputs": [],
   "source": [
    "population['pop_2018'] = population['pop_2018'].map(lambda x: int(re.sub(',','', x)))"
   ]
  },
  {
   "cell_type": "code",
   "execution_count": 411,
   "metadata": {},
   "outputs": [],
   "source": [
    "# merge income\n",
    "income_combined = pd.merge(time_series_mobility, income_clean, on=['state','county'])"
   ]
  },
  {
   "cell_type": "code",
   "execution_count": 412,
   "metadata": {},
   "outputs": [],
   "source": [
    "time_series_all  = pd.merge(income_combined, population, on=['state','county'])"
   ]
  },
  {
   "cell_type": "code",
   "execution_count": 413,
   "metadata": {},
   "outputs": [],
   "source": [
    "time_series_all.to_csv(processed_path+'time_series_all.csv')"
   ]
  },
  {
   "cell_type": "code",
   "execution_count": null,
   "metadata": {},
   "outputs": [],
   "source": []
  }
 ],
 "metadata": {
  "kernelspec": {
   "display_name": "Python 3",
   "language": "python",
   "name": "python3"
  },
  "language_info": {
   "codemirror_mode": {
    "name": "ipython",
    "version": 3
   },
   "file_extension": ".py",
   "mimetype": "text/x-python",
   "name": "python",
   "nbconvert_exporter": "python",
   "pygments_lexer": "ipython3",
   "version": "3.7.7"
  }
 },
 "nbformat": 4,
 "nbformat_minor": 4
}
