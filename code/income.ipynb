{
 "cells": [
  {
   "cell_type": "code",
   "execution_count": 300,
   "metadata": {},
   "outputs": [],
   "source": [
    "import os\n",
    "import pandas as pd\n",
    "import re\n",
    "import numpy as np"
   ]
  },
  {
   "cell_type": "code",
   "execution_count": 317,
   "metadata": {},
   "outputs": [],
   "source": [
    "income_path = '../data/income/'\n",
    "processed_path = '../data/processed/'"
   ]
  },
  {
   "cell_type": "code",
   "execution_count": 318,
   "metadata": {},
   "outputs": [],
   "source": [
    "income = pd.read_csv(income_path + 'income.csv')\n",
    "states_name = pd.read_csv(income_path + 'states_name.csv')\n",
    "population = pd.read_csv(income_path + 'population.csv')\n",
    "time_series_mobility = pd.read_csv(processed_path + 'time_series_mobility.csv')"
   ]
  },
  {
   "cell_type": "code",
   "execution_count": 319,
   "metadata": {},
   "outputs": [],
   "source": [
    "income_split = np.split(income, income[income.isnull().all(1)].index)[1:]\n",
    "income_clean = pd.DataFrame()\n",
    "for state in income_split:\n",
    "    state_name = state['County'][1:2].values\n",
    "    state['state'] = state_name[0]\n",
    "    if state_name == 'District of Columbia':\n",
    "        income_clean = income_clean.append(state[1:2])\n",
    "    else:\n",
    "        \n",
    "        income_clean = income_clean.append(state[2:])"
   ]
  },
  {
   "cell_type": "code",
   "execution_count": 320,
   "metadata": {},
   "outputs": [],
   "source": [
    "income_clean['state'] = income_clean['state'].str.lower()\n",
    "income_clean['county'] = income_clean['County'].str.lower()\n",
    "income_clean['2018'] = income_clean['2,018']\n",
    "income_clean = income_clean.drop(['County','2,018'], axis=1)\n",
    "income_clean = income_clean[['county','state','2018']]"
   ]
  },
  {
   "cell_type": "code",
   "execution_count": null,
   "metadata": {},
   "outputs": [],
   "source": []
  },
  {
   "cell_type": "code",
   "execution_count": 321,
   "metadata": {},
   "outputs": [],
   "source": [
    "population = population[1:]\n",
    "population = population.drop(index_list)"
   ]
  },
  {
   "cell_type": "code",
   "execution_count": 322,
   "metadata": {},
   "outputs": [],
   "source": [
    "# find index of \n",
    "index_list = []\n",
    "for state in states.unique():\n",
    "    index_list.append(states[(states == state)].index[0])"
   ]
  },
  {
   "cell_type": "code",
   "execution_count": 323,
   "metadata": {},
   "outputs": [],
   "source": [
    "population['Area_Name'] = population['Area_Name'].map(lambda x: re.sub(' County| City','', x)).str.lower()"
   ]
  },
  {
   "cell_type": "code",
   "execution_count": 324,
   "metadata": {},
   "outputs": [
    {
     "data": {
      "text/html": [
       "<div>\n",
       "<style scoped>\n",
       "    .dataframe tbody tr th:only-of-type {\n",
       "        vertical-align: middle;\n",
       "    }\n",
       "\n",
       "    .dataframe tbody tr th {\n",
       "        vertical-align: top;\n",
       "    }\n",
       "\n",
       "    .dataframe thead th {\n",
       "        text-align: right;\n",
       "    }\n",
       "</style>\n",
       "<table border=\"1\" class=\"dataframe\">\n",
       "  <thead>\n",
       "    <tr style=\"text-align: right;\">\n",
       "      <th></th>\n",
       "      <th>FIPS</th>\n",
       "      <th>State</th>\n",
       "      <th>Area_Name</th>\n",
       "      <th>POP_ESTIMATE_2018</th>\n",
       "    </tr>\n",
       "  </thead>\n",
       "  <tbody>\n",
       "    <tr>\n",
       "      <th>2</th>\n",
       "      <td>1001</td>\n",
       "      <td>AL</td>\n",
       "      <td>autauga</td>\n",
       "      <td>55,601</td>\n",
       "    </tr>\n",
       "    <tr>\n",
       "      <th>3</th>\n",
       "      <td>1003</td>\n",
       "      <td>AL</td>\n",
       "      <td>baldwin</td>\n",
       "      <td>218,022</td>\n",
       "    </tr>\n",
       "    <tr>\n",
       "      <th>4</th>\n",
       "      <td>1005</td>\n",
       "      <td>AL</td>\n",
       "      <td>barbour</td>\n",
       "      <td>24,881</td>\n",
       "    </tr>\n",
       "    <tr>\n",
       "      <th>5</th>\n",
       "      <td>1007</td>\n",
       "      <td>AL</td>\n",
       "      <td>bibb</td>\n",
       "      <td>22,400</td>\n",
       "    </tr>\n",
       "    <tr>\n",
       "      <th>6</th>\n",
       "      <td>1009</td>\n",
       "      <td>AL</td>\n",
       "      <td>blount</td>\n",
       "      <td>57,840</td>\n",
       "    </tr>\n",
       "    <tr>\n",
       "      <th>...</th>\n",
       "      <td>...</td>\n",
       "      <td>...</td>\n",
       "      <td>...</td>\n",
       "      <td>...</td>\n",
       "    </tr>\n",
       "    <tr>\n",
       "      <th>3189</th>\n",
       "      <td>56037</td>\n",
       "      <td>WY</td>\n",
       "      <td>sweetwater</td>\n",
       "      <td>43,051</td>\n",
       "    </tr>\n",
       "    <tr>\n",
       "      <th>3190</th>\n",
       "      <td>56039</td>\n",
       "      <td>WY</td>\n",
       "      <td>teton</td>\n",
       "      <td>23,081</td>\n",
       "    </tr>\n",
       "    <tr>\n",
       "      <th>3191</th>\n",
       "      <td>56041</td>\n",
       "      <td>WY</td>\n",
       "      <td>uinta</td>\n",
       "      <td>20,299</td>\n",
       "    </tr>\n",
       "    <tr>\n",
       "      <th>3192</th>\n",
       "      <td>56043</td>\n",
       "      <td>WY</td>\n",
       "      <td>washakie</td>\n",
       "      <td>7,885</td>\n",
       "    </tr>\n",
       "    <tr>\n",
       "      <th>3193</th>\n",
       "      <td>56045</td>\n",
       "      <td>WY</td>\n",
       "      <td>weston</td>\n",
       "      <td>6,967</td>\n",
       "    </tr>\n",
       "  </tbody>\n",
       "</table>\n",
       "<p>3142 rows × 4 columns</p>\n",
       "</div>"
      ],
      "text/plain": [
       "       FIPS State   Area_Name POP_ESTIMATE_2018\n",
       "2      1001    AL     autauga            55,601\n",
       "3      1003    AL     baldwin           218,022\n",
       "4      1005    AL     barbour            24,881\n",
       "5      1007    AL        bibb            22,400\n",
       "6      1009    AL      blount            57,840\n",
       "...     ...   ...         ...               ...\n",
       "3189  56037    WY  sweetwater            43,051\n",
       "3190  56039    WY       teton            23,081\n",
       "3191  56041    WY       uinta            20,299\n",
       "3192  56043    WY    washakie             7,885\n",
       "3193  56045    WY      weston             6,967\n",
       "\n",
       "[3142 rows x 4 columns]"
      ]
     },
     "execution_count": 324,
     "metadata": {},
     "output_type": "execute_result"
    }
   ],
   "source": [
    "population"
   ]
  },
  {
   "cell_type": "code",
   "execution_count": 325,
   "metadata": {},
   "outputs": [],
   "source": [
    "dictionary = {short:long for (short,long) in zip(states_name['Code'], states_name['State'])}\n",
    "population['State'] = population['State'].map(dictionary).str.lower()"
   ]
  },
  {
   "cell_type": "code",
   "execution_count": 335,
   "metadata": {},
   "outputs": [],
   "source": [
    "population = population[['State', 'Area_Name', 'POP_ESTIMATE_2018']]\n",
    "population.columns = ['state','county', 'pop_2018']"
   ]
  },
  {
   "cell_type": "code",
   "execution_count": 333,
   "metadata": {},
   "outputs": [],
   "source": [
    "# merge income\n",
    "income_combined = pd.merge(time_series_mobility, income_clean, on=['state','county'])"
   ]
  },
  {
   "cell_type": "code",
   "execution_count": 340,
   "metadata": {},
   "outputs": [],
   "source": [
    "time_series_all  = pd.merge(income_combined, population, on=['state','county'])"
   ]
  },
  {
   "cell_type": "code",
   "execution_count": 343,
   "metadata": {},
   "outputs": [],
   "source": [
    "time_series_all.to_csv(processed_path+'time_series_all.csv')"
   ]
  },
  {
   "cell_type": "code",
   "execution_count": null,
   "metadata": {},
   "outputs": [],
   "source": []
  }
 ],
 "metadata": {
  "kernelspec": {
   "display_name": "Python 3",
   "language": "python",
   "name": "python3"
  },
  "language_info": {
   "codemirror_mode": {
    "name": "ipython",
    "version": 3
   },
   "file_extension": ".py",
   "mimetype": "text/x-python",
   "name": "python",
   "nbconvert_exporter": "python",
   "pygments_lexer": "ipython3",
   "version": "3.7.7"
  }
 },
 "nbformat": 4,
 "nbformat_minor": 4
}
