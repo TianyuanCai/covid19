{
 "cells": [
  {
   "cell_type": "markdown",
   "metadata": {},
   "source": [
    "- Gradient boosting is better than random forest.\n",
    "- the best_params is not from the grid-search but from manual tries.\n",
    "- Predicting cases:\n",
    "    - cases is most important\n",
    "    - adding other predictors increases accuracy\n",
    "- predicting dases:\n",
    "    - cases is still the most important\n",
    "- early days v.s. recent days\n",
    "    - accuracy is better for recent days prediction"
   ]
  },
  {
   "cell_type": "markdown",
   "metadata": {},
   "source": [
    "## Predicting Early Day Cases"
   ]
  },
  {
   "cell_type": "markdown",
   "metadata": {},
   "source": [
    "### Random Forest"
   ]
  },
  {
   "cell_type": "code",
   "execution_count": 1,
   "metadata": {},
   "outputs": [
    {
     "name": "stdout",
     "output_type": "stream",
     "text": [
      "../lib\n"
     ]
    }
   ],
   "source": [
    "import pandas as pd\n",
    "import numpy as np\n",
    "import matplotlib.pyplot as plt\n",
    "import seaborn as sns\n",
    "import time\n",
    "from sklearn.model_selection import train_test_split\n",
    "from sklearn.ensemble import RandomForestRegressor, GradientBoostingRegressor\n",
    "from sklearn.model_selection import GridSearchCV, RandomizedSearchCV\n",
    "import warnings\n",
    "warnings.filterwarnings(\"ignore\")\n",
    "\n",
    "import sys\n",
    "sys.path.append('../.')\n",
    "from lib import get_data"
   ]
  },
  {
   "cell_type": "code",
   "execution_count": 38,
   "metadata": {},
   "outputs": [],
   "source": [
    "df = get_data.get_model_data(date_range=(0,7), pred_day=10)\n",
    "df = df._get_numeric_data().drop(['fips'],axis=1).dropna()"
   ]
  },
  {
   "cell_type": "markdown",
   "metadata": {},
   "source": [
    "The get_model_data function summarizes the days of data in the date_range, and adds a column with the delta of cases until the pred_day."
   ]
  },
  {
   "cell_type": "code",
   "execution_count": 3,
   "metadata": {},
   "outputs": [
    {
     "data": {
      "text/plain": [
       "(545, 67)"
      ]
     },
     "execution_count": 3,
     "metadata": {},
     "output_type": "execute_result"
    }
   ],
   "source": [
    "df.shape"
   ]
  },
  {
   "cell_type": "code",
   "execution_count": 4,
   "metadata": {},
   "outputs": [],
   "source": [
    "X = df.drop(['day_10_delta_cases','day_10_delta_deaths'], axis = 1)\n",
    "y = df.day_10_delta_cases\n",
    "\n",
    "X_train, X_test, y_train, y_test = train_test_split(X, y, test_size=0.2, random_state=42)"
   ]
  },
  {
   "cell_type": "code",
   "execution_count": 5,
   "metadata": {},
   "outputs": [],
   "source": [
    "random_grid = {'max_depth': [1, 3, 5, None],\n",
    "              'max_features': ['auto', 'sqrt'],\n",
    "             'min_samples_leaf': [1, 5, 10],\n",
    "             'min_samples_split': [2, 4, 8, 12],\n",
    "             'n_estimators': [10, 50, 100, 200, 500]}"
   ]
  },
  {
   "cell_type": "code",
   "execution_count": 6,
   "metadata": {},
   "outputs": [
    {
     "name": "stdout",
     "output_type": "stream",
     "text": [
      "Fitting 3 folds for each of 100 candidates, totalling 300 fits\n"
     ]
    },
    {
     "name": "stderr",
     "output_type": "stream",
     "text": [
      "[Parallel(n_jobs=-1)]: Using backend LokyBackend with 4 concurrent workers.\n",
      "[Parallel(n_jobs=-1)]: Done  33 tasks      | elapsed:    9.0s\n",
      "[Parallel(n_jobs=-1)]: Done 154 tasks      | elapsed:   24.2s\n",
      "[Parallel(n_jobs=-1)]: Done 300 out of 300 | elapsed:   45.6s finished\n"
     ]
    },
    {
     "data": {
      "text/plain": [
       "{'n_estimators': 100,\n",
       " 'min_samples_split': 4,\n",
       " 'min_samples_leaf': 1,\n",
       " 'max_features': 'auto',\n",
       " 'max_depth': 5}"
      ]
     },
     "execution_count": 6,
     "metadata": {},
     "output_type": "execute_result"
    }
   ],
   "source": [
    "rf = RandomForestRegressor(oob_score=True)\n",
    "rf_random = RandomizedSearchCV(estimator = rf, \n",
    "                               param_distributions = random_grid, \n",
    "                               n_iter = 100, cv = 3, verbose=2, \n",
    "                               random_state=109, n_jobs = -1)\n",
    "rf_random.fit(X_train, y_train)\n",
    "rf_random.best_params_"
   ]
  },
  {
   "cell_type": "code",
   "execution_count": 7,
   "metadata": {},
   "outputs": [
    {
     "name": "stdout",
     "output_type": "stream",
     "text": [
      "Out-of-bag Accuracy: 0.6781\n",
      "R-squared for Train: 0.92\n",
      "R-squared for Test: 0.5858\n"
     ]
    }
   ],
   "source": [
    "rf = rf_random.best_estimator_\n",
    "rf.fit(X_train, y_train)\n",
    "print(\"Out-of-bag Accuracy: %.4f\" % rf.oob_score_)\n",
    "print(\"R-squared for Train: %.2f\" % rf.score(X_train, y_train))\n",
    "print(\"R-squared for Test: %.4f\" % rf.score(X_test, y_test))"
   ]
  },
  {
   "cell_type": "markdown",
   "metadata": {},
   "source": [
    "Using randomized search for hyperparameter tuning with 3-fold cross-validation, random forest regressor with the best parameters gave us R-square of around 0.92 for taining set, and R-square of around 0.57 for testing set (it will change a bit when we re-run). The model is overfitting quite a bit on the training set, but the selected parameters narrow down the search scope for further hyperparameter tuning.\n",
    "\n",
    "It is interesting that the best model has a low number of estimators (just 10), but no limit on the maximum depth. The best model seems to be one with a few, relatively large trees. This makes some sense for a dataset that does not have many observations, but has a large number of predictors, many of them correlated. But it could also explain why the model overfits so much."
   ]
  },
  {
   "cell_type": "code",
   "execution_count": 8,
   "metadata": {},
   "outputs": [],
   "source": [
    "param_grid = {'min_samples_leaf': [1, 2, 3],\n",
    "             'min_samples_split': [2, 3, 4],}"
   ]
  },
  {
   "cell_type": "code",
   "execution_count": 9,
   "metadata": {},
   "outputs": [
    {
     "data": {
      "text/plain": [
       "{'min_samples_leaf': 3, 'min_samples_split': 2}"
      ]
     },
     "execution_count": 9,
     "metadata": {},
     "output_type": "execute_result"
    }
   ],
   "source": [
    "# n_estimators = 10 yields the best results\n",
    "rf = RandomForestRegressor(n_estimators = 10, max_features = 'auto', max_depth = None, oob_score=True, random_state=109)\n",
    "rf_gs = GridSearchCV(estimator=rf, param_grid=param_grid, scoring='neg_mean_squared_error', cv=3, n_jobs=-1)\n",
    "rf_gs.fit(X_train, y_train)\n",
    "\n",
    "rf_gs.best_params_"
   ]
  },
  {
   "cell_type": "code",
   "execution_count": 10,
   "metadata": {},
   "outputs": [
    {
     "name": "stdout",
     "output_type": "stream",
     "text": [
      "Out-of-bag Accuracy: 0.6097\n",
      "R-squared for Train: 0.91\n",
      "R-squared for Test: 0.6360\n",
      "Mean Absolute Error: 16.68 cases.\n"
     ]
    }
   ],
   "source": [
    "rf = rf_gs.best_estimator_\n",
    "rf.fit(X_train, y_train)\n",
    "print(\"Out-of-bag Accuracy: %.4f\" % rf.oob_score_)\n",
    "print(\"R-squared for Train: %.2f\" % rf.score(X_train, y_train))\n",
    "print(\"R-squared for Test: %.4f\" % rf.score(X_test, y_test))\n",
    "\n",
    "y_pred = rf.predict(X_test)\n",
    "# Calculate the absolute errors\n",
    "mae = round(np.mean(abs(y_pred - y_test)),2)\n",
    "# Print out the mean absolute error (mae)\n",
    "print('Mean Absolute Error:', mae, 'cases.')"
   ]
  },
  {
   "cell_type": "markdown",
   "metadata": {},
   "source": [
    "Next, we do a grid search for the hyperparameters using values close to those that were optimal for the random search. This grid search is done on a 3-fold cross-validation.\n",
    "\n",
    "Now the r-squared for the testing set is a bit better, at around 0.63 (compared to 0.56 for the previous run). So we are still overfitting, but much less.\n",
    "The mean absolute error for this model is around 16 cases. We'll see below how good that is, and how the error changes as a function of the total number of cases."
   ]
  },
  {
   "cell_type": "code",
   "execution_count": 11,
   "metadata": {},
   "outputs": [
    {
     "data": {
      "text/html": [
       "<div>\n",
       "<style scoped>\n",
       "    .dataframe tbody tr th:only-of-type {\n",
       "        vertical-align: middle;\n",
       "    }\n",
       "\n",
       "    .dataframe tbody tr th {\n",
       "        vertical-align: top;\n",
       "    }\n",
       "\n",
       "    .dataframe thead th {\n",
       "        text-align: right;\n",
       "    }\n",
       "</style>\n",
       "<table border=\"1\" class=\"dataframe\">\n",
       "  <thead>\n",
       "    <tr style=\"text-align: right;\">\n",
       "      <th></th>\n",
       "      <th>variables</th>\n",
       "      <th>importance</th>\n",
       "    </tr>\n",
       "  </thead>\n",
       "  <tbody>\n",
       "    <tr>\n",
       "      <td>0</td>\n",
       "      <td>cases</td>\n",
       "      <td>0.651731</td>\n",
       "    </tr>\n",
       "    <tr>\n",
       "      <td>14</td>\n",
       "      <td>mslPresMin</td>\n",
       "      <td>0.060055</td>\n",
       "    </tr>\n",
       "    <tr>\n",
       "      <td>16</td>\n",
       "      <td>mslPresMax</td>\n",
       "      <td>0.047257</td>\n",
       "    </tr>\n",
       "    <tr>\n",
       "      <td>18</td>\n",
       "      <td>presTendMin</td>\n",
       "      <td>0.040040</td>\n",
       "    </tr>\n",
       "    <tr>\n",
       "      <td>15</td>\n",
       "      <td>mslPresAvg</td>\n",
       "      <td>0.026125</td>\n",
       "    </tr>\n",
       "    <tr>\n",
       "      <td>61</td>\n",
       "      <td>grocery_and_pharmacy_percent_change_from_baseline</td>\n",
       "      <td>0.025442</td>\n",
       "    </tr>\n",
       "    <tr>\n",
       "      <td>64</td>\n",
       "      <td>pop_2018</td>\n",
       "      <td>0.022796</td>\n",
       "    </tr>\n",
       "    <tr>\n",
       "      <td>30</td>\n",
       "      <td>sfcPresMax</td>\n",
       "      <td>0.013855</td>\n",
       "    </tr>\n",
       "    <tr>\n",
       "      <td>45</td>\n",
       "      <td>windSpdMin</td>\n",
       "      <td>0.012022</td>\n",
       "    </tr>\n",
       "    <tr>\n",
       "      <td>1</td>\n",
       "      <td>deaths</td>\n",
       "      <td>0.011773</td>\n",
       "    </tr>\n",
       "  </tbody>\n",
       "</table>\n",
       "</div>"
      ],
      "text/plain": [
       "                                            variables  importance\n",
       "0                                               cases    0.651731\n",
       "14                                         mslPresMin    0.060055\n",
       "16                                         mslPresMax    0.047257\n",
       "18                                        presTendMin    0.040040\n",
       "15                                         mslPresAvg    0.026125\n",
       "61  grocery_and_pharmacy_percent_change_from_baseline    0.025442\n",
       "64                                           pop_2018    0.022796\n",
       "30                                         sfcPresMax    0.013855\n",
       "45                                         windSpdMin    0.012022\n",
       "1                                              deaths    0.011773"
      ]
     },
     "execution_count": 11,
     "metadata": {},
     "output_type": "execute_result"
    }
   ],
   "source": [
    "pd.concat((pd.DataFrame(X_train.columns, columns = ['variables']), \n",
    "           pd.DataFrame(rf.feature_importances_, columns = ['importance'])), \n",
    "          axis = 1).sort_values(by='importance', ascending = False)[:10]\n"
   ]
  },
  {
   "cell_type": "markdown",
   "metadata": {},
   "source": [
    "This is the plot of variable importance. We can see that the main variable, with 65% importance, is the number of cases. This is expected given the problem we are focusing on: the more cases we have in our population of interest, the more people are likely to get infected, so the more new infected we can expect in the next 3 days. But we can also see that the other variables overall account for about 35% of the prediction, although very divided into several. For this model, the most important predictors are for weather variables as opposed to mobility variables."
   ]
  },
  {
   "cell_type": "code",
   "execution_count": 12,
   "metadata": {},
   "outputs": [
    {
     "name": "stdout",
     "output_type": "stream",
     "text": [
      "Out-of-bag Accuracy: 0.3055\n",
      "R-squared for Train: 0.69\n",
      "R-squared for Test: 0.35\n",
      "Mean Absolute Error: 24.2 cases.\n",
      "Average number of cases: 34.85 cases.\n"
     ]
    }
   ],
   "source": [
    "# predition with only cases\n",
    "rf.fit(X_train.cases.values.reshape(-1,1), y_train)\n",
    "print(\"Out-of-bag Accuracy: %.4f\" % rf.oob_score_)\n",
    "print(\"R-squared for Train: %.2f\" % rf.score(X_train.cases.values.reshape(-1,1), y_train))\n",
    "print(\"R-squared for Test: %.2f\" % rf.score(X_test.cases.values.reshape(-1,1), y_test))\n",
    "y_pred = rf.predict(X_test.cases.values.reshape(-1,1))\n",
    "# Calculate the absolute errors\n",
    "mae = round(np.mean(abs(y_pred - y_test)),2)\n",
    "mean_cases = round(np.mean(y_test),2)\n",
    "# Print out the mean absolute error (mae)\n",
    "print('Mean Absolute Error:', mae, 'cases.')\n",
    "print('Average number of cases:', mean_cases, 'cases.')"
   ]
  },
  {
   "cell_type": "markdown",
   "metadata": {},
   "source": [
    "If we do our prediction using only the number of cases in the past 7 days, we can see tht our prediction accuracy drops significantly. The R-squared in the test set drops to 0.35, and the mean absolute error goes up to 24 cases. So, while the number of cases are an important predictor, the other predictors provide a very important contribution as well."
   ]
  },
  {
   "cell_type": "markdown",
   "metadata": {},
   "source": [
    "### Gradient Boosting"
   ]
  },
  {
   "cell_type": "code",
   "execution_count": 13,
   "metadata": {},
   "outputs": [
    {
     "name": "stdout",
     "output_type": "stream",
     "text": [
      "Fitting 3 folds for each of 200 candidates, totalling 600 fits\n"
     ]
    },
    {
     "name": "stderr",
     "output_type": "stream",
     "text": [
      "[Parallel(n_jobs=-1)]: Using backend LokyBackend with 4 concurrent workers.\n",
      "[Parallel(n_jobs=-1)]: Done  33 tasks      | elapsed:    9.4s\n",
      "[Parallel(n_jobs=-1)]: Done 154 tasks      | elapsed:   31.0s\n",
      "[Parallel(n_jobs=-1)]: Done 357 tasks      | elapsed:  1.2min\n",
      "[Parallel(n_jobs=-1)]: Done 600 out of 600 | elapsed:  2.0min finished\n"
     ]
    },
    {
     "data": {
      "text/plain": [
       "{'n_estimators': 1000,\n",
       " 'min_samples_split': 7,\n",
       " 'min_samples_leaf': 2,\n",
       " 'max_depth': 2,\n",
       " 'learning_rate': 0.1}"
      ]
     },
     "execution_count": 13,
     "metadata": {},
     "output_type": "execute_result"
    }
   ],
   "source": [
    "# cases\n",
    "gb_hyperparameters = {\n",
    "    \"n_estimators\": [10, 50, 100, 200, 500, 1000],\n",
    "    \"min_samples_split\" : [2, 5, 7],\n",
    "    'learning_rate': [0.01, 0.05, 0.1, 0.2],\n",
    "    \"min_samples_leaf\": [1, 2, 3],\n",
    "    \"max_depth\":[2,3,5,10]\n",
    "}\n",
    "\n",
    "#rf_random = RandomizedSearchCV(estimator = rf, \n",
    "#                               param_distributions = random_grid, \n",
    "#                               n_iter = 100, cv = 3, verbose=2, \n",
    "#                               random_state=109, n_jobs = -1)\n",
    "\n",
    "gbr = GradientBoostingRegressor(validation_fraction = 0.3)\n",
    "#gs = GridSearchCV(estimator=gbr, param_grid=gb_hyperparameters, scoring='neg_mean_squared_error', cv=3, n_jobs=-1)\n",
    "gs_random = RandomizedSearchCV(estimator = gbr, \n",
    "                               param_distributions = gb_hyperparameters, \n",
    "                               n_iter = 200, cv = 3, verbose=2, \n",
    "                               random_state=109, n_jobs = -1)\n",
    "gs_random = gs_random.fit(X_train, y_train)\n",
    "\n",
    "gs_random.best_params_"
   ]
  },
  {
   "cell_type": "code",
   "execution_count": 14,
   "metadata": {
    "scrolled": true
   },
   "outputs": [
    {
     "data": {
      "text/plain": [
       "GradientBoostingRegressor(alpha=0.9, criterion='friedman_mse', init=None,\n",
       "                          learning_rate=0.1, loss='ls', max_depth=2,\n",
       "                          max_features=None, max_leaf_nodes=None,\n",
       "                          min_impurity_decrease=0.0, min_impurity_split=None,\n",
       "                          min_samples_leaf=2, min_samples_split=7,\n",
       "                          min_weight_fraction_leaf=0.0, n_estimators=1000,\n",
       "                          n_iter_no_change=None, presort='auto',\n",
       "                          random_state=None, subsample=1.0, tol=0.0001,\n",
       "                          validation_fraction=0.3, verbose=0, warm_start=False)"
      ]
     },
     "execution_count": 14,
     "metadata": {},
     "output_type": "execute_result"
    }
   ],
   "source": [
    "gbr = gs_random.best_estimator_\n",
    "gbr.fit(X_train, y_train)"
   ]
  },
  {
   "cell_type": "code",
   "execution_count": 15,
   "metadata": {},
   "outputs": [
    {
     "name": "stdout",
     "output_type": "stream",
     "text": [
      "R-squared for Train: 1.00\n",
      "R-squared for Test: 0.74\n",
      "Mean Absolute Error: 17.84 cases.\n",
      "Average number of cases: 34.85 cases.\n"
     ]
    }
   ],
   "source": [
    "print(\"R-squared for Train: %.2f\" % gbr.score(X_train, y_train))\n",
    "print(\"R-squared for Test: %.2f\" % gbr.score(X_test, y_test))\n",
    "y_pred = gbr.predict(X_test)\n",
    "# Calculate the absolute errors\n",
    "mae = round(np.mean(abs(y_pred - y_test)),2)\n",
    "mean_cases = round(np.mean(y_test),2)\n",
    "# Print out the mean absolute error (mae)\n",
    "print('Mean Absolute Error:', mae, 'cases.')\n",
    "print('Average number of cases:', mean_cases, 'cases.')"
   ]
  },
  {
   "cell_type": "code",
   "execution_count": 16,
   "metadata": {
    "scrolled": true
   },
   "outputs": [
    {
     "data": {
      "text/html": [
       "<div>\n",
       "<style scoped>\n",
       "    .dataframe tbody tr th:only-of-type {\n",
       "        vertical-align: middle;\n",
       "    }\n",
       "\n",
       "    .dataframe tbody tr th {\n",
       "        vertical-align: top;\n",
       "    }\n",
       "\n",
       "    .dataframe thead th {\n",
       "        text-align: right;\n",
       "    }\n",
       "</style>\n",
       "<table border=\"1\" class=\"dataframe\">\n",
       "  <thead>\n",
       "    <tr style=\"text-align: right;\">\n",
       "      <th></th>\n",
       "      <th>variables</th>\n",
       "      <th>importance</th>\n",
       "    </tr>\n",
       "  </thead>\n",
       "  <tbody>\n",
       "    <tr>\n",
       "      <td>0</td>\n",
       "      <td>cases</td>\n",
       "      <td>0.605545</td>\n",
       "    </tr>\n",
       "    <tr>\n",
       "      <td>16</td>\n",
       "      <td>mslPresMax</td>\n",
       "      <td>0.074541</td>\n",
       "    </tr>\n",
       "    <tr>\n",
       "      <td>64</td>\n",
       "      <td>pop_2018</td>\n",
       "      <td>0.059113</td>\n",
       "    </tr>\n",
       "    <tr>\n",
       "      <td>15</td>\n",
       "      <td>mslPresAvg</td>\n",
       "      <td>0.054087</td>\n",
       "    </tr>\n",
       "    <tr>\n",
       "      <td>61</td>\n",
       "      <td>grocery_and_pharmacy_percent_change_from_baseline</td>\n",
       "      <td>0.043284</td>\n",
       "    </tr>\n",
       "    <tr>\n",
       "      <td>14</td>\n",
       "      <td>mslPresMin</td>\n",
       "      <td>0.035899</td>\n",
       "    </tr>\n",
       "    <tr>\n",
       "      <td>1</td>\n",
       "      <td>deaths</td>\n",
       "      <td>0.023969</td>\n",
       "    </tr>\n",
       "    <tr>\n",
       "      <td>18</td>\n",
       "      <td>presTendMin</td>\n",
       "      <td>0.015337</td>\n",
       "    </tr>\n",
       "    <tr>\n",
       "      <td>59</td>\n",
       "      <td>workplaces_percent_change_from_baseline</td>\n",
       "      <td>0.011430</td>\n",
       "    </tr>\n",
       "    <tr>\n",
       "      <td>30</td>\n",
       "      <td>sfcPresMax</td>\n",
       "      <td>0.006168</td>\n",
       "    </tr>\n",
       "  </tbody>\n",
       "</table>\n",
       "</div>"
      ],
      "text/plain": [
       "                                            variables  importance\n",
       "0                                               cases    0.605545\n",
       "16                                         mslPresMax    0.074541\n",
       "64                                           pop_2018    0.059113\n",
       "15                                         mslPresAvg    0.054087\n",
       "61  grocery_and_pharmacy_percent_change_from_baseline    0.043284\n",
       "14                                         mslPresMin    0.035899\n",
       "1                                              deaths    0.023969\n",
       "18                                        presTendMin    0.015337\n",
       "59            workplaces_percent_change_from_baseline    0.011430\n",
       "30                                         sfcPresMax    0.006168"
      ]
     },
     "execution_count": 16,
     "metadata": {},
     "output_type": "execute_result"
    }
   ],
   "source": [
    "pd.concat((pd.DataFrame(X_train.columns, columns = ['variables']), \n",
    "           pd.DataFrame(gbr.feature_importances_, columns = ['importance'])), \n",
    "          axis = 1).sort_values(by='importance', ascending = False)[:10]\n"
   ]
  },
  {
   "cell_type": "markdown",
   "metadata": {},
   "source": [
    "We used a similar approach for our boosted trees model, doing a random search for the best hyperparameters using 3-fold cross-validation. The final model has an R-squared in the test dataset of around 0.74, better than the random forest model.\n",
    "\n",
    "We can also see a similar pattern as before when looking at the variable importance: the main variable in importance is the number of cases, around 0.6. This is lower than with the random forest model, suggesting that the gradient boosting model is able to extract information better from the other variables."
   ]
  },
  {
   "cell_type": "markdown",
   "metadata": {},
   "source": [
    "## Predicting Early Day Deaths"
   ]
  },
  {
   "cell_type": "code",
   "execution_count": 17,
   "metadata": {},
   "outputs": [],
   "source": [
    "y = df.day_10_delta_deaths\n",
    "X_train, X_test, y_train, y_test = train_test_split(X, y, test_size=0.2, random_state=109)"
   ]
  },
  {
   "cell_type": "code",
   "execution_count": 18,
   "metadata": {},
   "outputs": [
    {
     "name": "stdout",
     "output_type": "stream",
     "text": [
      "Fitting 3 folds for each of 200 candidates, totalling 600 fits\n"
     ]
    },
    {
     "name": "stderr",
     "output_type": "stream",
     "text": [
      "[Parallel(n_jobs=-1)]: Using backend LokyBackend with 4 concurrent workers.\n",
      "[Parallel(n_jobs=-1)]: Done  33 tasks      | elapsed:    8.5s\n",
      "[Parallel(n_jobs=-1)]: Done 154 tasks      | elapsed:   30.3s\n",
      "[Parallel(n_jobs=-1)]: Done 357 tasks      | elapsed:  1.1min\n",
      "[Parallel(n_jobs=-1)]: Done 600 out of 600 | elapsed:  1.7min finished\n"
     ]
    },
    {
     "data": {
      "text/plain": [
       "{'n_estimators': 50,\n",
       " 'min_samples_split': 2,\n",
       " 'min_samples_leaf': 5,\n",
       " 'max_depth': 3}"
      ]
     },
     "execution_count": 18,
     "metadata": {},
     "output_type": "execute_result"
    }
   ],
   "source": [
    "rf = RandomForestRegressor(max_features='auto', oob_score=True, random_state=1, n_jobs=-1)\n",
    "param_grid = { \"min_samples_leaf\" : [1, 5, 10], \"min_samples_split\" : [2, 4, 8, 12], \"n_estimators\": [10, 50, 100, 200, 500, 1000], \"max_depth\": [2,3,5,10]}\n",
    "#gs = GridSearchCV(estimator=rf, param_grid=param_grid, scoring='neg_mean_squared_error', cv=3, n_jobs=-1)\n",
    "gs = RandomizedSearchCV(estimator = gbr, \n",
    "                               param_distributions = param_grid, \n",
    "                               n_iter = 200, cv = 3, verbose=2, \n",
    "                               random_state=109, n_jobs = -1)\n",
    "\n",
    "gs = gs.fit(X_train, y_train)\n",
    "\n",
    "gs.best_params_"
   ]
  },
  {
   "cell_type": "code",
   "execution_count": 19,
   "metadata": {},
   "outputs": [
    {
     "name": "stdout",
     "output_type": "stream",
     "text": [
      "R-squared for Train: 0.81\n",
      "R-squared for Test: 0.48\n",
      "Mean Absolute Error: 48.77 cases.\n",
      "Average number of cases: 0.93 cases.\n"
     ]
    }
   ],
   "source": [
    "rf = gs.best_estimator_\n",
    "rf.fit(X_train, y_train)\n",
    "print(\"R-squared for Train: %.2f\" % rf.score(X_train, y_train))\n",
    "print(\"R-squared for Test: %.2f\" % rf.score(X_test, y_test))\n",
    "y_pred = gbr.predict(X_test)\n",
    "# Calculate the absolute errors\n",
    "mae = round(np.mean(abs(y_pred - y_test)),2)\n",
    "mean_cases = round(np.mean(y_test),2)\n",
    "# Print out the mean absolute error (mae)\n",
    "print('Mean Absolute Error:', mae, 'cases.')\n",
    "print('Average number of cases:', mean_cases, 'cases.')"
   ]
  },
  {
   "cell_type": "markdown",
   "metadata": {},
   "source": [
    "We can see that predicting deaths is much harder, with a much lower R-squared, and a huge absolute error compared to the average number of cases. This is likely because the number of deaths is very small at that point, with many counties reporting zero deaths."
   ]
  },
  {
   "cell_type": "code",
   "execution_count": 20,
   "metadata": {},
   "outputs": [
    {
     "data": {
      "text/html": [
       "<div>\n",
       "<style scoped>\n",
       "    .dataframe tbody tr th:only-of-type {\n",
       "        vertical-align: middle;\n",
       "    }\n",
       "\n",
       "    .dataframe tbody tr th {\n",
       "        vertical-align: top;\n",
       "    }\n",
       "\n",
       "    .dataframe thead th {\n",
       "        text-align: right;\n",
       "    }\n",
       "</style>\n",
       "<table border=\"1\" class=\"dataframe\">\n",
       "  <thead>\n",
       "    <tr style=\"text-align: right;\">\n",
       "      <th></th>\n",
       "      <th>variables</th>\n",
       "      <th>importance</th>\n",
       "    </tr>\n",
       "  </thead>\n",
       "  <tbody>\n",
       "    <tr>\n",
       "      <td>0</td>\n",
       "      <td>cases</td>\n",
       "      <td>0.564631</td>\n",
       "    </tr>\n",
       "    <tr>\n",
       "      <td>1</td>\n",
       "      <td>deaths</td>\n",
       "      <td>0.134406</td>\n",
       "    </tr>\n",
       "    <tr>\n",
       "      <td>16</td>\n",
       "      <td>mslPresMax</td>\n",
       "      <td>0.029837</td>\n",
       "    </tr>\n",
       "    <tr>\n",
       "      <td>64</td>\n",
       "      <td>pop_2018</td>\n",
       "      <td>0.028235</td>\n",
       "    </tr>\n",
       "    <tr>\n",
       "      <td>59</td>\n",
       "      <td>workplaces_percent_change_from_baseline</td>\n",
       "      <td>0.022060</td>\n",
       "    </tr>\n",
       "    <tr>\n",
       "      <td>26</td>\n",
       "      <td>relHumAvg</td>\n",
       "      <td>0.014520</td>\n",
       "    </tr>\n",
       "    <tr>\n",
       "      <td>63</td>\n",
       "      <td>income_2018</td>\n",
       "      <td>0.013389</td>\n",
       "    </tr>\n",
       "    <tr>\n",
       "      <td>52</td>\n",
       "      <td>windSpd100mAvg</td>\n",
       "      <td>0.012074</td>\n",
       "    </tr>\n",
       "    <tr>\n",
       "      <td>19</td>\n",
       "      <td>presTendAvg</td>\n",
       "      <td>0.011808</td>\n",
       "    </tr>\n",
       "    <tr>\n",
       "      <td>39</td>\n",
       "      <td>windChillMin</td>\n",
       "      <td>0.011633</td>\n",
       "    </tr>\n",
       "  </tbody>\n",
       "</table>\n",
       "</div>"
      ],
      "text/plain": [
       "                                  variables  importance\n",
       "0                                     cases    0.564631\n",
       "1                                    deaths    0.134406\n",
       "16                               mslPresMax    0.029837\n",
       "64                                 pop_2018    0.028235\n",
       "59  workplaces_percent_change_from_baseline    0.022060\n",
       "26                                relHumAvg    0.014520\n",
       "63                              income_2018    0.013389\n",
       "52                           windSpd100mAvg    0.012074\n",
       "19                              presTendAvg    0.011808\n",
       "39                             windChillMin    0.011633"
      ]
     },
     "execution_count": 20,
     "metadata": {},
     "output_type": "execute_result"
    }
   ],
   "source": [
    "pd.concat((pd.DataFrame(X_train.columns, columns = ['variables']), \n",
    "           pd.DataFrame(rf.feature_importances_, columns = ['importance'])), \n",
    "          axis = 1).sort_values(by='importance', ascending = False)[:10]\n"
   ]
  },
  {
   "cell_type": "markdown",
   "metadata": {},
   "source": [
    "## Predicting Later Day Cases"
   ]
  },
  {
   "cell_type": "markdown",
   "metadata": {},
   "source": [
    "### random forest"
   ]
  },
  {
   "cell_type": "code",
   "execution_count": 21,
   "metadata": {},
   "outputs": [
    {
     "data": {
      "text/plain": [
       "(215, 67)"
      ]
     },
     "execution_count": 21,
     "metadata": {},
     "output_type": "execute_result"
    }
   ],
   "source": [
    "df = get_data.get_model_data(date_range=(20,27), pred_day=30)\n",
    "df = df._get_numeric_data().drop(['fips'],axis=1).dropna()\n",
    "df.shape\n",
    "# 30,37, 40 only leaves 20 rows"
   ]
  },
  {
   "cell_type": "markdown",
   "metadata": {},
   "source": [
    "Here we focus on predicting the number of cases on day 30th, using data from days 20 to 27. We can see that we only have 215 counties left in our dataset, because some counties have not had a large enough number of cases to have data on day 30. In other words, some counties had their 10th case less than 30 days before the end of our dataset."
   ]
  },
  {
   "cell_type": "code",
   "execution_count": 22,
   "metadata": {},
   "outputs": [],
   "source": [
    "X = df.drop(['day_30_delta_cases','day_30_delta_deaths'], axis = 1)\n",
    "y = df.day_30_delta_cases\n",
    "\n",
    "X_train, X_test, y_train, y_test = train_test_split(X, y, test_size=0.2, random_state=42)"
   ]
  },
  {
   "cell_type": "code",
   "execution_count": 23,
   "metadata": {},
   "outputs": [],
   "source": [
    "random_grid = {'max_depth': [1, 3, 5, None],\n",
    "              'max_features': ['auto', 'sqrt'],\n",
    "             'min_samples_leaf': [1, 5, 10],\n",
    "             'min_samples_split': [2, 4, 8, 12],\n",
    "             'n_estimators': [10, 50, 100, 200, 500]}"
   ]
  },
  {
   "cell_type": "code",
   "execution_count": 24,
   "metadata": {},
   "outputs": [
    {
     "name": "stdout",
     "output_type": "stream",
     "text": [
      "Fitting 3 folds for each of 100 candidates, totalling 300 fits\n"
     ]
    },
    {
     "name": "stderr",
     "output_type": "stream",
     "text": [
      "[Parallel(n_jobs=-1)]: Using backend LokyBackend with 4 concurrent workers.\n",
      "[Parallel(n_jobs=-1)]: Done  33 tasks      | elapsed:    4.7s\n",
      "[Parallel(n_jobs=-1)]: Done 154 tasks      | elapsed:   17.7s\n",
      "[Parallel(n_jobs=-1)]: Done 300 out of 300 | elapsed:   35.1s finished\n"
     ]
    },
    {
     "data": {
      "text/plain": [
       "{'n_estimators': 500,\n",
       " 'min_samples_split': 2,\n",
       " 'min_samples_leaf': 1,\n",
       " 'max_features': 'auto',\n",
       " 'max_depth': None}"
      ]
     },
     "execution_count": 24,
     "metadata": {},
     "output_type": "execute_result"
    }
   ],
   "source": [
    "rf = RandomForestRegressor(oob_score=True)\n",
    "rf_random = RandomizedSearchCV(estimator = rf, \n",
    "                               param_distributions = random_grid, \n",
    "                               n_iter = 100, cv = 3, verbose=2, \n",
    "                               random_state=109, n_jobs = -1)\n",
    "rf_random.fit(X_train, y_train)\n",
    "rf_random.best_params_"
   ]
  },
  {
   "cell_type": "code",
   "execution_count": 25,
   "metadata": {},
   "outputs": [
    {
     "name": "stdout",
     "output_type": "stream",
     "text": [
      "Out-of-bag Accuracy: 0.6718\n",
      "R-squared for Train: 0.96\n",
      "R-squared for Test: 0.7843\n",
      "Mean Absolute Error: 298.77 cases.\n",
      "Average number of cases: 301.26 cases.\n"
     ]
    }
   ],
   "source": [
    "rf = rf_random.best_estimator_\n",
    "rf.fit(X_train, y_train)\n",
    "print(\"Out-of-bag Accuracy: %.4f\" % rf.oob_score_)\n",
    "print(\"R-squared for Train: %.2f\" % rf.score(X_train, y_train))\n",
    "print(\"R-squared for Test: %.4f\" % rf.score(X_test, y_test))\n",
    "y_pred = gbr.predict(X_test)\n",
    "# Calculate the absolute errors\n",
    "mae = round(np.mean(abs(y_pred - y_test)),2)\n",
    "mean_cases = round(np.mean(y_test),2)\n",
    "# Print out the mean absolute error (mae)\n",
    "print('Mean Absolute Error:', mae, 'cases.')\n",
    "print('Average number of cases:', mean_cases, 'cases.')"
   ]
  },
  {
   "cell_type": "markdown",
   "metadata": {},
   "source": [
    "We can see that the random forest model for the late days is more accurate than for the early days (0.73 for the late days compared to 0.67 for the early dats). This makes sense: as discussed earlier for the GLM model, the late days have a larger number of cases, which means that stochastic effects play a smaller role. In other words, the data about number of cases is less noisy for late days compared to early days.\n",
    "\n",
    "Of course, the mean absolute error is larger, since the absolute number of cases is much larger in the late days."
   ]
  },
  {
   "cell_type": "code",
   "execution_count": 26,
   "metadata": {},
   "outputs": [
    {
     "data": {
      "text/html": [
       "<div>\n",
       "<style scoped>\n",
       "    .dataframe tbody tr th:only-of-type {\n",
       "        vertical-align: middle;\n",
       "    }\n",
       "\n",
       "    .dataframe tbody tr th {\n",
       "        vertical-align: top;\n",
       "    }\n",
       "\n",
       "    .dataframe thead th {\n",
       "        text-align: right;\n",
       "    }\n",
       "</style>\n",
       "<table border=\"1\" class=\"dataframe\">\n",
       "  <thead>\n",
       "    <tr style=\"text-align: right;\">\n",
       "      <th></th>\n",
       "      <th>variables</th>\n",
       "      <th>importance</th>\n",
       "    </tr>\n",
       "  </thead>\n",
       "  <tbody>\n",
       "    <tr>\n",
       "      <td>0</td>\n",
       "      <td>cases</td>\n",
       "      <td>0.605545</td>\n",
       "    </tr>\n",
       "    <tr>\n",
       "      <td>16</td>\n",
       "      <td>mslPresMax</td>\n",
       "      <td>0.074541</td>\n",
       "    </tr>\n",
       "    <tr>\n",
       "      <td>64</td>\n",
       "      <td>pop_2018</td>\n",
       "      <td>0.059113</td>\n",
       "    </tr>\n",
       "    <tr>\n",
       "      <td>15</td>\n",
       "      <td>mslPresAvg</td>\n",
       "      <td>0.054087</td>\n",
       "    </tr>\n",
       "    <tr>\n",
       "      <td>61</td>\n",
       "      <td>grocery_and_pharmacy_percent_change_from_baseline</td>\n",
       "      <td>0.043284</td>\n",
       "    </tr>\n",
       "    <tr>\n",
       "      <td>14</td>\n",
       "      <td>mslPresMin</td>\n",
       "      <td>0.035899</td>\n",
       "    </tr>\n",
       "    <tr>\n",
       "      <td>1</td>\n",
       "      <td>deaths</td>\n",
       "      <td>0.023969</td>\n",
       "    </tr>\n",
       "    <tr>\n",
       "      <td>18</td>\n",
       "      <td>presTendMin</td>\n",
       "      <td>0.015337</td>\n",
       "    </tr>\n",
       "    <tr>\n",
       "      <td>59</td>\n",
       "      <td>workplaces_percent_change_from_baseline</td>\n",
       "      <td>0.011430</td>\n",
       "    </tr>\n",
       "    <tr>\n",
       "      <td>30</td>\n",
       "      <td>sfcPresMax</td>\n",
       "      <td>0.006168</td>\n",
       "    </tr>\n",
       "  </tbody>\n",
       "</table>\n",
       "</div>"
      ],
      "text/plain": [
       "                                            variables  importance\n",
       "0                                               cases    0.605545\n",
       "16                                         mslPresMax    0.074541\n",
       "64                                           pop_2018    0.059113\n",
       "15                                         mslPresAvg    0.054087\n",
       "61  grocery_and_pharmacy_percent_change_from_baseline    0.043284\n",
       "14                                         mslPresMin    0.035899\n",
       "1                                              deaths    0.023969\n",
       "18                                        presTendMin    0.015337\n",
       "59            workplaces_percent_change_from_baseline    0.011430\n",
       "30                                         sfcPresMax    0.006168"
      ]
     },
     "execution_count": 26,
     "metadata": {},
     "output_type": "execute_result"
    }
   ],
   "source": [
    "pd.concat((pd.DataFrame(X_train.columns, columns = ['variables']), \n",
    "           pd.DataFrame(gbr.feature_importances_, columns = ['importance'])), \n",
    "          axis = 1).sort_values(by='importance', ascending = False)[:10]"
   ]
  },
  {
   "cell_type": "markdown",
   "metadata": {},
   "source": [
    "### gradient boosting"
   ]
  },
  {
   "cell_type": "code",
   "execution_count": 27,
   "metadata": {},
   "outputs": [
    {
     "name": "stdout",
     "output_type": "stream",
     "text": [
      "Fitting 3 folds for each of 200 candidates, totalling 600 fits\n"
     ]
    },
    {
     "name": "stderr",
     "output_type": "stream",
     "text": [
      "[Parallel(n_jobs=-1)]: Using backend LokyBackend with 4 concurrent workers.\n",
      "[Parallel(n_jobs=-1)]: Done  49 tasks      | elapsed:    4.8s\n",
      "[Parallel(n_jobs=-1)]: Done 210 tasks      | elapsed:   18.8s\n",
      "[Parallel(n_jobs=-1)]: Done 461 tasks      | elapsed:   42.0s\n",
      "[Parallel(n_jobs=-1)]: Done 593 out of 600 | elapsed:   50.1s remaining:    0.6s\n",
      "[Parallel(n_jobs=-1)]: Done 600 out of 600 | elapsed:   50.8s finished\n"
     ]
    },
    {
     "data": {
      "text/plain": [
       "{'n_estimators': 1000,\n",
       " 'min_samples_split': 2,\n",
       " 'min_samples_leaf': 2,\n",
       " 'max_depth': 2,\n",
       " 'learning_rate': 0.1}"
      ]
     },
     "execution_count": 27,
     "metadata": {},
     "output_type": "execute_result"
    }
   ],
   "source": [
    "# cases\n",
    "gb_hyperparameters = {\n",
    "    \"n_estimators\": [10, 50, 100, 200, 500, 1000],\n",
    "    \"min_samples_split\" : [2, 5, 7],\n",
    "    'learning_rate': [0.01, 0.05, 0.1, 0.2],\n",
    "    \"min_samples_leaf\": [1, 2, 3],\n",
    "    \"max_depth\": [2,3,5,10]\n",
    "}\n",
    "\n",
    "gbr = GradientBoostingRegressor(validation_fraction = 0.3)\n",
    "gs= RandomizedSearchCV(estimator = gbr, \n",
    "                               param_distributions = gb_hyperparameters, \n",
    "                               n_iter = 200, cv = 3, verbose=2, \n",
    "                               random_state=109, n_jobs = -1)\n",
    "\n",
    "gs = gs.fit(X_train, y_train)\n",
    "\n",
    "gs.best_params_"
   ]
  },
  {
   "cell_type": "code",
   "execution_count": 28,
   "metadata": {},
   "outputs": [
    {
     "name": "stdout",
     "output_type": "stream",
     "text": [
      "R-squared for Train: 1.00\n",
      "R-squared for Test: 0.81\n",
      "Mean Absolute Error: 143.51 cases.\n",
      "Average number of cases: 301.26 cases.\n"
     ]
    }
   ],
   "source": [
    "gbr = gs.best_estimator_\n",
    "gbr.fit(X_train, y_train)\n",
    "print(\"R-squared for Train: %.2f\" % gbr.score(X_train, y_train))\n",
    "print(\"R-squared for Test: %.2f\" % gbr.score(X_test, y_test))\n",
    "y_pred = gbr.predict(X_test)\n",
    "# Calculate the absolute errors\n",
    "mae = round(np.mean(abs(y_pred - y_test)),2)\n",
    "mean_cases = round(np.mean(y_test),2)\n",
    "# Print out the mean absolute error (mae)\n",
    "print('Mean Absolute Error:', mae, 'cases.')\n",
    "print('Average number of cases:', mean_cases, 'cases.')"
   ]
  },
  {
   "cell_type": "markdown",
   "metadata": {},
   "source": [
    "As before, we can see that the grandient boosted model outperforms the random forest model. And also as before, we can see that the prediction for the late days is much better than for the early days, likely for the reasons mentioned earlier (larger number of cases, lower noise-to-signal).\n",
    "\n",
    "The overall R-squared for this model in the test dataset is around 0.81."
   ]
  },
  {
   "cell_type": "code",
   "execution_count": 29,
   "metadata": {},
   "outputs": [
    {
     "data": {
      "text/html": [
       "<div>\n",
       "<style scoped>\n",
       "    .dataframe tbody tr th:only-of-type {\n",
       "        vertical-align: middle;\n",
       "    }\n",
       "\n",
       "    .dataframe tbody tr th {\n",
       "        vertical-align: top;\n",
       "    }\n",
       "\n",
       "    .dataframe thead th {\n",
       "        text-align: right;\n",
       "    }\n",
       "</style>\n",
       "<table border=\"1\" class=\"dataframe\">\n",
       "  <thead>\n",
       "    <tr style=\"text-align: right;\">\n",
       "      <th></th>\n",
       "      <th>variables</th>\n",
       "      <th>importance</th>\n",
       "    </tr>\n",
       "  </thead>\n",
       "  <tbody>\n",
       "    <tr>\n",
       "      <td>0</td>\n",
       "      <td>cases</td>\n",
       "      <td>0.794419</td>\n",
       "    </tr>\n",
       "    <tr>\n",
       "      <td>17</td>\n",
       "      <td>precip</td>\n",
       "      <td>0.047114</td>\n",
       "    </tr>\n",
       "    <tr>\n",
       "      <td>4</td>\n",
       "      <td>cldCvrMax</td>\n",
       "      <td>0.037183</td>\n",
       "    </tr>\n",
       "    <tr>\n",
       "      <td>26</td>\n",
       "      <td>relHumAvg</td>\n",
       "      <td>0.020789</td>\n",
       "    </tr>\n",
       "    <tr>\n",
       "      <td>64</td>\n",
       "      <td>pop_2018</td>\n",
       "      <td>0.018925</td>\n",
       "    </tr>\n",
       "    <tr>\n",
       "      <td>44</td>\n",
       "      <td>windDir100mAvg</td>\n",
       "      <td>0.015048</td>\n",
       "    </tr>\n",
       "    <tr>\n",
       "      <td>2</td>\n",
       "      <td>cldCvrMin</td>\n",
       "      <td>0.014367</td>\n",
       "    </tr>\n",
       "    <tr>\n",
       "      <td>45</td>\n",
       "      <td>windSpdMin</td>\n",
       "      <td>0.006508</td>\n",
       "    </tr>\n",
       "    <tr>\n",
       "      <td>27</td>\n",
       "      <td>relHumMax</td>\n",
       "      <td>0.006259</td>\n",
       "    </tr>\n",
       "    <tr>\n",
       "      <td>58</td>\n",
       "      <td>residential_percent_change_from_baseline</td>\n",
       "      <td>0.004166</td>\n",
       "    </tr>\n",
       "  </tbody>\n",
       "</table>\n",
       "</div>"
      ],
      "text/plain": [
       "                                   variables  importance\n",
       "0                                      cases    0.794419\n",
       "17                                    precip    0.047114\n",
       "4                                  cldCvrMax    0.037183\n",
       "26                                 relHumAvg    0.020789\n",
       "64                                  pop_2018    0.018925\n",
       "44                            windDir100mAvg    0.015048\n",
       "2                                  cldCvrMin    0.014367\n",
       "45                                windSpdMin    0.006508\n",
       "27                                 relHumMax    0.006259\n",
       "58  residential_percent_change_from_baseline    0.004166"
      ]
     },
     "execution_count": 29,
     "metadata": {},
     "output_type": "execute_result"
    }
   ],
   "source": [
    "pd.concat((pd.DataFrame(X_train.columns, columns = ['variables']), \n",
    "           pd.DataFrame(gbr.feature_importances_, columns = ['importance'])), \n",
    "          axis = 1).sort_values(by='importance', ascending = False)[:10]"
   ]
  },
  {
   "cell_type": "code",
   "execution_count": 30,
   "metadata": {},
   "outputs": [
    {
     "data": {
      "text/plain": [
       "<matplotlib.axes._subplots.AxesSubplot at 0x1246d3310>"
      ]
     },
     "execution_count": 30,
     "metadata": {},
     "output_type": "execute_result"
    },
    {
     "data": {
      "image/png": "[encoded data removed]",
      "text/plain": [
       "<Figure size 432x288 with 1 Axes>"
      ]
     },
     "metadata": {
      "needs_background": "light"
     },
     "output_type": "display_data"
    }
   ],
   "source": [
    "y.hist(bins = 30)"
   ]
  },
  {
   "cell_type": "code",
   "execution_count": 31,
   "metadata": {},
   "outputs": [
    {
     "data": {
      "text/plain": [
       "257.57674418604654"
      ]
     },
     "execution_count": 31,
     "metadata": {},
     "output_type": "execute_result"
    }
   ],
   "source": [
    "y.mean()"
   ]
  },
  {
   "cell_type": "code",
   "execution_count": 32,
   "metadata": {},
   "outputs": [
    {
     "data": {
      "text/plain": [
       "<matplotlib.axes._subplots.AxesSubplot at 0x126b1b390>"
      ]
     },
     "execution_count": 32,
     "metadata": {},
     "output_type": "execute_result"
    },
    {
     "data": {
      "image/png": "[encoded data removed]",
      "text/plain": [
       "<Figure size 432x288 with 1 Axes>"
      ]
     },
     "metadata": {
      "needs_background": "light"
     },
     "output_type": "display_data"
    }
   ],
   "source": [
    "residuals = y_pred - y_test\n",
    "residuals.hist()"
   ]
  },
  {
   "cell_type": "code",
   "execution_count": 33,
   "metadata": {},
   "outputs": [
    {
     "data": {
      "image/png": "[encoded data removed]",
      "text/plain": [
       "<Figure size 432x288 with 1 Axes>"
      ]
     },
     "metadata": {
      "needs_background": "light"
     },
     "output_type": "display_data"
    }
   ],
   "source": [
    "plt.scatter(x=y_pred, y = y_test)\n",
    "#plt.yscale(\"log\")\n",
    "#plt.xscale(\"log\")\n",
    "plt.xlim([0,4000]);\n"
   ]
  },
  {
   "cell_type": "code",
   "execution_count": 34,
   "metadata": {},
   "outputs": [
    {
     "data": {
      "text/plain": [
       "<matplotlib.collections.PathCollection at 0x12444b050>"
      ]
     },
     "execution_count": 34,
     "metadata": {},
     "output_type": "execute_result"
    },
    {
     "data": {
      "image/png": "[encoded data removed]",
      "text/plain": [
       "<Figure size 432x288 with 1 Axes>"
      ]
     },
     "metadata": {
      "needs_background": "light"
     },
     "output_type": "display_data"
    }
   ],
   "source": [
    "plt.scatter(x=y_pred, y = residuals)"
   ]
  },
  {
   "cell_type": "markdown",
   "metadata": {},
   "source": [
    "## Late Day Deaths"
   ]
  },
  {
   "cell_type": "code",
   "execution_count": 35,
   "metadata": {},
   "outputs": [],
   "source": [
    "y = df.day_30_delta_deaths\n",
    "X_train, X_test, y_train, y_test = train_test_split(X, y, test_size=0.2, random_state=42)"
   ]
  },
  {
   "cell_type": "code",
   "execution_count": 36,
   "metadata": {},
   "outputs": [
    {
     "name": "stdout",
     "output_type": "stream",
     "text": [
      "R-squared for Train: 0.99\n",
      "R-squared for Test: 0.61\n",
      "Mean Absolute Error: 8.72 cases.\n"
     ]
    }
   ],
   "source": [
    "gbr = GradientBoostingRegressor(learning_rate = 0.05, min_samples_leaf = 1, min_samples_split= 5, n_estimators = 100)\n",
    "gbr.fit(X_train, y_train)\n",
    "\n",
    "print(\"R-squared for Train: %.2f\" % gbr.score(X_train, y_train))\n",
    "print(\"R-squared for Test: %.2f\" % gbr.score(X_test, y_test))\n",
    "y_pred = gbr.predict(X_test)\n",
    "# Calculate the absolute errors\n",
    "mae = round(np.mean(abs(y_pred - y_test)),2)\n",
    "# Print out the mean absolute error (mae)\n",
    "print('Mean Absolute Error:', mae, 'cases.')"
   ]
  },
  {
   "cell_type": "code",
   "execution_count": 37,
   "metadata": {},
   "outputs": [
    {
     "data": {
      "text/html": [
       "<div>\n",
       "<style scoped>\n",
       "    .dataframe tbody tr th:only-of-type {\n",
       "        vertical-align: middle;\n",
       "    }\n",
       "\n",
       "    .dataframe tbody tr th {\n",
       "        vertical-align: top;\n",
       "    }\n",
       "\n",
       "    .dataframe thead th {\n",
       "        text-align: right;\n",
       "    }\n",
       "</style>\n",
       "<table border=\"1\" class=\"dataframe\">\n",
       "  <thead>\n",
       "    <tr style=\"text-align: right;\">\n",
       "      <th></th>\n",
       "      <th>variables</th>\n",
       "      <th>importance</th>\n",
       "    </tr>\n",
       "  </thead>\n",
       "  <tbody>\n",
       "    <tr>\n",
       "      <td>0</td>\n",
       "      <td>cases</td>\n",
       "      <td>0.742053</td>\n",
       "    </tr>\n",
       "    <tr>\n",
       "      <td>1</td>\n",
       "      <td>deaths</td>\n",
       "      <td>0.082048</td>\n",
       "    </tr>\n",
       "    <tr>\n",
       "      <td>45</td>\n",
       "      <td>windSpdMin</td>\n",
       "      <td>0.047828</td>\n",
       "    </tr>\n",
       "    <tr>\n",
       "      <td>42</td>\n",
       "      <td>windDirAvg</td>\n",
       "      <td>0.027305</td>\n",
       "    </tr>\n",
       "    <tr>\n",
       "      <td>63</td>\n",
       "      <td>income_2018</td>\n",
       "      <td>0.012986</td>\n",
       "    </tr>\n",
       "    <tr>\n",
       "      <td>48</td>\n",
       "      <td>windSpd80mMin</td>\n",
       "      <td>0.011801</td>\n",
       "    </tr>\n",
       "    <tr>\n",
       "      <td>51</td>\n",
       "      <td>windSpd100mMin</td>\n",
       "      <td>0.009023</td>\n",
       "    </tr>\n",
       "    <tr>\n",
       "      <td>17</td>\n",
       "      <td>precip</td>\n",
       "      <td>0.008438</td>\n",
       "    </tr>\n",
       "    <tr>\n",
       "      <td>44</td>\n",
       "      <td>windDir100mAvg</td>\n",
       "      <td>0.008051</td>\n",
       "    </tr>\n",
       "    <tr>\n",
       "      <td>36</td>\n",
       "      <td>tempMin</td>\n",
       "      <td>0.007990</td>\n",
       "    </tr>\n",
       "  </tbody>\n",
       "</table>\n",
       "</div>"
      ],
      "text/plain": [
       "         variables  importance\n",
       "0            cases    0.742053\n",
       "1           deaths    0.082048\n",
       "45      windSpdMin    0.047828\n",
       "42      windDirAvg    0.027305\n",
       "63     income_2018    0.012986\n",
       "48   windSpd80mMin    0.011801\n",
       "51  windSpd100mMin    0.009023\n",
       "17          precip    0.008438\n",
       "44  windDir100mAvg    0.008051\n",
       "36         tempMin    0.007990"
      ]
     },
     "execution_count": 37,
     "metadata": {},
     "output_type": "execute_result"
    }
   ],
   "source": [
    "pd.concat((pd.DataFrame(X_train.columns, columns = ['variables']), \n",
    "           pd.DataFrame(gbr.feature_importances_, columns = ['importance'])), \n",
    "          axis = 1).sort_values(by='importance', ascending = False)[:10]"
   ]
  },
  {
   "cell_type": "code",
   "execution_count": null,
   "metadata": {},
   "outputs": [],
   "source": []
  }
 ],
 "metadata": {
  "kernelspec": {
   "display_name": "Python 3",
   "language": "python",
   "name": "python3"
  },
  "language_info": {
   "codemirror_mode": {
    "name": "ipython",
    "version": 3
   },
   "file_extension": ".py",
   "mimetype": "text/x-python",
   "name": "python",
   "nbconvert_exporter": "python",
   "pygments_lexer": "ipython3",
   "version": "3.7.4"
  }
 },
 "nbformat": 4,
 "nbformat_minor": 4
}
