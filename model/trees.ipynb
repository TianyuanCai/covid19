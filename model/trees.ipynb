{
 "cells": [
  {
   "cell_type": "markdown",
   "metadata": {},
   "source": [
    "- Gradient boosting is better than random forest.\n",
    "- the best_params is not from the grid-search but from manual tries.\n",
    "- Predicting cases:\n",
    "    - cases is most important\n",
    "    - adding other predictors increases R-square\n",
    "- predicting dases:\n",
    "    - cases is still the most important\n",
    "- early days v.s. recent days\n",
    "    - accuracy is better for recent days prediction\n",
    "    - the importance of deaths when predicting deaths has increased over time."
   ]
  },
  {
   "cell_type": "markdown",
   "metadata": {},
   "source": [
    "## Predicting Early Day Cases"
   ]
  },
  {
   "cell_type": "markdown",
   "metadata": {},
   "source": [
    "### Random Forest"
   ]
  },
  {
   "cell_type": "code",
   "execution_count": 174,
   "metadata": {},
   "outputs": [],
   "source": [
    "import pandas as pd\n",
    "import numpy as np\n",
    "import matplotlib.pyplot as plt\n",
    "import seaborn as sns\n",
    "import time\n",
    "from sklearn.model_selection import train_test_split\n",
    "from sklearn.ensemble import RandomForestRegressor, GradientBoostingRegressor\n",
    "from sklearn.model_selection import GridSearchCV, RandomizedSearchCV\n",
    "import warnings\n",
    "warnings.filterwarnings(\"ignore\")\n",
    "\n",
    "import sys\n",
    "sys.path.append('../.')\n",
    "from lib import get_data"
   ]
  },
  {
   "cell_type": "code",
   "execution_count": 217,
   "metadata": {},
   "outputs": [],
   "source": [
    "df = get_data.get_model_data(date_range=(0,7), pred_day=10)\n",
    "df = df._get_numeric_data().drop(['fips'],axis=1).dropna()"
   ]
  },
  {
   "cell_type": "code",
   "execution_count": 218,
   "metadata": {},
   "outputs": [],
   "source": [
    "X = df.drop(['day_10_delta_cases','day_10_delta_deaths'], axis = 1)\n",
    "y = df.day_10_delta_cases\n",
    "\n",
    "X_train, X_test, y_train, y_test = train_test_split(X, y, test_size=0.2, random_state=42)"
   ]
  },
  {
   "cell_type": "code",
   "execution_count": 177,
   "metadata": {},
   "outputs": [],
   "source": [
    "random_grid = {'max_depth': [1, 3, 5, None],\n",
    "              'max_features': ['auto', 'sqrt'],\n",
    "             'min_samples_leaf': [1, 5, 10],\n",
    "             'min_samples_split': [2, 4, 8, 12],\n",
    "             'n_estimators': [10, 50, 100, 200, 500]}"
   ]
  },
  {
   "cell_type": "code",
   "execution_count": 180,
   "metadata": {},
   "outputs": [
    {
     "name": "stdout",
     "output_type": "stream",
     "text": [
      "Fitting 3 folds for each of 100 candidates, totalling 300 fits\n"
     ]
    },
    {
     "name": "stderr",
     "output_type": "stream",
     "text": [
      "[Parallel(n_jobs=-1)]: Using backend LokyBackend with 4 concurrent workers.\n",
      "[Parallel(n_jobs=-1)]: Done  33 tasks      | elapsed:    8.2s\n",
      "[Parallel(n_jobs=-1)]: Done 154 tasks      | elapsed:   25.0s\n",
      "[Parallel(n_jobs=-1)]: Done 300 out of 300 | elapsed:   48.9s finished\n"
     ]
    },
    {
     "data": {
      "text/plain": [
       "{'n_estimators': 100,\n",
       " 'min_samples_split': 2,\n",
       " 'min_samples_leaf': 1,\n",
       " 'max_features': 'auto',\n",
       " 'max_depth': 5}"
      ]
     },
     "execution_count": 180,
     "metadata": {},
     "output_type": "execute_result"
    }
   ],
   "source": [
    "rf = RandomForestRegressor(oob_score=True)\n",
    "rf_random = RandomizedSearchCV(estimator = rf, \n",
    "                               param_distributions = random_grid, \n",
    "                               n_iter = 100, cv = 3, verbose=2, \n",
    "                               random_state=109, n_jobs = -1)\n",
    "rf_random.fit(X_train, y_train)\n",
    "rf_random.best_params_"
   ]
  },
  {
   "cell_type": "code",
   "execution_count": 181,
   "metadata": {},
   "outputs": [
    {
     "name": "stdout",
     "output_type": "stream",
     "text": [
      "Out-of-bag Accuracy: 0.6716\n",
      "R-squared for Train: 0.92\n",
      "R-squared for Test: 0.5757\n"
     ]
    }
   ],
   "source": [
    "rf = rf_random.best_estimator_\n",
    "rf.fit(X_train, y_train)\n",
    "print(\"Out-of-bag Accuracy: %.4f\" % rf.oob_score_)\n",
    "print(\"R-squared for Train: %.2f\" % rf.score(X_train, y_train))\n",
    "print(\"R-squared for Test: %.4f\" % rf.score(X_test, y_test))"
   ]
  },
  {
   "attachments": {},
   "cell_type": "markdown",
   "metadata": {},
   "source": [
    "Using randomized search for hyperparameter tuning, random forest regressor with the best parameters gave us R-square of 0.92 for taining set, and R-square of 0.57 for testing set. The model is overfitting quite a bit on the training set, but the selected parameters narrow down the search scope for further hyperparameter tuning."
   ]
  },
  {
   "cell_type": "code",
   "execution_count": 182,
   "metadata": {},
   "outputs": [],
   "source": [
    "param_grid = {'min_samples_leaf': [1, 2, 3],\n",
    "             'min_samples_split': [1, 2, 3],}"
   ]
  },
  {
   "cell_type": "code",
   "execution_count": 183,
   "metadata": {},
   "outputs": [
    {
     "data": {
      "text/plain": [
       "{'min_samples_leaf': 3, 'min_samples_split': 2}"
      ]
     },
     "execution_count": 183,
     "metadata": {},
     "output_type": "execute_result"
    }
   ],
   "source": [
    "# n_estimators = 10 yields the best results\n",
    "rf = RandomForestRegressor(n_estimators = 10, max_features = 'auto', max_depth = None, oob_score=True, random_state=109)\n",
    "rf_gs = GridSearchCV(estimator=rf, param_grid=param_grid, scoring='neg_mean_squared_error', cv=3, n_jobs=-1)\n",
    "rf_gs.fit(X_train, y_train)\n",
    "\n",
    "rf_gs.best_params_"
   ]
  },
  {
   "cell_type": "code",
   "execution_count": 185,
   "metadata": {},
   "outputs": [
    {
     "name": "stdout",
     "output_type": "stream",
     "text": [
      "Out-of-bag Accuracy: 0.6097\n",
      "R-squared for Train: 0.91\n",
      "R-squared for Test: 0.6360\n",
      "Mean Absolute Error: 16.68 cases.\n"
     ]
    }
   ],
   "source": [
    "rf = rf_gs.best_estimator_\n",
    "rf.fit(X_train, y_train)\n",
    "print(\"Out-of-bag Accuracy: %.4f\" % rf.oob_score_)\n",
    "print(\"R-squared for Train: %.2f\" % rf.score(X_train, y_train))\n",
    "print(\"R-squared for Test: %.4f\" % rf.score(X_test, y_test))\n",
    "\n",
    "y_pred = rf.predict(X_test)\n",
    "# Calculate the absolute errors\n",
    "mae = round(np.mean(abs(y_pred - y_test)),2)\n",
    "# Print out the mean absolute error (mae)\n",
    "print('Mean Absolute Error:', mae, 'cases.')"
   ]
  },
  {
   "cell_type": "code",
   "execution_count": 137,
   "metadata": {},
   "outputs": [
    {
     "data": {
      "text/html": [
       "<div>\n",
       "<style scoped>\n",
       "    .dataframe tbody tr th:only-of-type {\n",
       "        vertical-align: middle;\n",
       "    }\n",
       "\n",
       "    .dataframe tbody tr th {\n",
       "        vertical-align: top;\n",
       "    }\n",
       "\n",
       "    .dataframe thead th {\n",
       "        text-align: right;\n",
       "    }\n",
       "</style>\n",
       "<table border=\"1\" class=\"dataframe\">\n",
       "  <thead>\n",
       "    <tr style=\"text-align: right;\">\n",
       "      <th></th>\n",
       "      <th>variables</th>\n",
       "      <th>importance</th>\n",
       "    </tr>\n",
       "  </thead>\n",
       "  <tbody>\n",
       "    <tr>\n",
       "      <th>0</th>\n",
       "      <td>cases</td>\n",
       "      <td>0.651731</td>\n",
       "    </tr>\n",
       "    <tr>\n",
       "      <th>14</th>\n",
       "      <td>mslPresMin</td>\n",
       "      <td>0.060055</td>\n",
       "    </tr>\n",
       "    <tr>\n",
       "      <th>16</th>\n",
       "      <td>mslPresMax</td>\n",
       "      <td>0.047257</td>\n",
       "    </tr>\n",
       "    <tr>\n",
       "      <th>18</th>\n",
       "      <td>presTendMin</td>\n",
       "      <td>0.040040</td>\n",
       "    </tr>\n",
       "    <tr>\n",
       "      <th>15</th>\n",
       "      <td>mslPresAvg</td>\n",
       "      <td>0.026125</td>\n",
       "    </tr>\n",
       "    <tr>\n",
       "      <th>61</th>\n",
       "      <td>grocery_and_pharmacy_percent_change_from_baseline</td>\n",
       "      <td>0.025442</td>\n",
       "    </tr>\n",
       "    <tr>\n",
       "      <th>64</th>\n",
       "      <td>pop_2018</td>\n",
       "      <td>0.022796</td>\n",
       "    </tr>\n",
       "    <tr>\n",
       "      <th>30</th>\n",
       "      <td>sfcPresMax</td>\n",
       "      <td>0.013855</td>\n",
       "    </tr>\n",
       "    <tr>\n",
       "      <th>45</th>\n",
       "      <td>windSpdMin</td>\n",
       "      <td>0.012022</td>\n",
       "    </tr>\n",
       "    <tr>\n",
       "      <th>1</th>\n",
       "      <td>deaths</td>\n",
       "      <td>0.011773</td>\n",
       "    </tr>\n",
       "  </tbody>\n",
       "</table>\n",
       "</div>"
      ],
      "text/plain": [
       "                                            variables  importance\n",
       "0                                               cases    0.651731\n",
       "14                                         mslPresMin    0.060055\n",
       "16                                         mslPresMax    0.047257\n",
       "18                                        presTendMin    0.040040\n",
       "15                                         mslPresAvg    0.026125\n",
       "61  grocery_and_pharmacy_percent_change_from_baseline    0.025442\n",
       "64                                           pop_2018    0.022796\n",
       "30                                         sfcPresMax    0.013855\n",
       "45                                         windSpdMin    0.012022\n",
       "1                                              deaths    0.011773"
      ]
     },
     "execution_count": 137,
     "metadata": {},
     "output_type": "execute_result"
    }
   ],
   "source": [
    "pd.concat((pd.DataFrame(X_train.columns, columns = ['variables']), \n",
    "           pd.DataFrame(rf.feature_importances_, columns = ['importance'])), \n",
    "          axis = 1).sort_values(by='importance', ascending = False)[:10]\n"
   ]
  },
  {
   "cell_type": "code",
   "execution_count": 186,
   "metadata": {},
   "outputs": [
    {
     "name": "stdout",
     "output_type": "stream",
     "text": [
      "Out-of-bag Accuracy: 0.3055\n",
      "R-squared for Train: 0.69\n",
      "R-squared for Test: 0.35\n",
      "Mean Absolute Error: 24.2 cases.\n"
     ]
    }
   ],
   "source": [
    "# predition with only cases\n",
    "rf.fit(X_train.cases.values.reshape(-1,1), y_train)\n",
    "print(\"Out-of-bag Accuracy: %.4f\" % rf.oob_score_)\n",
    "print(\"R-squared for Train: %.2f\" % rf.score(X_train.cases.values.reshape(-1,1), y_train))\n",
    "print(\"R-squared for Test: %.2f\" % rf.score(X_test.cases.values.reshape(-1,1), y_test))\n",
    "y_pred = rf.predict(X_test.cases.values.reshape(-1,1))\n",
    "# Calculate the absolute errors\n",
    "mae = round(np.mean(abs(y_pred - y_test)),2)\n",
    "# Print out the mean absolute error (mae)\n",
    "print('Mean Absolute Error:', mae, 'cases.')"
   ]
  },
  {
   "cell_type": "markdown",
   "metadata": {},
   "source": [
    "### Gradient Boosting"
   ]
  },
  {
   "cell_type": "code",
   "execution_count": 187,
   "metadata": {},
   "outputs": [
    {
     "data": {
      "text/plain": [
       "{'learning_rate': 0.2,\n",
       " 'min_samples_leaf': 2,\n",
       " 'min_samples_split': 7,\n",
       " 'n_estimators': 1000}"
      ]
     },
     "execution_count": 187,
     "metadata": {},
     "output_type": "execute_result"
    }
   ],
   "source": [
    "# cases\n",
    "gb_hyperparameters = {\n",
    "    \"n_estimators\": [10, 50, 100, 200, 500, 1000],\n",
    "    \"min_samples_split\" : [2, 5, 7],\n",
    "    'learning_rate': [0.01, 0.05, 0.1, 0.2],\n",
    "    \"min_samples_leaf\": [1, 2, 3]\n",
    "}\n",
    "\n",
    "gbr = GradientBoostingRegressor()\n",
    "gs = GridSearchCV(estimator=gbr, param_grid=gb_hyperparameters, scoring='neg_mean_squared_error', cv=3, n_jobs=-1)\n",
    "gs = gs.fit(X_train, y_train)\n",
    "\n",
    "gs.best_params_"
   ]
  },
  {
   "cell_type": "code",
   "execution_count": 188,
   "metadata": {},
   "outputs": [
    {
     "data": {
      "text/plain": [
       "GradientBoostingRegressor(alpha=0.9, ccp_alpha=0.0, criterion='friedman_mse',\n",
       "                          init=None, learning_rate=0.2, loss='ls', max_depth=3,\n",
       "                          max_features=None, max_leaf_nodes=None,\n",
       "                          min_impurity_decrease=0.0, min_impurity_split=None,\n",
       "                          min_samples_leaf=2, min_samples_split=7,\n",
       "                          min_weight_fraction_leaf=0.0, n_estimators=1000,\n",
       "                          n_iter_no_change=None, presort='deprecated',\n",
       "                          random_state=None, subsample=1.0, tol=0.0001,\n",
       "                          validation_fraction=0.1, verbose=0, warm_start=False)"
      ]
     },
     "execution_count": 188,
     "metadata": {},
     "output_type": "execute_result"
    }
   ],
   "source": [
    "gbr = gs.best_estimator_\n",
    "gbr.fit(X_train, y_train)"
   ]
  },
  {
   "cell_type": "code",
   "execution_count": 189,
   "metadata": {},
   "outputs": [
    {
     "name": "stdout",
     "output_type": "stream",
     "text": [
      "R-squared for Train: 1.00\n",
      "R-squared for Test: 0.68\n",
      "Mean Absolute Error: 18.33 cases.\n"
     ]
    }
   ],
   "source": [
    "print(\"R-squared for Train: %.2f\" % gbr.score(X_train, y_train))\n",
    "print(\"R-squared for Test: %.2f\" % gbr.score(X_test, y_test))\n",
    "y_pred = gbr.predict(X_test)\n",
    "# Calculate the absolute errors\n",
    "mae = round(np.mean(abs(y_pred - y_test)),2)\n",
    "# Print out the mean absolute error (mae)\n",
    "print('Mean Absolute Error:', mae, 'cases.')"
   ]
  },
  {
   "cell_type": "code",
   "execution_count": 190,
   "metadata": {
    "scrolled": true
   },
   "outputs": [
    {
     "data": {
      "text/plain": [
       "GradientBoostingRegressor(alpha=0.9, ccp_alpha=0.0, criterion='friedman_mse',\n",
       "                          init=None, learning_rate=0.1, loss='ls', max_depth=3,\n",
       "                          max_features=None, max_leaf_nodes=None,\n",
       "                          min_impurity_decrease=0.0, min_impurity_split=None,\n",
       "                          min_samples_leaf=2, min_samples_split=5,\n",
       "                          min_weight_fraction_leaf=0.0, n_estimators=1000,\n",
       "                          n_iter_no_change=None, presort='deprecated',\n",
       "                          random_state=None, subsample=1.0, tol=0.0001,\n",
       "                          validation_fraction=0.1, verbose=0, warm_start=False)"
      ]
     },
     "execution_count": 190,
     "metadata": {},
     "output_type": "execute_result"
    }
   ],
   "source": [
    "gbr = GradientBoostingRegressor(learning_rate = 0.1, min_samples_leaf = 2, min_samples_split= 5, n_estimators = 1000)\n",
    "gbr.fit(X_train, y_train)"
   ]
  },
  {
   "cell_type": "code",
   "execution_count": 191,
   "metadata": {
    "scrolled": true
   },
   "outputs": [
    {
     "name": "stdout",
     "output_type": "stream",
     "text": [
      "R-squared for Train: 1.00\n",
      "R-squared for Test: 0.72\n",
      "Mean Absolute Error: 17.91 cases.\n"
     ]
    }
   ],
   "source": [
    "print(\"R-squared for Train: %.2f\" % gbr.score(X_train, y_train))\n",
    "print(\"R-squared for Test: %.2f\" % gbr.score(X_test, y_test))\n",
    "y_pred = gbr.predict(X_test)\n",
    "# Calculate the absolute errors\n",
    "mae = round(np.mean(abs(y_pred - y_test)),2)\n",
    "# Print out the mean absolute error (mae)\n",
    "print('Mean Absolute Error:', mae, 'cases.')"
   ]
  },
  {
   "cell_type": "code",
   "execution_count": 155,
   "metadata": {
    "scrolled": true
   },
   "outputs": [
    {
     "data": {
      "text/html": [
       "<div>\n",
       "<style scoped>\n",
       "    .dataframe tbody tr th:only-of-type {\n",
       "        vertical-align: middle;\n",
       "    }\n",
       "\n",
       "    .dataframe tbody tr th {\n",
       "        vertical-align: top;\n",
       "    }\n",
       "\n",
       "    .dataframe thead th {\n",
       "        text-align: right;\n",
       "    }\n",
       "</style>\n",
       "<table border=\"1\" class=\"dataframe\">\n",
       "  <thead>\n",
       "    <tr style=\"text-align: right;\">\n",
       "      <th></th>\n",
       "      <th>variables</th>\n",
       "      <th>importance</th>\n",
       "    </tr>\n",
       "  </thead>\n",
       "  <tbody>\n",
       "    <tr>\n",
       "      <th>0</th>\n",
       "      <td>cases</td>\n",
       "      <td>0.591591</td>\n",
       "    </tr>\n",
       "    <tr>\n",
       "      <th>16</th>\n",
       "      <td>mslPresMax</td>\n",
       "      <td>0.068478</td>\n",
       "    </tr>\n",
       "    <tr>\n",
       "      <th>63</th>\n",
       "      <td>income_2018</td>\n",
       "      <td>0.050402</td>\n",
       "    </tr>\n",
       "    <tr>\n",
       "      <th>14</th>\n",
       "      <td>mslPresMin</td>\n",
       "      <td>0.046112</td>\n",
       "    </tr>\n",
       "    <tr>\n",
       "      <th>15</th>\n",
       "      <td>mslPresAvg</td>\n",
       "      <td>0.038366</td>\n",
       "    </tr>\n",
       "    <tr>\n",
       "      <th>64</th>\n",
       "      <td>pop_2018</td>\n",
       "      <td>0.034843</td>\n",
       "    </tr>\n",
       "    <tr>\n",
       "      <th>18</th>\n",
       "      <td>presTendMin</td>\n",
       "      <td>0.029513</td>\n",
       "    </tr>\n",
       "    <tr>\n",
       "      <th>1</th>\n",
       "      <td>deaths</td>\n",
       "      <td>0.023425</td>\n",
       "    </tr>\n",
       "    <tr>\n",
       "      <th>61</th>\n",
       "      <td>grocery_and_pharmacy_percent_change_from_baseline</td>\n",
       "      <td>0.022826</td>\n",
       "    </tr>\n",
       "    <tr>\n",
       "      <th>44</th>\n",
       "      <td>windDir100mAvg</td>\n",
       "      <td>0.010196</td>\n",
       "    </tr>\n",
       "  </tbody>\n",
       "</table>\n",
       "</div>"
      ],
      "text/plain": [
       "                                            variables  importance\n",
       "0                                               cases    0.591591\n",
       "16                                         mslPresMax    0.068478\n",
       "63                                        income_2018    0.050402\n",
       "14                                         mslPresMin    0.046112\n",
       "15                                         mslPresAvg    0.038366\n",
       "64                                           pop_2018    0.034843\n",
       "18                                        presTendMin    0.029513\n",
       "1                                              deaths    0.023425\n",
       "61  grocery_and_pharmacy_percent_change_from_baseline    0.022826\n",
       "44                                     windDir100mAvg    0.010196"
      ]
     },
     "execution_count": 155,
     "metadata": {},
     "output_type": "execute_result"
    }
   ],
   "source": [
    "pd.concat((pd.DataFrame(X_train.columns, columns = ['variables']), \n",
    "           pd.DataFrame(gbr.feature_importances_, columns = ['importance'])), \n",
    "          axis = 1).sort_values(by='importance', ascending = False)[:10]\n"
   ]
  },
  {
   "cell_type": "markdown",
   "metadata": {},
   "source": [
    "## Predicting Early Day Deaths"
   ]
  },
  {
   "cell_type": "code",
   "execution_count": 219,
   "metadata": {},
   "outputs": [],
   "source": [
    "y = df.day_10_delta_deaths\n",
    "X_train, X_test, y_train, y_test = train_test_split(X, y, test_size=0.2, random_state=42)"
   ]
  },
  {
   "cell_type": "code",
   "execution_count": 220,
   "metadata": {},
   "outputs": [
    {
     "data": {
      "text/plain": [
       "{'min_samples_leaf': 5, 'min_samples_split': 2, 'n_estimators': 500}"
      ]
     },
     "execution_count": 220,
     "metadata": {},
     "output_type": "execute_result"
    }
   ],
   "source": [
    "rf = RandomForestRegressor(max_features='auto', oob_score=True, random_state=1, n_jobs=-1)\n",
    "param_grid = { \"min_samples_leaf\" : [1, 5, 10], \"min_samples_split\" : [2, 4, 8, 12], \"n_estimators\": [10, 50, 100, 200, 500, 1000]}\n",
    "gs = GridSearchCV(estimator=rf, param_grid=param_grid, scoring='neg_mean_squared_error', cv=3, n_jobs=-1)\n",
    "gs = gs.fit(X_train, y_train)\n",
    "\n",
    "gs.best_params_"
   ]
  },
  {
   "cell_type": "code",
   "execution_count": 221,
   "metadata": {},
   "outputs": [
    {
     "name": "stdout",
     "output_type": "stream",
     "text": [
      "R-squared for Train: 0.76\n",
      "R-squared for Test: 0.15\n",
      "Mean Absolute Error: 35.47 cases.\n"
     ]
    }
   ],
   "source": [
    "rf = gs.best_estimator_\n",
    "rf.fit(X_train, y_train)\n",
    "print(\"R-squared for Train: %.2f\" % rf.score(X_train, y_train))\n",
    "print(\"R-squared for Test: %.2f\" % rf.score(X_test, y_test))\n",
    "y_pred = gbr.predict(X_test)\n",
    "# Calculate the absolute errors\n",
    "mae = round(np.mean(abs(y_pred - y_test)),2)\n",
    "# Print out the mean absolute error (mae)\n",
    "print('Mean Absolute Error:', mae, 'cases.')"
   ]
  },
  {
   "cell_type": "code",
   "execution_count": 195,
   "metadata": {},
   "outputs": [
    {
     "data": {
      "text/html": [
       "<div>\n",
       "<style scoped>\n",
       "    .dataframe tbody tr th:only-of-type {\n",
       "        vertical-align: middle;\n",
       "    }\n",
       "\n",
       "    .dataframe tbody tr th {\n",
       "        vertical-align: top;\n",
       "    }\n",
       "\n",
       "    .dataframe thead th {\n",
       "        text-align: right;\n",
       "    }\n",
       "</style>\n",
       "<table border=\"1\" class=\"dataframe\">\n",
       "  <thead>\n",
       "    <tr style=\"text-align: right;\">\n",
       "      <th></th>\n",
       "      <th>variables</th>\n",
       "      <th>importance</th>\n",
       "    </tr>\n",
       "  </thead>\n",
       "  <tbody>\n",
       "    <tr>\n",
       "      <th>0</th>\n",
       "      <td>cases</td>\n",
       "      <td>0.501452</td>\n",
       "    </tr>\n",
       "    <tr>\n",
       "      <th>1</th>\n",
       "      <td>deaths</td>\n",
       "      <td>0.191011</td>\n",
       "    </tr>\n",
       "    <tr>\n",
       "      <th>44</th>\n",
       "      <td>windDir100mAvg</td>\n",
       "      <td>0.014838</td>\n",
       "    </tr>\n",
       "    <tr>\n",
       "      <th>49</th>\n",
       "      <td>windSpd80mAvg</td>\n",
       "      <td>0.013934</td>\n",
       "    </tr>\n",
       "    <tr>\n",
       "      <th>16</th>\n",
       "      <td>mslPresMax</td>\n",
       "      <td>0.013881</td>\n",
       "    </tr>\n",
       "    <tr>\n",
       "      <th>19</th>\n",
       "      <td>presTendAvg</td>\n",
       "      <td>0.012086</td>\n",
       "    </tr>\n",
       "    <tr>\n",
       "      <th>63</th>\n",
       "      <td>income_2018</td>\n",
       "      <td>0.012084</td>\n",
       "    </tr>\n",
       "    <tr>\n",
       "      <th>60</th>\n",
       "      <td>transit_stations_percent_change_from_baseline</td>\n",
       "      <td>0.010327</td>\n",
       "    </tr>\n",
       "    <tr>\n",
       "      <th>5</th>\n",
       "      <td>dewPtMin</td>\n",
       "      <td>0.009629</td>\n",
       "    </tr>\n",
       "    <tr>\n",
       "      <th>62</th>\n",
       "      <td>parks_percent_change_from_baseline</td>\n",
       "      <td>0.009229</td>\n",
       "    </tr>\n",
       "  </tbody>\n",
       "</table>\n",
       "</div>"
      ],
      "text/plain": [
       "                                        variables  importance\n",
       "0                                           cases    0.501452\n",
       "1                                          deaths    0.191011\n",
       "44                                 windDir100mAvg    0.014838\n",
       "49                                  windSpd80mAvg    0.013934\n",
       "16                                     mslPresMax    0.013881\n",
       "19                                    presTendAvg    0.012086\n",
       "63                                    income_2018    0.012084\n",
       "60  transit_stations_percent_change_from_baseline    0.010327\n",
       "5                                        dewPtMin    0.009629\n",
       "62             parks_percent_change_from_baseline    0.009229"
      ]
     },
     "execution_count": 195,
     "metadata": {},
     "output_type": "execute_result"
    }
   ],
   "source": [
    "pd.concat((pd.DataFrame(X_train.columns, columns = ['variables']), \n",
    "           pd.DataFrame(rf.feature_importances_, columns = ['importance'])), \n",
    "          axis = 1).sort_values(by='importance', ascending = False)[:10]\n"
   ]
  },
  {
   "cell_type": "markdown",
   "metadata": {},
   "source": [
    "## Predicting Recent Day Cases"
   ]
  },
  {
   "cell_type": "markdown",
   "metadata": {},
   "source": [
    "### random forest"
   ]
  },
  {
   "cell_type": "code",
   "execution_count": 222,
   "metadata": {},
   "outputs": [
    {
     "data": {
      "text/plain": [
       "(215, 67)"
      ]
     },
     "execution_count": 222,
     "metadata": {},
     "output_type": "execute_result"
    }
   ],
   "source": [
    "df = get_data.get_model_data(date_range=(20,27), pred_day=30)\n",
    "df = df._get_numeric_data().drop(['fips'],axis=1).dropna()\n",
    "df.shape\n",
    "# 30,37, 40 only leaves 20 rowa"
   ]
  },
  {
   "cell_type": "code",
   "execution_count": 226,
   "metadata": {},
   "outputs": [],
   "source": [
    "X = df.drop(['day_30_delta_cases','day_30_delta_deaths'], axis = 1)\n",
    "y = df.day_30_delta_cases\n",
    "\n",
    "X_train, X_test, y_train, y_test = train_test_split(X, y, test_size=0.2, random_state=42)"
   ]
  },
  {
   "cell_type": "code",
   "execution_count": 205,
   "metadata": {},
   "outputs": [],
   "source": [
    "random_grid = {'max_depth': [1, 3, 5, None],\n",
    "              'max_features': ['auto', 'sqrt'],\n",
    "             'min_samples_leaf': [1, 5, 10],\n",
    "             'min_samples_split': [2, 4, 8, 12],\n",
    "             'n_estimators': [10, 50, 100, 200, 500]}"
   ]
  },
  {
   "cell_type": "code",
   "execution_count": 206,
   "metadata": {},
   "outputs": [
    {
     "name": "stdout",
     "output_type": "stream",
     "text": [
      "Fitting 3 folds for each of 100 candidates, totalling 300 fits\n"
     ]
    },
    {
     "name": "stderr",
     "output_type": "stream",
     "text": [
      "[Parallel(n_jobs=-1)]: Using backend LokyBackend with 4 concurrent workers.\n",
      "[Parallel(n_jobs=-1)]: Done  33 tasks      | elapsed:   10.3s\n",
      "[Parallel(n_jobs=-1)]: Done 154 tasks      | elapsed:   23.3s\n",
      "[Parallel(n_jobs=-1)]: Done 300 out of 300 | elapsed:   40.6s finished\n"
     ]
    },
    {
     "data": {
      "text/plain": [
       "{'n_estimators': 100,\n",
       " 'min_samples_split': 2,\n",
       " 'min_samples_leaf': 1,\n",
       " 'max_features': 'auto',\n",
       " 'max_depth': 5}"
      ]
     },
     "execution_count": 206,
     "metadata": {},
     "output_type": "execute_result"
    }
   ],
   "source": [
    "rf = RandomForestRegressor(oob_score=True)\n",
    "rf_random = RandomizedSearchCV(estimator = rf, \n",
    "                               param_distributions = random_grid, \n",
    "                               n_iter = 100, cv = 3, verbose=2, \n",
    "                               random_state=109, n_jobs = -1)\n",
    "rf_random.fit(X_train, y_train)\n",
    "rf_random.best_params_"
   ]
  },
  {
   "cell_type": "code",
   "execution_count": 207,
   "metadata": {},
   "outputs": [
    {
     "name": "stdout",
     "output_type": "stream",
     "text": [
      "Out-of-bag Accuracy: 0.6674\n",
      "R-squared for Train: 0.95\n",
      "R-squared for Test: 0.8026\n"
     ]
    }
   ],
   "source": [
    "rf = rf_random.best_estimator_\n",
    "rf.fit(X_train, y_train)\n",
    "print(\"Out-of-bag Accuracy: %.4f\" % rf.oob_score_)\n",
    "print(\"R-squared for Train: %.2f\" % rf.score(X_train, y_train))\n",
    "print(\"R-squared for Test: %.4f\" % rf.score(X_test, y_test))\n",
    "y_pred = gbr.predict(X_test)\n",
    "# Calculate the absolute errors\n",
    "mae = round(np.mean(abs(y_pred - y_test)),2)\n",
    "# Print out the mean absolute error (mae)\n",
    "print('Mean Absolute Error:', mae, 'cases.')"
   ]
  },
  {
   "cell_type": "code",
   "execution_count": null,
   "metadata": {},
   "outputs": [],
   "source": [
    "pd.concat((pd.DataFrame(X_train.columns, columns = ['variables']), \n",
    "           pd.DataFrame(gbr.feature_importances_, columns = ['importance'])), \n",
    "          axis = 1).sort_values(by='importance', ascending = False)[:10]"
   ]
  },
  {
   "cell_type": "markdown",
   "metadata": {},
   "source": [
    "### gradient boosting"
   ]
  },
  {
   "cell_type": "code",
   "execution_count": 223,
   "metadata": {},
   "outputs": [
    {
     "data": {
      "text/plain": [
       "{'learning_rate': 0.05,\n",
       " 'min_samples_leaf': 2,\n",
       " 'min_samples_split': 2,\n",
       " 'n_estimators': 100}"
      ]
     },
     "execution_count": 223,
     "metadata": {},
     "output_type": "execute_result"
    }
   ],
   "source": [
    "# cases\n",
    "gb_hyperparameters = {\n",
    "    \"n_estimators\": [10, 50, 100, 200, 500, 1000],\n",
    "    \"min_samples_split\" : [2, 5, 7],\n",
    "    'learning_rate': [0.01, 0.05, 0.1, 0.2],\n",
    "    \"min_samples_leaf\": [1, 2, 3]\n",
    "}\n",
    "\n",
    "gbr = GradientBoostingRegressor()\n",
    "gs = GridSearchCV(estimator=gbr, param_grid=gb_hyperparameters, scoring='neg_mean_squared_error', cv=3, n_jobs=-1)\n",
    "gs = gs.fit(X_train, y_train)\n",
    "\n",
    "gs.best_params_"
   ]
  },
  {
   "cell_type": "code",
   "execution_count": 227,
   "metadata": {},
   "outputs": [
    {
     "name": "stdout",
     "output_type": "stream",
     "text": [
      "R-squared for Train: 0.99\n",
      "R-squared for Test: 0.77\n",
      "Mean Absolute Error: 130.39 cases.\n"
     ]
    }
   ],
   "source": [
    "gbr = gs.best_estimator_\n",
    "gbr.fit(X_train, y_train)\n",
    "print(\"R-squared for Train: %.2f\" % gbr.score(X_train, y_train))\n",
    "print(\"R-squared for Test: %.2f\" % gbr.score(X_test, y_test))\n",
    "y_pred = gbr.predict(X_test)\n",
    "# Calculate the absolute errors\n",
    "mae = round(np.mean(abs(y_pred - y_test)),2)\n",
    "# Print out the mean absolute error (mae)\n",
    "print('Mean Absolute Error:', mae, 'cases.')"
   ]
  },
  {
   "cell_type": "code",
   "execution_count": 225,
   "metadata": {},
   "outputs": [
    {
     "data": {
      "text/html": [
       "<div>\n",
       "<style scoped>\n",
       "    .dataframe tbody tr th:only-of-type {\n",
       "        vertical-align: middle;\n",
       "    }\n",
       "\n",
       "    .dataframe tbody tr th {\n",
       "        vertical-align: top;\n",
       "    }\n",
       "\n",
       "    .dataframe thead th {\n",
       "        text-align: right;\n",
       "    }\n",
       "</style>\n",
       "<table border=\"1\" class=\"dataframe\">\n",
       "  <thead>\n",
       "    <tr style=\"text-align: right;\">\n",
       "      <th></th>\n",
       "      <th>variables</th>\n",
       "      <th>importance</th>\n",
       "    </tr>\n",
       "  </thead>\n",
       "  <tbody>\n",
       "    <tr>\n",
       "      <th>0</th>\n",
       "      <td>cases</td>\n",
       "      <td>0.485694</td>\n",
       "    </tr>\n",
       "    <tr>\n",
       "      <th>1</th>\n",
       "      <td>deaths</td>\n",
       "      <td>0.226019</td>\n",
       "    </tr>\n",
       "    <tr>\n",
       "      <th>56</th>\n",
       "      <td>wetBulbMax</td>\n",
       "      <td>0.020537</td>\n",
       "    </tr>\n",
       "    <tr>\n",
       "      <th>16</th>\n",
       "      <td>mslPresMax</td>\n",
       "      <td>0.019145</td>\n",
       "    </tr>\n",
       "    <tr>\n",
       "      <th>28</th>\n",
       "      <td>sfcPresMin</td>\n",
       "      <td>0.016687</td>\n",
       "    </tr>\n",
       "    <tr>\n",
       "      <th>50</th>\n",
       "      <td>windSpd80mMax</td>\n",
       "      <td>0.015290</td>\n",
       "    </tr>\n",
       "    <tr>\n",
       "      <th>14</th>\n",
       "      <td>mslPresMin</td>\n",
       "      <td>0.012050</td>\n",
       "    </tr>\n",
       "    <tr>\n",
       "      <th>29</th>\n",
       "      <td>sfcPresAvg</td>\n",
       "      <td>0.011310</td>\n",
       "    </tr>\n",
       "    <tr>\n",
       "      <th>25</th>\n",
       "      <td>relHumMin</td>\n",
       "      <td>0.011274</td>\n",
       "    </tr>\n",
       "    <tr>\n",
       "      <th>15</th>\n",
       "      <td>mslPresAvg</td>\n",
       "      <td>0.010580</td>\n",
       "    </tr>\n",
       "  </tbody>\n",
       "</table>\n",
       "</div>"
      ],
      "text/plain": [
       "        variables  importance\n",
       "0           cases    0.485694\n",
       "1          deaths    0.226019\n",
       "56     wetBulbMax    0.020537\n",
       "16     mslPresMax    0.019145\n",
       "28     sfcPresMin    0.016687\n",
       "50  windSpd80mMax    0.015290\n",
       "14     mslPresMin    0.012050\n",
       "29     sfcPresAvg    0.011310\n",
       "25      relHumMin    0.011274\n",
       "15     mslPresAvg    0.010580"
      ]
     },
     "execution_count": 225,
     "metadata": {},
     "output_type": "execute_result"
    }
   ],
   "source": [
    "pd.concat((pd.DataFrame(X_train.columns, columns = ['variables']), \n",
    "           pd.DataFrame(gbr.feature_importances_, columns = ['importance'])), \n",
    "          axis = 1).sort_values(by='importance', ascending = False)[:10]"
   ]
  },
  {
   "cell_type": "code",
   "execution_count": 284,
   "metadata": {},
   "outputs": [
    {
     "name": "stdout",
     "output_type": "stream",
     "text": [
      "R-squared for Train: 1.00\n",
      "R-squared for Test: 0.89\n",
      "Mean Absolute Error: 110.15 cases.\n"
     ]
    }
   ],
   "source": [
    "gbr = GradientBoostingRegressor(learning_rate = 0.05, min_samples_leaf = 1, min_samples_split= 5, n_estimators = 1000)\n",
    "gbr.fit(X_train, y_train)\n",
    "\n",
    "print(\"R-squared for Train: %.2f\" % gbr.score(X_train, y_train))\n",
    "print(\"R-squared for Test: %.2f\" % gbr.score(X_test, y_test))\n",
    "y_pred = gbr.predict(X_test)\n",
    "# Calculate the absolute errors\n",
    "mae = round(np.mean(abs(y_pred - y_test)),2)\n",
    "# Print out the mean absolute error (mae)\n",
    "print('Mean Absolute Error:', mae, 'cases.')"
   ]
  },
  {
   "cell_type": "code",
   "execution_count": 287,
   "metadata": {},
   "outputs": [
    {
     "data": {
      "text/plain": [
       "<matplotlib.axes._subplots.AxesSubplot at 0x1a1bef4a90>"
      ]
     },
     "execution_count": 287,
     "metadata": {},
     "output_type": "execute_result"
    },
    {
     "data": {
      "image/png": "[encoded data removed]",
      "text/plain": [
       "<Figure size 432x288 with 1 Axes>"
      ]
     },
     "metadata": {
      "needs_background": "light"
     },
     "output_type": "display_data"
    }
   ],
   "source": [
    "y.hist(bins = 30)"
   ]
  },
  {
   "cell_type": "code",
   "execution_count": 288,
   "metadata": {},
   "outputs": [
    {
     "data": {
      "text/plain": [
       "257.57674418604654"
      ]
     },
     "execution_count": 288,
     "metadata": {},
     "output_type": "execute_result"
    }
   ],
   "source": [
    "y.mean()"
   ]
  },
  {
   "cell_type": "code",
   "execution_count": 289,
   "metadata": {},
   "outputs": [
    {
     "data": {
      "text/plain": [
       "<matplotlib.axes._subplots.AxesSubplot at 0x1a1f8b8510>"
      ]
     },
     "execution_count": 289,
     "metadata": {},
     "output_type": "execute_result"
    },
    {
     "data": {
      "image/png": "[encoded data removed]",
      "text/plain": [
       "<Figure size 432x288 with 1 Axes>"
      ]
     },
     "metadata": {
      "needs_background": "light"
     },
     "output_type": "display_data"
    }
   ],
   "source": [
    "residuals = y_pred - y_test\n",
    "residuals.hist()"
   ]
  },
  {
   "cell_type": "code",
   "execution_count": 296,
   "metadata": {},
   "outputs": [
    {
     "data": {
      "image/png": "[encoded data removed]",
      "text/plain": [
       "<Figure size 432x288 with 1 Axes>"
      ]
     },
     "metadata": {
      "needs_background": "light"
     },
     "output_type": "display_data"
    }
   ],
   "source": [
    "plt.scatter(x=y_pred, y = y_test)\n",
    "#plt.yscale(\"log\")\n",
    "#plt.xscale(\"log\")\n",
    "plt.xlim([0,4000]);\n"
   ]
  },
  {
   "cell_type": "code",
   "execution_count": 294,
   "metadata": {},
   "outputs": [
    {
     "data": {
      "text/plain": [
       "<matplotlib.collections.PathCollection at 0x1a1e0b3290>"
      ]
     },
     "execution_count": 294,
     "metadata": {},
     "output_type": "execute_result"
    },
    {
     "data": {
      "image/png": "[encoded data removed]",
      "text/plain": [
       "<Figure size 432x288 with 1 Axes>"
      ]
     },
     "metadata": {
      "needs_background": "light"
     },
     "output_type": "display_data"
    }
   ],
   "source": [
    "plt.scatter(x=y_pred, y = residuals)"
   ]
  },
  {
   "cell_type": "code",
   "execution_count": null,
   "metadata": {},
   "outputs": [],
   "source": []
  }
 ],
 "metadata": {
  "kernelspec": {
   "display_name": "Python 3",
   "language": "python",
   "name": "python3"
  },
  "language_info": {
   "codemirror_mode": {
    "name": "ipython",
    "version": 3
   },
   "file_extension": ".py",
   "mimetype": "text/x-python",
   "name": "python",
   "nbconvert_exporter": "python",
   "pygments_lexer": "ipython3",
   "version": "3.7.6"
  }
 },
 "nbformat": 4,
 "nbformat_minor": 4
}
