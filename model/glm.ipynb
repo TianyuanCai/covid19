{
 "cells": [
  {
   "cell_type": "code",
   "execution_count": 1,
   "metadata": {
    "pycharm": {
     "is_executing": true
    }
   },
   "outputs": [
    {
     "name": "stdout",
     "output_type": "stream",
     "text": [
      "../lib\n",
      "Checking whether there is an H2O instance running at http://localhost:54321 . connected.\n"
     ]
    },
    {
     "data": {
      "text/html": [
       "<div style=\"overflow:auto\"><table style=\"width:50%\"><tr><td>H2O cluster uptime:</td>\n",
       "<td>16 hours 30 mins</td></tr>\n",
       "<tr><td>H2O cluster timezone:</td>\n",
       "<td>America/New_York</td></tr>\n",
       "<tr><td>H2O data parsing timezone:</td>\n",
       "<td>UTC</td></tr>\n",
       "<tr><td>H2O cluster version:</td>\n",
       "<td>3.28.1.2</td></tr>\n",
       "<tr><td>H2O cluster version age:</td>\n",
       "<td>1 month and 16 days </td></tr>\n",
       "<tr><td>H2O cluster name:</td>\n",
       "<td>H2O_from_python_tcai_1f2d4e</td></tr>\n",
       "<tr><td>H2O cluster total nodes:</td>\n",
       "<td>1</td></tr>\n",
       "<tr><td>H2O cluster free memory:</td>\n",
       "<td>15.96 Gb</td></tr>\n",
       "<tr><td>H2O cluster total cores:</td>\n",
       "<td>12</td></tr>\n",
       "<tr><td>H2O cluster allowed cores:</td>\n",
       "<td>12</td></tr>\n",
       "<tr><td>H2O cluster status:</td>\n",
       "<td>locked, healthy</td></tr>\n",
       "<tr><td>H2O connection url:</td>\n",
       "<td>http://localhost:54321</td></tr>\n",
       "<tr><td>H2O connection proxy:</td>\n",
       "<td>{'http': None, 'https': None}</td></tr>\n",
       "<tr><td>H2O internal security:</td>\n",
       "<td>False</td></tr>\n",
       "<tr><td>H2O API Extensions:</td>\n",
       "<td>Amazon S3, XGBoost, Algos, AutoML, Core V3, TargetEncoder, Core V4</td></tr>\n",
       "<tr><td>Python version:</td>\n",
       "<td>3.7.7 final</td></tr></table></div>"
      ],
      "text/plain": [
       "--------------------------  ------------------------------------------------------------------\n",
       "H2O cluster uptime:         16 hours 30 mins\n",
       "H2O cluster timezone:       America/New_York\n",
       "H2O data parsing timezone:  UTC\n",
       "H2O cluster version:        3.28.1.2\n",
       "H2O cluster version age:    1 month and 16 days\n",
       "H2O cluster name:           H2O_from_python_tcai_1f2d4e\n",
       "H2O cluster total nodes:    1\n",
       "H2O cluster free memory:    15.96 Gb\n",
       "H2O cluster total cores:    12\n",
       "H2O cluster allowed cores:  12\n",
       "H2O cluster status:         locked, healthy\n",
       "H2O connection url:         http://localhost:54321\n",
       "H2O connection proxy:       {'http': None, 'https': None}\n",
       "H2O internal security:      False\n",
       "H2O API Extensions:         Amazon S3, XGBoost, Algos, AutoML, Core V3, TargetEncoder, Core V4\n",
       "Python version:             3.7.7 final\n",
       "--------------------------  ------------------------------------------------------------------"
      ]
     },
     "metadata": {},
     "output_type": "display_data"
    }
   ],
   "source": [
    "import sys\n",
    "sys.path.append('../.')\n",
    "\n",
    "import datetime\n",
    "from tqdm import tqdm\n",
    "\n",
    "import pandas as pd\n",
    "import numpy as np\n",
    "import matplotlib.pyplot as plt\n",
    "from matplotlib import rc\n",
    "\n",
    "from lib import get_data\n",
    "from lib import simplified_model\n",
    "\n",
    "rc('text', usetex=False)"
   ]
  },
  {
   "cell_type": "code",
   "execution_count": 2,
   "metadata": {
    "pycharm": {
     "name": "#%%\n"
    }
   },
   "outputs": [],
   "source": [
    "def prepare_model_data(date_range, pred_day, outcome):\n",
    "    df = get_data.get_model_data(date_range=date_range, pred_day=pred_day)\n",
    "    df = df.replace([np.inf, -np.inf], np.nan)\n",
    "    df = df.dropna()  # todo check effect of imputation\n",
    "\n",
    "    # todo feature engineering ideas\n",
    "    # longitude and latitude\n",
    "\n",
    "    df_x = simplified_model.multicollinearity_check(\n",
    "        df.drop([f'day_{pred_day}_delta_cases', f'day_{pred_day}_delta_deaths', 'state', 'county', 'fips'], axis=1))\n",
    "    df_x = df_x.rename({'deaths': 'past_deaths', 'cases': 'past_cases'}, axis=1)\n",
    "\n",
    "    df_y = df[[f'day_{pred_day}_delta_{outcome}']]\n",
    "    df_y = df_y.rename({f'day_{pred_day}_delta_{outcome}': outcome}, axis=1)\n",
    "    df_model = pd.concat([df_x, df_y], axis=1)\n",
    "\n",
    "    # todo add pred day End-of-Period metrics\n",
    "    return df_model"
   ]
  },
  {
   "cell_type": "code",
   "execution_count": null,
   "metadata": {
    "pycharm": {
     "name": "#%%\n"
    }
   },
   "outputs": [
    {
     "name": "stderr",
     "output_type": "stream",
     "text": [
      "\r",
      "  0%|          | 0/1 [00:00<?, ?it/s]"
     ]
    },
    {
     "name": "stdout",
     "output_type": "stream",
     "text": [
      "--- (0, 7) 10\n",
      "Parse progress: |█████████████████████████████████████████████████████████| 100%\n",
      "glm Grid Build progress: |████████████████████████████████████████████████| 100%\n",
      "glm Model Build progress: |███████████████████████████████████████████████| 100%\n",
      "Parse progress: |█████████████████████████████████████████████████████████| 100%\n",
      "glm Grid Build progress: |████████████████████████████████████████████████| 100%\n",
      "glm Model Build progress: |███████████████████████████████████████████████| 100%\n",
      "--- (1, 8) 11\n",
      "Parse progress: |█████████████████████████████████████████████████████████| 100%\n",
      "glm Grid Build progress: |████████████████████████████████████████████████| 100%\n",
      "glm Model Build progress: |███████████████████████████████████████████████| 100%\n",
      "Parse progress: |█████████████████████████████████████████████████████████| 100%\n",
      "glm Grid Build progress: |████████████████████████████████████████████████| 100%\n",
      "glm Model Build progress: |███████████████████████████████████████████████| 100%\n",
      "--- (2, 9) 12\n",
      "Parse progress: |█████████████████████████████████████████████████████████| 100%\n",
      "glm Grid Build progress: |████████████████████████████████████████████████| 100%\n",
      "glm Model Build progress: |███████████████████████████████████████████████| 100%\n"
     ]
    }
   ],
   "source": [
    "model_start_time = datetime.datetime.now().strftime('%m_%d_%H_%M')  # as a flag to track separate model results\n",
    "\n",
    "periods = 30  # total number of days to try in each period\n",
    "prediction_period = 3\n",
    "output_df = pd.DataFrame()\n",
    "\n",
    "# model by start days to show changing predictability over time\n",
    "for training_range in tqdm([7]):  # range of dates used for training data, from 4 days of training to 20 days\n",
    "    mae = {'cases': [], 'deaths': []}  # todo outcome try actual n cases\n",
    "    for day in range(periods):\n",
    "        date_range = (day, day + training_range)  # interval controls the length of data collected\n",
    "        y_day = day + training_range + prediction_period  # currently only predict results from n days out\n",
    "        print('---', date_range, y_day)\n",
    "\n",
    "        for y in ['cases', 'deaths']:\n",
    "            # outcome = f'day_{y_day}_delta_{y}'\n",
    "            tmp_df = prepare_model_data(date_range, y_day, y)\n",
    "\n",
    "            if len(tmp_df) <= 200:\n",
    "                continue\n",
    "\n",
    "            tmp_output_df = simplified_model.linear(prepare_model_data(date_range, y_day, y),\n",
    "                                                    outcome=y, family='gaussian', link='identity', seed=1,\n",
    "                                                    model_name=f'{date_range[0]}_{date_range[1]}_{y_day}',\n",
    "                                                    suffix=model_start_time)\n",
    "\n",
    "            try:\n",
    "                mae[y].append(list(set(tmp_output_df['mae']))[0])\n",
    "                tmp_output_df['start_date'] = date_range[0]\n",
    "                tmp_output_df['end_date'] = date_range[1]\n",
    "                tmp_output_df['interval'] = training_range\n",
    "                tmp_output_df['pred_date'] = y_day\n",
    "                tmp_output_df['outcome_name'] = y\n",
    "                output_df = output_df.append(tmp_output_df)\n",
    "            except TypeError:\n",
    "                print('--- No longer predictive')\n",
    "                break"
   ]
  },
  {
   "cell_type": "code",
   "execution_count": null,
   "metadata": {},
   "outputs": [],
   "source": [
    "output_df.to_csv(f'../reports/model_coef_{model_start_time}.csv', index=False)"
   ]
  },
  {
   "cell_type": "code",
   "execution_count": null,
   "metadata": {
    "pycharm": {
     "name": "#%%\n"
    }
   },
   "outputs": [],
   "source": [
    "# coefficient plots\n",
    "for y in ['deaths', 'cases']:\n",
    "    tmp_output_df = output_df[output_df['outcome_name'] == y]\n",
    "    n_variables = len(set(tmp_output_df['names']))\n",
    "    fig, axes = plt.subplots(int(np.ceil(n_variables / 4)), 4, figsize=(16, 10), sharex='all')\n",
    "\n",
    "    i = 0\n",
    "    for c in set(tmp_output_df['names']):\n",
    "        axes[i // 4, i % 4].plot(tmp_output_df[tmp_output_df['names'] == c]['start_date'],\n",
    "                                 tmp_output_df[tmp_output_df['names'] == c]['coefficients'])\n",
    "        axes[i // 4, i % 4].set_title(f'{c}')\n",
    "        axes[i // 4, i % 4].set_ylabel('Coefficient')\n",
    "        axes[i // 4, i % 4].set_xlabel('Day')\n",
    "        i += 1\n",
    "\n",
    "    plt.show()"
   ]
  },
  {
   "cell_type": "code",
   "execution_count": null,
   "metadata": {
    "pycharm": {
     "name": "#%%\n"
    }
   },
   "outputs": [],
   "source": [
    "# performance plots\n",
    "for metric in ['r2', 'mae']:\n",
    "    performance_df = output_df[['start_date', 'r2', 'mae', 'outcome_name']].drop_duplicates()\n",
    "    for y in ['deaths', 'cases']:\n",
    "        tmp_performance_df = performance_df[performance_df['outcome_name'] == y]\n",
    "        plt.plot(tmp_performance_df['start_date'], tmp_performance_df[metric])\n",
    "        plt.title('Metric by Day')\n",
    "        plt.xlabel('Day')\n",
    "        plt.ylabel(metric)\n",
    "        plt.show()"
   ]
  },
  {
   "cell_type": "code",
   "execution_count": null,
   "metadata": {
    "pycharm": {
     "name": "#%%\n"
    }
   },
   "outputs": [],
   "source": [
    "# try gam\n",
    "fig = simplified_model.linear_gam(prepare_model_data((0, 7), 14, 'deaths'), 'deaths', seed=1)\n",
    "plt.show()"
   ]
  }
 ],
 "metadata": {
  "kernelspec": {
   "display_name": "Python 3",
   "language": "python",
   "name": "python3"
  },
  "language_info": {
   "codemirror_mode": {
    "name": "ipython",
    "version": 3
   },
   "file_extension": ".py",
   "mimetype": "text/x-python",
   "name": "python",
   "nbconvert_exporter": "python",
   "pygments_lexer": "ipython3",
   "version": "3.7.7"
  }
 },
 "nbformat": 4,
 "nbformat_minor": 1
}
