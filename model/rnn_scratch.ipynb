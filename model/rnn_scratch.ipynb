{
 "cells": [
  {
   "cell_type": "code",
   "execution_count": 12,
   "metadata": {},
   "outputs": [],
   "source": [
    "import sys\n",
    "sys.path.append('../')\n",
    "import datetime\n",
    "import pandas as pd\n",
    "import numpy as np\n",
    "from lib import get_data\n",
    "import matplotlib.pyplot as plt"
   ]
  },
  {
   "cell_type": "code",
   "execution_count": 13,
   "metadata": {},
   "outputs": [],
   "source": [
    "OTHERS = ['date', 'county', 'state', 'fips', 'cases', 'deaths', \n",
    "                'income_2018', 'pop_2018',\n",
    "                'pred_cases', 'pred_deaths']\n",
    "WEATHER = ['heatIndexMin', 'heatIndexAvg', 'heatIndexMax','relHumMin',\n",
    "                'relHumAvg', 'relHumMax',  'tempMin', 'tempAvg', 'tempMax', 'windChillMin', 'windChillAvg',\n",
    "                'windChillMax', 'windDirAvg']\n",
    "MOBILITY = ['retail_and_recreation_percent_change_from_baseline',\n",
    "                'residential_percent_change_from_baseline',\n",
    "                'workplaces_percent_change_from_baseline',\n",
    "                'transit_stations_percent_change_from_baseline',\n",
    "                'grocery_and_pharmacy_percent_change_from_baseline',\n",
    "                'parks_percent_change_from_baseline']\n",
    "COLUMNS = OTHERS + WEATHER + MOBILITY\n",
    "LEN = 20"
   ]
  },
  {
   "cell_type": "code",
   "execution_count": 14,
   "metadata": {},
   "outputs": [],
   "source": [
    "processed_path = '../data/processed/time_series_updated.csv'\n",
    "data = pd.read_csv(processed_path)"
   ]
  },
  {
   "cell_type": "code",
   "execution_count": 15,
   "metadata": {},
   "outputs": [],
   "source": [
    "# normalize \n",
    "income_max = data['income_2018'].max()\n",
    "income_min = data['income_2018'].min()\n",
    "data['income_2018'] = (data['income_2018'] - income_min) / income_max\n",
    "\n",
    "pop_max = data['pop_2018'].max()\n",
    "pop_min = data['pop_2018'].min()\n",
    "data['pop_2018'] = (data['pop_2018']-pop_min)/pop_max\n",
    "\n",
    "# normalize weather\n",
    "weather = data[WEATHER]\n",
    "weather_max = weather.max()\n",
    "weather_min = weather.min()\n",
    "weather_new = (weather - weather_min)/weather_max\n",
    "data[WEATHER] = weather_new\n",
    "\n",
    "# # nomalize mobility\n",
    "# mobility = data[MOBILITY]\n",
    "# mobility_mean = mobility.mean()\n",
    "# mobility_std = mobility.std()\n",
    "# mobility_new = (mobility - mobility_mean)/mobility_std\n",
    "# data[MOBILITY] = mobility_new"
   ]
  },
  {
   "cell_type": "code",
   "execution_count": 16,
   "metadata": {},
   "outputs": [],
   "source": [
    "def get_model_data_cumulative(data, date_range=(0, 14), pred_day=21):\n",
    "    \"\"\"\n",
    "\n",
    "    :param date_range: integer measuring the number of days since first day w/ 10 cases\n",
    "    :param pred_day:\n",
    "    :return:\n",
    "    \"\"\"\n",
    "\n",
    "    # ensure full coverage of interested dates\n",
    "    data = data[data['fips'].isin(data[data['days_since_10_cases'] == pred_day]['fips'].drop_duplicates())]\n",
    "\n",
    "    # filter for training and testing dates\n",
    "    data_x = data[data['days_since_10_cases'].between(date_range[0], date_range[1])]\n",
    "    data_grouped = data_x.groupby(['state', 'county', 'fips']).agg('mean').reset_index()  # todo play with granularity\n",
    "    data_x = data_x.drop(['days_since_10_cases'], axis=1)\n",
    "\n",
    "    # get change rate since last training date\n",
    "    data_y = data[data['days_since_10_cases'].isin([date_range[1], pred_day])][\n",
    "        ['fips', 'cases', 'deaths', 'days_since_10_cases']]\n",
    "    data_y = data_y.sort_values(['fips', 'days_since_10_cases']).reset_index(drop=True)\n",
    "    day_idx = np.where(data_y['days_since_10_cases'] == pred_day)[0]\n",
    "    data_y_new = data_y.iloc[day_idx, :].reset_index()\n",
    "    data_y_new = data_y_new.drop(['index','days_since_10_cases'], axis=1)\n",
    "    data_y_new['fips'] = data_y.loc[day_idx, 'fips'].reset_index(drop=True)\n",
    "    data_y_new = data_y_new.add_prefix('pred_')\n",
    "    \n",
    "    \n",
    "    data = data_x.merge(data_y_new, left_on='fips', right_on='pred_fips', how='inner')\n",
    "#     data_grouped = data_grouped.merge(data_y, left_on='fips', right_on=f'day_{pred_day}_cumulative_fips',\n",
    "#                                       how='inner')\n",
    "#     data_grouped = data_grouped.drop(f'day_{pred_day}_cumulative_fips', axis=1)\n",
    "    data = data.drop('pred_fips', axis=1)\n",
    "    \n",
    "    data = data[COLUMNS]\n",
    "    data = data.fillna(0)\n",
    "    data = data.drop(['county','state'],axis=1)\n",
    "#     data_grouped = data_grouped[COLUMNS]\n",
    "    return data \n"
   ]
  },
  {
   "cell_type": "markdown",
   "metadata": {},
   "source": [
    "Generating training set\n",
    "-----------"
   ]
  },
  {
   "cell_type": "code",
   "execution_count": 17,
   "metadata": {},
   "outputs": [],
   "source": [
    "start = 1\n",
    "end = 100\n",
    "\n",
    "X_train = np.array([])\n",
    "y_train = np.array([])\n",
    "\n",
    "for i in range(start, end):\n",
    "    df = get_model_data_cumulative(data, date_range=(i, i+LEN), pred_day=i+LEN+1)\n",
    "    if df.empty is False:\n",
    "        grouped_by_fips = df.groupby(['fips']).groups\n",
    "        count = 0\n",
    "        for fips in grouped_by_fips:\n",
    "            index = grouped_by_fips[fips]\n",
    "            y = np.expand_dims(df.iloc[index]['pred_cases'].to_numpy(),axis=0)\n",
    "#             train = np.expand_dims(df.iloc[index].drop(['date','fips','pred_cases','pred_deaths'],axis=1).to_numpy(),axis=0)\n",
    "            train = np.expand_dims(df.iloc[index]['cases'].to_numpy(),axis=0)\n",
    "#             train = np.expand_dims(df.iloc[index].drop(['date','fips'],axis=1)[['cases','pred_cases']].to_numpy(),axis=0)\n",
    "            \n",
    "            if i == 1:\n",
    "                X_train = train\n",
    "#                 X_train = train[:,:,0]\n",
    "                y_train = y.mean()\n",
    "#                 y_train = train[:,:,1].mean()\n",
    "            else:\n",
    "                X_train = np.vstack((X_train,  train))\n",
    "                y_train =np.vstack((y_train,y.mean()))\n",
    "# X_train = np.array(X_train)\n",
    "# y_train = np.array(y_train)"
   ]
  },
  {
   "cell_type": "code",
   "execution_count": 383,
   "metadata": {},
   "outputs": [],
   "source": [
    "i=59\n",
    "df = get_model_data_cumulative(data, date_range=(i, i+LEN), pred_day=i+LEN+1)\n",
    "x_test = df.drop(['date','fips','pred_cases','pred_deaths'],axis=1).to_numpy()\n",
    "x_test =  np.expand_dims(x_test, axis=0)"
   ]
  },
  {
   "cell_type": "code",
   "execution_count": 388,
   "metadata": {},
   "outputs": [
    {
     "data": {
      "text/html": [
       "<div>\n",
       "<style scoped>\n",
       "    .dataframe tbody tr th:only-of-type {\n",
       "        vertical-align: middle;\n",
       "    }\n",
       "\n",
       "    .dataframe tbody tr th {\n",
       "        vertical-align: top;\n",
       "    }\n",
       "\n",
       "    .dataframe thead th {\n",
       "        text-align: right;\n",
       "    }\n",
       "</style>\n",
       "<table border=\"1\" class=\"dataframe\">\n",
       "  <thead>\n",
       "    <tr style=\"text-align: right;\">\n",
       "      <th></th>\n",
       "      <th>date</th>\n",
       "      <th>fips</th>\n",
       "      <th>cases</th>\n",
       "      <th>deaths</th>\n",
       "      <th>income_2018</th>\n",
       "      <th>pop_2018</th>\n",
       "      <th>pred_cases</th>\n",
       "      <th>pred_deaths</th>\n",
       "      <th>heatIndexMin</th>\n",
       "      <th>heatIndexAvg</th>\n",
       "      <th>...</th>\n",
       "      <th>windChillMin</th>\n",
       "      <th>windChillAvg</th>\n",
       "      <th>windChillMax</th>\n",
       "      <th>windDirAvg</th>\n",
       "      <th>retail_and_recreation_percent_change_from_baseline</th>\n",
       "      <th>residential_percent_change_from_baseline</th>\n",
       "      <th>workplaces_percent_change_from_baseline</th>\n",
       "      <th>transit_stations_percent_change_from_baseline</th>\n",
       "      <th>grocery_and_pharmacy_percent_change_from_baseline</th>\n",
       "      <th>parks_percent_change_from_baseline</th>\n",
       "    </tr>\n",
       "  </thead>\n",
       "  <tbody>\n",
       "    <tr>\n",
       "      <th>0</th>\n",
       "      <td>2020-04-16</td>\n",
       "      <td>31055</td>\n",
       "      <td>280</td>\n",
       "      <td>8</td>\n",
       "      <td>0.18419</td>\n",
       "      <td>0.055826</td>\n",
       "      <td>302</td>\n",
       "      <td>8</td>\n",
       "      <td>0.480920</td>\n",
       "      <td>0.353557</td>\n",
       "      <td>...</td>\n",
       "      <td>0.556642</td>\n",
       "      <td>0.488137</td>\n",
       "      <td>0.359256</td>\n",
       "      <td>0.169444</td>\n",
       "      <td>-47.0</td>\n",
       "      <td>24.0</td>\n",
       "      <td>-48.0</td>\n",
       "      <td>-47.0</td>\n",
       "      <td>-19.0</td>\n",
       "      <td>-40.0</td>\n",
       "    </tr>\n",
       "    <tr>\n",
       "      <th>1</th>\n",
       "      <td>2020-04-17</td>\n",
       "      <td>31055</td>\n",
       "      <td>287</td>\n",
       "      <td>8</td>\n",
       "      <td>0.18419</td>\n",
       "      <td>0.055826</td>\n",
       "      <td>302</td>\n",
       "      <td>8</td>\n",
       "      <td>0.452862</td>\n",
       "      <td>0.390394</td>\n",
       "      <td>...</td>\n",
       "      <td>0.556642</td>\n",
       "      <td>0.548814</td>\n",
       "      <td>0.467930</td>\n",
       "      <td>0.658333</td>\n",
       "      <td>-39.0</td>\n",
       "      <td>21.0</td>\n",
       "      <td>-46.0</td>\n",
       "      <td>-40.0</td>\n",
       "      <td>-7.0</td>\n",
       "      <td>-28.0</td>\n",
       "    </tr>\n",
       "    <tr>\n",
       "      <th>2</th>\n",
       "      <td>2020-04-18</td>\n",
       "      <td>31055</td>\n",
       "      <td>297</td>\n",
       "      <td>8</td>\n",
       "      <td>0.18419</td>\n",
       "      <td>0.055826</td>\n",
       "      <td>302</td>\n",
       "      <td>8</td>\n",
       "      <td>0.544893</td>\n",
       "      <td>0.577826</td>\n",
       "      <td>...</td>\n",
       "      <td>0.632437</td>\n",
       "      <td>0.768184</td>\n",
       "      <td>0.768029</td>\n",
       "      <td>0.613889</td>\n",
       "      <td>-43.0</td>\n",
       "      <td>11.0</td>\n",
       "      <td>-25.0</td>\n",
       "      <td>-26.0</td>\n",
       "      <td>-4.0</td>\n",
       "      <td>-3.0</td>\n",
       "    </tr>\n",
       "  </tbody>\n",
       "</table>\n",
       "<p>3 rows × 27 columns</p>\n",
       "</div>"
      ],
      "text/plain": [
       "         date   fips  cases  deaths  income_2018  pop_2018  pred_cases  \\\n",
       "0  2020-04-16  31055    280       8      0.18419  0.055826         302   \n",
       "1  2020-04-17  31055    287       8      0.18419  0.055826         302   \n",
       "2  2020-04-18  31055    297       8      0.18419  0.055826         302   \n",
       "\n",
       "   pred_deaths  heatIndexMin  heatIndexAvg  ...  windChillMin  windChillAvg  \\\n",
       "0            8      0.480920      0.353557  ...      0.556642      0.488137   \n",
       "1            8      0.452862      0.390394  ...      0.556642      0.548814   \n",
       "2            8      0.544893      0.577826  ...      0.632437      0.768184   \n",
       "\n",
       "   windChillMax  windDirAvg  \\\n",
       "0      0.359256    0.169444   \n",
       "1      0.467930    0.658333   \n",
       "2      0.768029    0.613889   \n",
       "\n",
       "   retail_and_recreation_percent_change_from_baseline  \\\n",
       "0                                              -47.0    \n",
       "1                                              -39.0    \n",
       "2                                              -43.0    \n",
       "\n",
       "   residential_percent_change_from_baseline  \\\n",
       "0                                      24.0   \n",
       "1                                      21.0   \n",
       "2                                      11.0   \n",
       "\n",
       "   workplaces_percent_change_from_baseline  \\\n",
       "0                                    -48.0   \n",
       "1                                    -46.0   \n",
       "2                                    -25.0   \n",
       "\n",
       "   transit_stations_percent_change_from_baseline  \\\n",
       "0                                          -47.0   \n",
       "1                                          -40.0   \n",
       "2                                          -26.0   \n",
       "\n",
       "   grocery_and_pharmacy_percent_change_from_baseline  \\\n",
       "0                                              -19.0   \n",
       "1                                               -7.0   \n",
       "2                                               -4.0   \n",
       "\n",
       "   parks_percent_change_from_baseline  \n",
       "0                               -40.0  \n",
       "1                               -28.0  \n",
       "2                                -3.0  \n",
       "\n",
       "[3 rows x 27 columns]"
      ]
     },
     "execution_count": 388,
     "metadata": {},
     "output_type": "execute_result"
    }
   ],
   "source": [
    "df"
   ]
  },
  {
   "cell_type": "code",
   "execution_count": 18,
   "metadata": {},
   "outputs": [],
   "source": [
    "X_train_new = np.expand_dims(X_train, axis=2)"
   ]
  },
  {
   "cell_type": "code",
   "execution_count": 19,
   "metadata": {},
   "outputs": [
    {
     "data": {
      "text/plain": [
       "(4530, 21, 1)"
      ]
     },
     "execution_count": 19,
     "metadata": {},
     "output_type": "execute_result"
    }
   ],
   "source": [
    "X_train_new.shape"
   ]
  },
  {
   "cell_type": "markdown",
   "metadata": {},
   "source": [
    "RNN\n",
    "--------"
   ]
  },
  {
   "cell_type": "code",
   "execution_count": 20,
   "metadata": {},
   "outputs": [
    {
     "name": "stdout",
     "output_type": "stream",
     "text": [
      "2.2.4-tf\n",
      "2.1.0\n"
     ]
    }
   ],
   "source": [
    "import tensorflow as tf\n",
    "from tensorflow.keras import backend\n",
    "\n",
    "from tensorflow.keras import Model, Sequential\n",
    "from tensorflow.keras.models import model_from_json\n",
    "from tensorflow.keras.layers import Input, SimpleRNN, Dense, GRU, Dropout, Bidirectional,\\\n",
    "                                    BatchNormalization, LSTM\n",
    "\n",
    "from sklearn.decomposition import PCA\n",
    "\n",
    "print(tf.keras.__version__)\n",
    "print(tf.__version__)"
   ]
  },
  {
   "cell_type": "code",
   "execution_count": 21,
   "metadata": {},
   "outputs": [],
   "source": [
    "# Store model\n",
    "def store_keras_model(model, model_name):\n",
    "    model_json = model.to_json() # serialize model to JSON\n",
    "    with open(\"./models/{}.json\".format(model_name), \"w\") as json_file:\n",
    "        json_file.write(model_json)\n",
    "    model.save_weights(\"./models/{}.h5\".format(model_name)) # serialize weights to HDF5\n",
    "    print(\"Saved model to disk\")\n",
    "    \n",
    "# Plot history\n",
    "def plot_training_history(history):\n",
    "    loss = history.history['loss']\n",
    "    val_loss = history.history['val_loss']\n",
    "    epochs = range(1,len(loss)+1)\n",
    "\n",
    "    plt.figure()\n",
    "    plt.plot(epochs, loss, 'bo', label='Training loss')\n",
    "    plt.plot(epochs, val_loss, 'b', label='Validation loss')\n",
    "    plt.title('Training and validation loss')\n",
    "    plt.xlabel('epoch')\n",
    "    plt.legend()\n",
    "    plt.show()\n",
    "\n",
    "# Load model \n",
    "def load_keras_model(model_name):\n",
    "    # Load json and create model\n",
    "    json_file = open('./models/{}.json'.format(model_name), 'r')\n",
    "    loaded_model_json = json_file.read()\n",
    "    json_file.close()\n",
    "    model = tf.keras.models.model_from_json(loaded_model_json)\n",
    "    # Load weights into new model\n",
    "    model.load_weights(\"./models/{}.h5\".format(model_name))\n",
    "    return model"
   ]
  },
  {
   "cell_type": "code",
   "execution_count": 25,
   "metadata": {},
   "outputs": [],
   "source": [
    "# your code here\n",
    "input0 = Input(shape=(21,1), name='Input')\n",
    "lstm1 = LSTM(100, return_sequences=False)(input0)\n",
    "# dense1 = Dense(128, activation = 'relu')(lstm1)\n",
    "# dropout1 = BatchNormalization()(dense1)\n",
    "# dense2 = Dense(128, activation = 'relu')(dropout1)\n",
    "# dense3 = Dense(128, activation = 'relu')(dense2)\n",
    "# dense4 = Dense(64, activation = 'relu')(dense3)\n",
    "output = Dense(1, activation = 'relu')(lstm1)\n",
    "\n",
    "\n",
    "model = Model(input0, output, name='rnn')\n",
    "mse = tf.keras.losses.MeanSquaredError()\n",
    "optimizer = tf.keras.optimizers.Adam(learning_rate=0.001)\n",
    "model.compile(optimizer='adam', loss=mse, metrics=['mse'])"
   ]
  },
  {
   "cell_type": "code",
   "execution_count": 26,
   "metadata": {},
   "outputs": [
    {
     "name": "stdout",
     "output_type": "stream",
     "text": [
      "Model: \"rnn\"\n",
      "_________________________________________________________________\n",
      "Layer (type)                 Output Shape              Param #   \n",
      "=================================================================\n",
      "Input (InputLayer)           [(None, 21, 1)]           0         \n",
      "_________________________________________________________________\n",
      "lstm_1 (LSTM)                (None, 100)               40800     \n",
      "_________________________________________________________________\n",
      "dense_1 (Dense)              (None, 1)                 101       \n",
      "=================================================================\n",
      "Total params: 40,901\n",
      "Trainable params: 40,901\n",
      "Non-trainable params: 0\n",
      "_________________________________________________________________\n"
     ]
    }
   ],
   "source": [
    "model.summary()"
   ]
  },
  {
   "cell_type": "code",
   "execution_count": 27,
   "metadata": {
    "scrolled": true
   },
   "outputs": [
    {
     "name": "stdout",
     "output_type": "stream",
     "text": [
      "Train on 3624 samples, validate on 906 samples\n",
      "Epoch 1/100\n",
      "3624/3624 [==============================] - 2s 420us/sample - loss: 4108434.4702 - mse: 4108435.0000 - val_loss: 43482515.2318 - val_mse: 43482512.0000\n",
      "Epoch 2/100\n",
      "3624/3624 [==============================] - 0s 9us/sample - loss: 4108434.3962 - mse: 4108434.7500 - val_loss: 43482515.2318 - val_mse: 43482512.0000\n",
      "Epoch 3/100\n",
      "3624/3624 [==============================] - 0s 8us/sample - loss: 4108434.5044 - mse: 4108434.2500 - val_loss: 43482515.2318 - val_mse: 43482512.0000\n",
      "Epoch 4/100\n",
      "3624/3624 [==============================] - 0s 12us/sample - loss: 4108434.3565 - mse: 4108434.0000 - val_loss: 43482515.2318 - val_mse: 43482512.0000\n",
      "Epoch 5/100\n",
      "3624/3624 [==============================] - 0s 19us/sample - loss: 4108434.2958 - mse: 4108434.0000 - val_loss: 43482515.2318 - val_mse: 43482512.0000\n",
      "Epoch 6/100\n",
      "3624/3624 [==============================] - 0s 18us/sample - loss: 4108434.3488 - mse: 4108434.2500 - val_loss: 43482515.2318 - val_mse: 43482512.0000\n",
      "Epoch 7/100\n",
      "3624/3624 [==============================] - 0s 19us/sample - loss: 4108434.2954 - mse: 4108434.2500 - val_loss: 43482515.2318 - val_mse: 43482512.0000\n",
      "Epoch 8/100\n",
      "3624/3624 [==============================] - 0s 19us/sample - loss: 4108434.3146 - mse: 4108434.2500 - val_loss: 43482515.2318 - val_mse: 43482512.0000\n",
      "Epoch 9/100\n",
      "3624/3624 [==============================] - 0s 19us/sample - loss: 4108434.4862 - mse: 4108434.7500 - val_loss: 43482515.2318 - val_mse: 43482512.0000\n",
      "Epoch 10/100\n",
      "3624/3624 [==============================] - 0s 19us/sample - loss: 4108434.3874 - mse: 4108434.2500 - val_loss: 43482515.2318 - val_mse: 43482512.0000\n",
      "Epoch 11/100\n",
      "3624/3624 [==============================] - 0s 18us/sample - loss: 4108434.5058 - mse: 4108435.0000 - val_loss: 43482515.2318 - val_mse: 43482512.0000\n",
      "Epoch 12/100\n",
      "3624/3624 [==============================] - 0s 19us/sample - loss: 4108434.3675 - mse: 4108434.2500 - val_loss: 43482515.2318 - val_mse: 43482512.0000\n",
      "Epoch 13/100\n",
      "3624/3624 [==============================] - 0s 20us/sample - loss: 4108434.3256 - mse: 4108434.2500 - val_loss: 43482515.2318 - val_mse: 43482512.0000\n",
      "Epoch 14/100\n",
      "3624/3624 [==============================] - 0s 32us/sample - loss: 4108434.2550 - mse: 4108434.0000 - val_loss: 43482515.2318 - val_mse: 43482512.0000\n",
      "Epoch 15/100\n",
      "3624/3624 [==============================] - 0s 20us/sample - loss: 4108434.3091 - mse: 4108434.2500 - val_loss: 43482515.2318 - val_mse: 43482512.0000\n",
      "Epoch 16/100\n",
      "3624/3624 [==============================] - 0s 10us/sample - loss: 4108434.3267 - mse: 4108434.2500 - val_loss: 43482515.2318 - val_mse: 43482512.0000\n",
      "Epoch 17/100\n",
      "3624/3624 [==============================] - 0s 11us/sample - loss: 4108434.4615 - mse: 4108434.2500 - val_loss: 43482515.2318 - val_mse: 43482512.0000\n",
      "Epoch 18/100\n",
      "3624/3624 [==============================] - 0s 13us/sample - loss: 4108434.3664 - mse: 4108434.2500 - val_loss: 43482515.2318 - val_mse: 43482512.0000\n",
      "Epoch 19/100\n",
      "3624/3624 [==============================] - 0s 13us/sample - loss: 4108434.4018 - mse: 4108434.2500 - val_loss: 43482515.2318 - val_mse: 43482512.0000\n",
      "Epoch 20/100\n",
      "3624/3624 [==============================] - 0s 13us/sample - loss: 4108434.3466 - mse: 4108434.2500 - val_loss: 43482515.2318 - val_mse: 43482512.0000\n",
      "Epoch 21/100\n",
      "3624/3624 [==============================] - 0s 13us/sample - loss: 4108434.4514 - mse: 4108434.7500 - val_loss: 43482515.2318 - val_mse: 43482512.0000\n",
      "Epoch 22/100\n",
      "3624/3624 [==============================] - 0s 14us/sample - loss: 4108434.3440 - mse: 4108434.0000 - val_loss: 43482515.2318 - val_mse: 43482512.0000\n",
      "Epoch 23/100\n",
      "3624/3624 [==============================] - 0s 13us/sample - loss: 4108434.4873 - mse: 4108434.2500 - val_loss: 43482515.2318 - val_mse: 43482512.0000\n",
      "Epoch 24/100\n",
      "3624/3624 [==============================] - 0s 15us/sample - loss: 4108434.4205 - mse: 4108434.7500 - val_loss: 43482515.2318 - val_mse: 43482512.0000\n",
      "Epoch 25/100\n",
      "3624/3624 [==============================] - 0s 15us/sample - loss: 4108434.3874 - mse: 4108434.2500 - val_loss: 43482515.2318 - val_mse: 43482512.0000\n",
      "Epoch 26/100\n",
      "3624/3624 [==============================] - 0s 15us/sample - loss: 4108434.3797 - mse: 4108434.2500 - val_loss: 43482515.2318 - val_mse: 43482512.0000\n",
      "Epoch 27/100\n",
      "3624/3624 [==============================] - 0s 15us/sample - loss: 4108434.3389 - mse: 4108434.2500 - val_loss: 43482515.2318 - val_mse: 43482512.0000\n",
      "Epoch 28/100\n",
      "3624/3624 [==============================] - 0s 15us/sample - loss: 4108434.4581 - mse: 4108434.7500 - val_loss: 43482515.2318 - val_mse: 43482512.0000\n",
      "Epoch 29/100\n",
      "3624/3624 [==============================] - 0s 16us/sample - loss: 4108434.4553 - mse: 4108434.2500 - val_loss: 43482515.2318 - val_mse: 43482512.0000\n",
      "Epoch 30/100\n",
      "3624/3624 [==============================] - 0s 15us/sample - loss: 4108434.3366 - mse: 4108434.2500 - val_loss: 43482515.2318 - val_mse: 43482512.0000\n",
      "Epoch 31/100\n",
      "3624/3624 [==============================] - 0s 15us/sample - loss: 4108434.5077 - mse: 4108434.2500 - val_loss: 43482515.2318 - val_mse: 43482512.0000\n",
      "Epoch 32/100\n",
      "3624/3624 [==============================] - 0s 16us/sample - loss: 4108434.4360 - mse: 4108434.2500 - val_loss: 43482515.2318 - val_mse: 43482512.0000\n",
      "Epoch 33/100\n",
      "3624/3624 [==============================] - 0s 19us/sample - loss: 4108434.4716 - mse: 4108434.7500 - val_loss: 43482515.2318 - val_mse: 43482512.0000\n",
      "Epoch 34/100\n",
      "3624/3624 [==============================] - 0s 19us/sample - loss: 4108434.4945 - mse: 4108434.2500 - val_loss: 43482515.2318 - val_mse: 43482512.0000\n",
      "Epoch 35/100\n",
      "3624/3624 [==============================] - 0s 19us/sample - loss: 4108434.2307 - mse: 4108434.2500 - val_loss: 43482515.2318 - val_mse: 43482512.0000\n",
      "Epoch 36/100\n",
      "3624/3624 [==============================] - 0s 19us/sample - loss: 4108434.3355 - mse: 4108434.2500 - val_loss: 43482515.2318 - val_mse: 43482512.0000\n",
      "Epoch 37/100\n",
      "3624/3624 [==============================] - 0s 19us/sample - loss: 4108434.4393 - mse: 4108434.7500 - val_loss: 43482515.2318 - val_mse: 43482512.0000\n",
      "Epoch 38/100\n",
      "3624/3624 [==============================] - 0s 24us/sample - loss: 4108434.3477 - mse: 4108434.2500 - val_loss: 43482515.2318 - val_mse: 43482512.0000\n",
      "Epoch 39/100\n",
      "3624/3624 [==============================] - 0s 24us/sample - loss: 4108434.4387 - mse: 4108434.7500 - val_loss: 43482515.2318 - val_mse: 43482512.0000\n",
      "Epoch 40/100\n",
      "3624/3624 [==============================] - 0s 24us/sample - loss: 4108434.4288 - mse: 4108434.2500 - val_loss: 43482515.2318 - val_mse: 43482512.0000\n",
      "Epoch 41/100\n",
      "3624/3624 [==============================] - 0s 26us/sample - loss: 4108434.4581 - mse: 4108434.2500 - val_loss: 43482515.2318 - val_mse: 43482512.0000\n",
      "Epoch 42/100\n",
      "3624/3624 [==============================] - 0s 26us/sample - loss: 4108434.5839 - mse: 4108434.7500 - val_loss: 43482515.2318 - val_mse: 43482512.0000\n",
      "Epoch 43/100\n",
      "3624/3624 [==============================] - 0s 25us/sample - loss: 4108434.4735 - mse: 4108434.2500 - val_loss: 43482515.2318 - val_mse: 43482512.0000\n",
      "Epoch 44/100\n",
      "3624/3624 [==============================] - 0s 26us/sample - loss: 4108434.3813 - mse: 4108434.2500 - val_loss: 43482515.2318 - val_mse: 43482512.0000\n",
      "Epoch 45/100\n",
      "3624/3624 [==============================] - 0s 25us/sample - loss: 4108434.5072 - mse: 4108434.2500 - val_loss: 43482515.2318 - val_mse: 43482512.0000\n",
      "Epoch 46/100\n",
      "3624/3624 [==============================] - 0s 25us/sample - loss: 4108434.3953 - mse: 4108434.0000 - val_loss: 43482515.2318 - val_mse: 43482512.0000\n",
      "Epoch 47/100\n",
      "3624/3624 [==============================] - 0s 25us/sample - loss: 4108434.3742 - mse: 4108434.0000 - val_loss: 43482515.2318 - val_mse: 43482512.0000\n",
      "Epoch 48/100\n",
      "3624/3624 [==============================] - 0s 25us/sample - loss: 4108434.3480 - mse: 4108434.0000 - val_loss: 43482515.2318 - val_mse: 43482512.0000\n",
      "Epoch 49/100\n",
      "3624/3624 [==============================] - 0s 25us/sample - loss: 4108434.3251 - mse: 4108434.2500 - val_loss: 43482515.2318 - val_mse: 43482512.0000\n",
      "Epoch 50/100\n",
      "3624/3624 [==============================] - 0s 19us/sample - loss: 4108434.1832 - mse: 4108434.0000 - val_loss: 43482515.2318 - val_mse: 43482512.0000\n",
      "Epoch 51/100\n",
      "3624/3624 [==============================] - 0s 17us/sample - loss: 4108434.3841 - mse: 4108434.2500 - val_loss: 43482515.2318 - val_mse: 43482512.0000\n",
      "Epoch 52/100\n",
      "3624/3624 [==============================] - 0s 17us/sample - loss: 4108434.2969 - mse: 4108434.0000 - val_loss: 43482515.2318 - val_mse: 43482512.0000\n",
      "Epoch 53/100\n",
      "3624/3624 [==============================] - 0s 17us/sample - loss: 4108434.3046 - mse: 4108434.2500 - val_loss: 43482515.2318 - val_mse: 43482512.0000\n",
      "Epoch 54/100\n",
      "3624/3624 [==============================] - 0s 18us/sample - loss: 4108434.4945 - mse: 4108434.7500 - val_loss: 43482515.2318 - val_mse: 43482512.0000\n",
      "Epoch 55/100\n",
      "3624/3624 [==============================] - 0s 17us/sample - loss: 4108434.3063 - mse: 4108434.2500 - val_loss: 43482515.2318 - val_mse: 43482512.0000\n",
      "Epoch 56/100\n",
      "3624/3624 [==============================] - 0s 17us/sample - loss: 4108434.4393 - mse: 4108434.0000 - val_loss: 43482515.2318 - val_mse: 43482512.0000\n",
      "Epoch 57/100\n",
      "3624/3624 [==============================] - 0s 17us/sample - loss: 4108434.3317 - mse: 4108434.2500 - val_loss: 43482515.2318 - val_mse: 43482512.0000\n",
      "Epoch 58/100\n",
      "3624/3624 [==============================] - 0s 18us/sample - loss: 4108434.2889 - mse: 4108434.2500 - val_loss: 43482515.2318 - val_mse: 43482512.0000\n",
      "Epoch 59/100\n",
      "3624/3624 [==============================] - 0s 18us/sample - loss: 4108434.4484 - mse: 4108434.2500 - val_loss: 43482515.2318 - val_mse: 43482512.0000\n",
      "Epoch 60/100\n",
      "3624/3624 [==============================] - 0s 18us/sample - loss: 4108434.4691 - mse: 4108434.7500 - val_loss: 43482515.2318 - val_mse: 43482512.0000\n",
      "Epoch 61/100\n",
      "3624/3624 [==============================] - 0s 17us/sample - loss: 4108434.3797 - mse: 4108434.2500 - val_loss: 43482515.2318 - val_mse: 43482512.0000\n",
      "Epoch 62/100\n",
      "3624/3624 [==============================] - 0s 18us/sample - loss: 4108434.5098 - mse: 4108434.7500 - val_loss: 43482515.2318 - val_mse: 43482512.0000\n",
      "Epoch 63/100\n",
      "3624/3624 [==============================] - 0s 18us/sample - loss: 4108434.6104 - mse: 4108434.2500 - val_loss: 43482515.2318 - val_mse: 43482512.0000\n",
      "Epoch 64/100\n",
      "3624/3624 [==============================] - 0s 17us/sample - loss: 4108434.3877 - mse: 4108434.7500 - val_loss: 43482515.2318 - val_mse: 43482512.0000\n",
      "Epoch 65/100\n",
      "3624/3624 [==============================] - 0s 18us/sample - loss: 4108434.3714 - mse: 4108434.2500 - val_loss: 43482515.2318 - val_mse: 43482512.0000\n",
      "Epoch 66/100\n",
      "3624/3624 [==============================] - 0s 18us/sample - loss: 4108434.4470 - mse: 4108434.2500 - val_loss: 43482515.2318 - val_mse: 43482512.0000\n",
      "Epoch 67/100\n",
      "3624/3624 [==============================] - 0s 18us/sample - loss: 4108434.4321 - mse: 4108434.7500 - val_loss: 43482515.2318 - val_mse: 43482512.0000\n",
      "Epoch 68/100\n",
      "3624/3624 [==============================] - 0s 18us/sample - loss: 4108434.4062 - mse: 4108434.7500 - val_loss: 43482515.2318 - val_mse: 43482512.0000\n",
      "Epoch 69/100\n",
      "3624/3624 [==============================] - 0s 18us/sample - loss: 4108434.3996 - mse: 4108434.0000 - val_loss: 43482515.2318 - val_mse: 43482512.0000\n",
      "Epoch 70/100\n",
      "3624/3624 [==============================] - 0s 18us/sample - loss: 4108434.5298 - mse: 4108434.7500 - val_loss: 43482515.2318 - val_mse: 43482512.0000\n",
      "Epoch 71/100\n",
      "3624/3624 [==============================] - 0s 17us/sample - loss: 4108434.3538 - mse: 4108434.2500 - val_loss: 43482515.2318 - val_mse: 43482512.0000\n",
      "Epoch 72/100\n",
      "3624/3624 [==============================] - 0s 17us/sample - loss: 4108434.4111 - mse: 4108434.2500 - val_loss: 43482515.2318 - val_mse: 43482512.0000\n",
      "Epoch 73/100\n",
      "3624/3624 [==============================] - 0s 18us/sample - loss: 4108434.4194 - mse: 4108434.2500 - val_loss: 43482515.2318 - val_mse: 43482512.0000\n",
      "Epoch 74/100\n",
      "3624/3624 [==============================] - 0s 17us/sample - loss: 4108434.3996 - mse: 4108434.0000 - val_loss: 43482515.2318 - val_mse: 43482512.0000\n",
      "Epoch 75/100\n",
      "3624/3624 [==============================] - 0s 17us/sample - loss: 4108434.5204 - mse: 4108434.2500 - val_loss: 43482515.2318 - val_mse: 43482512.0000\n",
      "Epoch 76/100\n",
      "3624/3624 [==============================] - 0s 18us/sample - loss: 4108434.4498 - mse: 4108434.2500 - val_loss: 43482515.2318 - val_mse: 43482512.0000\n",
      "Epoch 77/100\n",
      "3624/3624 [==============================] - 0s 18us/sample - loss: 4108434.3444 - mse: 4108434.2500 - val_loss: 43482515.2318 - val_mse: 43482512.0000\n",
      "Epoch 78/100\n",
      "3624/3624 [==============================] - 0s 17us/sample - loss: 4108434.5235 - mse: 4108434.7500 - val_loss: 43482515.2318 - val_mse: 43482512.0000\n",
      "Epoch 79/100\n",
      "3624/3624 [==============================] - 0s 17us/sample - loss: 4108434.2867 - mse: 4108433.7500 - val_loss: 43482515.2318 - val_mse: 43482512.0000\n",
      "Epoch 80/100\n",
      "3624/3624 [==============================] - 0s 19us/sample - loss: 4108434.3917 - mse: 4108434.2500 - val_loss: 43482515.2318 - val_mse: 43482512.0000\n",
      "Epoch 81/100\n",
      "3624/3624 [==============================] - 0s 17us/sample - loss: 4108434.3907 - mse: 4108434.2500 - val_loss: 43482515.2318 - val_mse: 43482512.0000\n",
      "Epoch 82/100\n",
      "3624/3624 [==============================] - 0s 17us/sample - loss: 4108434.3819 - mse: 4108434.2500 - val_loss: 43482515.2318 - val_mse: 43482512.0000\n",
      "Epoch 83/100\n",
      "3624/3624 [==============================] - 0s 18us/sample - loss: 4108434.4283 - mse: 4108435.0000 - val_loss: 43482515.2318 - val_mse: 43482512.0000\n",
      "Epoch 84/100\n",
      "3624/3624 [==============================] - 0s 17us/sample - loss: 4108434.3204 - mse: 4108434.2500 - val_loss: 43482515.2318 - val_mse: 43482512.0000\n",
      "Epoch 85/100\n",
      "3624/3624 [==============================] - 0s 18us/sample - loss: 4108434.4188 - mse: 4108434.2500 - val_loss: 43482515.2318 - val_mse: 43482512.0000\n",
      "Epoch 86/100\n",
      "3624/3624 [==============================] - 0s 18us/sample - loss: 4108434.4752 - mse: 4108434.2500 - val_loss: 43482515.2318 - val_mse: 43482512.0000\n",
      "Epoch 87/100\n",
      "3624/3624 [==============================] - 0s 18us/sample - loss: 4108434.3234 - mse: 4108434.0000 - val_loss: 43482515.2318 - val_mse: 43482512.0000\n",
      "Epoch 88/100\n",
      "3624/3624 [==============================] - 0s 17us/sample - loss: 4108434.4393 - mse: 4108434.2500 - val_loss: 43482515.2318 - val_mse: 43482512.0000\n",
      "Epoch 89/100\n",
      "3624/3624 [==============================] - 0s 18us/sample - loss: 4108434.3709 - mse: 4108434.2500 - val_loss: 43482515.2318 - val_mse: 43482512.0000\n",
      "Epoch 90/100\n",
      "3624/3624 [==============================] - 0s 18us/sample - loss: 4108434.4807 - mse: 4108434.0000 - val_loss: 43482515.2318 - val_mse: 43482512.0000\n",
      "Epoch 91/100\n",
      "3624/3624 [==============================] - 0s 18us/sample - loss: 4108434.2840 - mse: 4108434.2500 - val_loss: 43482515.2318 - val_mse: 43482512.0000\n",
      "Epoch 92/100\n",
      "3624/3624 [==============================] - 0s 17us/sample - loss: 4108434.4636 - mse: 4108434.7500 - val_loss: 43482515.2318 - val_mse: 43482512.0000\n",
      "Epoch 93/100\n",
      "3624/3624 [==============================] - 0s 18us/sample - loss: 4108434.4465 - mse: 4108434.2500 - val_loss: 43482515.2318 - val_mse: 43482512.0000\n",
      "Epoch 94/100\n",
      "3624/3624 [==============================] - 0s 18us/sample - loss: 4108434.5607 - mse: 4108435.0000 - val_loss: 43482515.2318 - val_mse: 43482512.0000\n",
      "Epoch 95/100\n",
      "3624/3624 [==============================] - 0s 17us/sample - loss: 4108434.4812 - mse: 4108434.2500 - val_loss: 43482515.2318 - val_mse: 43482512.0000\n",
      "Epoch 96/100\n",
      "3624/3624 [==============================] - 0s 17us/sample - loss: 4108434.3499 - mse: 4108434.2500 - val_loss: 43482515.2318 - val_mse: 43482512.0000\n",
      "Epoch 97/100\n",
      "3624/3624 [==============================] - 0s 18us/sample - loss: 4108434.3125 - mse: 4108434.2500 - val_loss: 43482515.2318 - val_mse: 43482512.0000\n",
      "Epoch 98/100\n",
      "3624/3624 [==============================] - 0s 17us/sample - loss: 4108434.4415 - mse: 4108434.2500 - val_loss: 43482515.2318 - val_mse: 43482512.0000\n",
      "Epoch 99/100\n",
      "3624/3624 [==============================] - 0s 21us/sample - loss: 4108434.2873 - mse: 4108434.0000 - val_loss: 43482515.2318 - val_mse: 43482512.0000\n",
      "Epoch 100/100\n",
      "3624/3624 [==============================] - 0s 23us/sample - loss: 4108434.3840 - mse: 4108434.7500 - val_loss: 43482515.2318 - val_mse: 43482512.0000\n"
     ]
    }
   ],
   "source": [
    "history = model.fit(X_train_new, y_train, batch_size=512, epochs=100, \n",
    "                    validation_split=0.2, verbose=1, shuffle=True)"
   ]
  },
  {
   "cell_type": "code",
   "execution_count": 386,
   "metadata": {},
   "outputs": [],
   "source": [
    "pred = model.predict(x_test)"
   ]
  },
  {
   "cell_type": "code",
   "execution_count": 387,
   "metadata": {},
   "outputs": [
    {
     "data": {
      "text/plain": [
       "array([[883.64575]], dtype=float32)"
      ]
     },
     "execution_count": 387,
     "metadata": {},
     "output_type": "execute_result"
    }
   ],
   "source": [
    "pred"
   ]
  },
  {
   "cell_type": "code",
   "execution_count": 372,
   "metadata": {},
   "outputs": [
    {
     "data": {
      "text/plain": [
       "[<matplotlib.lines.Line2D at 0x7f20bc2fe150>]"
      ]
     },
     "execution_count": 372,
     "metadata": {},
     "output_type": "execute_result"
    },
    {
     "data": {
      "image/png": "[encoded data removed]",
      "text/plain": [
       "<Figure size 432x288 with 1 Axes>"
      ]
     },
     "metadata": {
      "needs_background": "light"
     },
     "output_type": "display_data"
    }
   ],
   "source": [
    "plt.plot(history.history['mse'])\n",
    "plt.plot(history.history['val_mse'])"
   ]
  },
  {
   "cell_type": "code",
   "execution_count": 290,
   "metadata": {},
   "outputs": [
    {
     "data": {
      "text/plain": [
       "<matplotlib.collections.PathCollection at 0x7f20de2d3a10>"
      ]
     },
     "execution_count": 290,
     "metadata": {},
     "output_type": "execute_result"
    },
    {
     "data": {
      "image/png": "[encoded data removed]",
      "text/plain": [
       "<Figure size 432x288 with 1 Axes>"
      ]
     },
     "metadata": {
      "needs_background": "light"
     },
     "output_type": "display_data"
    }
   ],
   "source": [
    "plt.scatter(range(len(y_train)), y_train)"
   ]
  },
  {
   "cell_type": "code",
   "execution_count": 373,
   "metadata": {},
   "outputs": [
    {
     "data": {
      "text/plain": [
       "<matplotlib.collections.PathCollection at 0x7f20bc72fe50>"
      ]
     },
     "execution_count": 373,
     "metadata": {},
     "output_type": "execute_result"
    },
    {
     "data": {
      "image/png": "[encoded data removed]",
      "text/plain": [
       "<Figure size 432x288 with 1 Axes>"
      ]
     },
     "metadata": {
      "needs_background": "light"
     },
     "output_type": "display_data"
    }
   ],
   "source": [
    "plt.scatter(range(len(y_train)), pred)"
   ]
  },
  {
   "cell_type": "code",
   "execution_count": null,
   "metadata": {},
   "outputs": [],
   "source": []
  }
 ],
 "metadata": {
  "kernelspec": {
   "display_name": "Python 3",
   "language": "python",
   "name": "python3"
  },
  "language_info": {
   "codemirror_mode": {
    "name": "ipython",
    "version": 3
   },
   "file_extension": ".py",
   "mimetype": "text/x-python",
   "name": "python",
   "nbconvert_exporter": "python",
   "pygments_lexer": "ipython3",
   "version": "3.8.2"
  }
 },
 "nbformat": 4,
 "nbformat_minor": 4
}
