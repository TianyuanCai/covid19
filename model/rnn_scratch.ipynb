{
 "cells": [
  {
   "cell_type": "code",
   "execution_count": 47,
   "metadata": {},
   "outputs": [],
   "source": [
    "import sys\n",
    "sys.path.append('../')\n",
    "import datetime\n",
    "import pandas as pd\n",
    "import numpy as np\n",
    "from lib import get_data\n",
    "import matplotlib.pyplot as plt"
   ]
  },
  {
   "cell_type": "code",
   "execution_count": 48,
   "metadata": {},
   "outputs": [],
   "source": [
    "COLUMNS = ['date', 'county', 'state', 'fips', 'cases', 'deaths', \n",
    "                'heatIndexMin', 'heatIndexAvg', 'heatIndexMax','relHumMin',\n",
    "                'relHumAvg', 'relHumMax',  'tempMin', 'tempAvg', 'tempMax', 'windChillMin', 'windChillAvg',\n",
    "                'windChillMax', 'windDirAvg', 'retail_and_recreation_percent_change_from_baseline',\n",
    "                'residential_percent_change_from_baseline',\n",
    "                'workplaces_percent_change_from_baseline',\n",
    "                'transit_stations_percent_change_from_baseline',\n",
    "                'grocery_and_pharmacy_percent_change_from_baseline',\n",
    "                'parks_percent_change_from_baseline', 'income_2018', 'pop_2018',\n",
    "                'pred_cases', 'pred_deaths']\n",
    "LEN = 6"
   ]
  },
  {
   "cell_type": "code",
   "execution_count": 50,
   "metadata": {},
   "outputs": [],
   "source": [
    "processed_path = '../data/processed/time_series_updated.csv'\n",
    "data = pd.read_csv(processed_path)"
   ]
  },
  {
   "cell_type": "code",
   "execution_count": 135,
   "metadata": {},
   "outputs": [],
   "source": [
    "# normalize income and pop\n",
    "income_max = data['income_2018'].max()\n",
    "income_min = data['income_2018'].min()\n",
    "data['income_2018'] = (data['income_2018'] - income_min) / income_max\n",
    "\n",
    "pop_max = data['pop_2018'].max()\n",
    "pop_min = data['pop_2018'].min()\n",
    "data['pop_2018'] = (data['pop_2018']-pop_min)/pop_max"
   ]
  },
  {
   "cell_type": "code",
   "execution_count": 138,
   "metadata": {},
   "outputs": [],
   "source": [
    "data = data.drop('Unnamed: 0', axis=1)"
   ]
  },
  {
   "cell_type": "code",
   "execution_count": 53,
   "metadata": {},
   "outputs": [],
   "source": [
    "def get_model_data_cumulative(data, date_range=(0, 14), pred_day=21):\n",
    "    \"\"\"\n",
    "\n",
    "    :param date_range: integer measuring the number of days since first day w/ 10 cases\n",
    "    :param pred_day:\n",
    "    :return:\n",
    "    \"\"\"\n",
    "\n",
    "    # ensure full coverage of interested dates\n",
    "    data = data[data['fips'].isin(data[data['days_since_10_cases'] == pred_day]['fips'].drop_duplicates())]\n",
    "\n",
    "    # filter for training and testing dates\n",
    "    data_x = data[data['days_since_10_cases'].between(date_range[0], date_range[1])]\n",
    "    data_grouped = data_x.groupby(['state', 'county', 'fips']).agg('mean').reset_index()  # todo play with granularity\n",
    "    data_x = data_x.drop(['days_since_10_cases'], axis=1)\n",
    "\n",
    "    # get change rate since last training date\n",
    "    data_y = data[data['days_since_10_cases'].isin([date_range[1], pred_day])][\n",
    "        ['fips', 'cases', 'deaths', 'days_since_10_cases']]\n",
    "    data_y = data_y.sort_values(['fips', 'days_since_10_cases']).reset_index(drop=True)\n",
    "    day_idx = np.where(data_y['days_since_10_cases'] == pred_day)[0]\n",
    "    data_y_new = data_y.iloc[day_idx, :].reset_index()\n",
    "    data_y_new = data_y_new.drop(['index','days_since_10_cases'], axis=1)\n",
    "    data_y_new['fips'] = data_y.loc[day_idx, 'fips'].reset_index(drop=True)\n",
    "    data_y_new = data_y_new.add_prefix('pred_')\n",
    "    \n",
    "    \n",
    "    data = data_x.merge(data_y_new, left_on='fips', right_on='pred_fips', how='inner')\n",
    "#     data_grouped = data_grouped.merge(data_y, left_on='fips', right_on=f'day_{pred_day}_cumulative_fips',\n",
    "#                                       how='inner')\n",
    "#     data_grouped = data_grouped.drop(f'day_{pred_day}_cumulative_fips', axis=1)\n",
    "    data = data.drop('pred_fips', axis=1)\n",
    "    \n",
    "    data = data[COLUMNS]\n",
    "    data = data.fillna(0)\n",
    "    data = data.drop(['county','state'],axis=1)\n",
    "#     data_grouped = data_grouped[COLUMNS]\n",
    "    return data \n"
   ]
  },
  {
   "cell_type": "markdown",
   "metadata": {},
   "source": [
    "Generating training set\n",
    "-----------"
   ]
  },
  {
   "cell_type": "code",
   "execution_count": 125,
   "metadata": {},
   "outputs": [],
   "source": [
    "start = 1\n",
    "end = 65\n",
    "\n",
    "X_train = np.array([])\n",
    "y_train = np.array([])\n",
    "\n",
    "for i in range(start, end):\n",
    "    df = get_model_data_cumulative(data, date_range=(i, i+LEN), pred_day=i+LEN+1)\n",
    "    if df.empty is False:\n",
    "        grouped_by_fips = df.groupby(['fips']).groups\n",
    "        count = 0\n",
    "        for fips in grouped_by_fips:\n",
    "            index = grouped_by_fips[fips]\n",
    "            train = np.expand_dims(df.iloc[index].drop(['date','fips'],axis=1).to_numpy(),axis=0)[:,:,:-1]\n",
    "#             train = np.expand_dims(df.iloc[index].drop(['date','fips'],axis=1)[['cases','pred_cases']].to_numpy(),axis=0)\n",
    "            \n",
    "            if i == 1:\n",
    "                X_train = train[:,:,:-1]\n",
    "#                 X_train = train[:,:,0]\n",
    "                y_train = train[:,:,-1].mean()\n",
    "#                 y_train = train[:,:,1].mean()\n",
    "            else:\n",
    "                X_train = np.vstack((X_train,  train[:,:,:-1]))\n",
    "                y_train =np.vstack((y_train, train[:,:,-1].mean()))\n",
    "# X_train = np.array(X_train)\n",
    "# y_train = np.array(y_train)"
   ]
  },
  {
   "cell_type": "code",
   "execution_count": 96,
   "metadata": {},
   "outputs": [],
   "source": [
    "X_train_new = np.expand_dims(X_train, axis=2)"
   ]
  },
  {
   "cell_type": "code",
   "execution_count": 126,
   "metadata": {},
   "outputs": [
    {
     "data": {
      "text/plain": [
       "(19313, 7, 23)"
      ]
     },
     "execution_count": 126,
     "metadata": {},
     "output_type": "execute_result"
    }
   ],
   "source": [
    "X_train.shape"
   ]
  },
  {
   "cell_type": "markdown",
   "metadata": {},
   "source": [
    "RNN\n",
    "--------"
   ]
  },
  {
   "cell_type": "code",
   "execution_count": 86,
   "metadata": {},
   "outputs": [
    {
     "name": "stdout",
     "output_type": "stream",
     "text": [
      "2.2.4-tf\n",
      "2.1.0\n"
     ]
    }
   ],
   "source": [
    "import tensorflow as tf\n",
    "from tensorflow.keras.utils import to_categorical\n",
    "from tensorflow.keras import backend\n",
    "\n",
    "from tensorflow.keras import Model, Sequential\n",
    "from tensorflow.keras.models import model_from_json\n",
    "from tensorflow.keras.layers import Input, SimpleRNN, Embedding, Dense, TimeDistributed, GRU, \\\n",
    "                          Dropout, Bidirectional, Conv1D, BatchNormalization, RepeatVector, LSTM, MaxPooling1D\n",
    "\n",
    "from sklearn.metrics import f1_score, confusion_matrix\n",
    "from sklearn.model_selection import train_test_split\n",
    "from sklearn.decomposition import PCA\n",
    "\n",
    "print(tf.keras.__version__)\n",
    "print(tf.__version__)"
   ]
  },
  {
   "cell_type": "code",
   "execution_count": 87,
   "metadata": {},
   "outputs": [],
   "source": [
    "# Store model\n",
    "def store_keras_model(model, model_name):\n",
    "    model_json = model.to_json() # serialize model to JSON\n",
    "    with open(\"./models/{}.json\".format(model_name), \"w\") as json_file:\n",
    "        json_file.write(model_json)\n",
    "    model.save_weights(\"./models/{}.h5\".format(model_name)) # serialize weights to HDF5\n",
    "    print(\"Saved model to disk\")\n",
    "    \n",
    "# Plot history\n",
    "def plot_training_history(history):\n",
    "    loss = history.history['loss']\n",
    "    val_loss = history.history['val_loss']\n",
    "    epochs = range(1,len(loss)+1)\n",
    "\n",
    "    plt.figure()\n",
    "    plt.plot(epochs, loss, 'bo', label='Training loss')\n",
    "    plt.plot(epochs, val_loss, 'b', label='Validation loss')\n",
    "    plt.title('Training and validation loss')\n",
    "    plt.xlabel('epoch')\n",
    "    plt.legend()\n",
    "    plt.show()\n",
    "\n",
    "# Load model \n",
    "def load_keras_model(model_name):\n",
    "    # Load json and create model\n",
    "    json_file = open('./models/{}.json'.format(model_name), 'r')\n",
    "    loaded_model_json = json_file.read()\n",
    "    json_file.close()\n",
    "    model = tf.keras.models.model_from_json(loaded_model_json)\n",
    "    # Load weights into new model\n",
    "    model.load_weights(\"./models/{}.h5\".format(model_name))\n",
    "    return model"
   ]
  },
  {
   "cell_type": "code",
   "execution_count": 127,
   "metadata": {},
   "outputs": [],
   "source": [
    "# your code here\n",
    "input0 = Input(shape=(7,23), name='Input')\n",
    "lstm = GRU(100, return_sequences=False)(input0)\n",
    "dense1 = Dense(128, activation = 'relu')(lstm)\n",
    "# dropout1 = Dropout(0.5)(dense1)\n",
    "dense2 = Dense(64, activation = 'relu')(dense1)\n",
    "# dropout2 = Dropout(0.5)(dense2)\n",
    "output = Dense(1, activation = 'linear')(dense2)\n",
    "\n",
    "\n",
    "model = Model(input0, output, name='model_RNN')\n",
    "mse = tf.keras.losses.MeanSquaredError()\n",
    "optimizer = tf.keras.optimizers.Adam(learning_rate=0.01)\n",
    "model.compile(optimizer='adam', loss=mse, metrics=['mse'])"
   ]
  },
  {
   "cell_type": "code",
   "execution_count": 128,
   "metadata": {},
   "outputs": [
    {
     "name": "stdout",
     "output_type": "stream",
     "text": [
      "Model: \"model_RNN\"\n",
      "_________________________________________________________________\n",
      "Layer (type)                 Output Shape              Param #   \n",
      "=================================================================\n",
      "Input (InputLayer)           [(None, 7, 23)]           0         \n",
      "_________________________________________________________________\n",
      "gru_7 (GRU)                  (None, 100)               37500     \n",
      "_________________________________________________________________\n",
      "dense_30 (Dense)             (None, 128)               12928     \n",
      "_________________________________________________________________\n",
      "dense_31 (Dense)             (None, 64)                8256      \n",
      "_________________________________________________________________\n",
      "dense_32 (Dense)             (None, 1)                 65        \n",
      "=================================================================\n",
      "Total params: 58,749\n",
      "Trainable params: 58,749\n",
      "Non-trainable params: 0\n",
      "_________________________________________________________________\n"
     ]
    }
   ],
   "source": [
    "model.summary()"
   ]
  },
  {
   "cell_type": "code",
   "execution_count": 131,
   "metadata": {
    "scrolled": true
   },
   "outputs": [
    {
     "name": "stdout",
     "output_type": "stream",
     "text": [
      "Train on 17381 samples, validate on 1932 samples\n",
      "Epoch 1/100\n",
      "17381/17381 [==============================] - 1s 55us/sample - loss: 536210.0756 - mse: 536210.0625 - val_loss: 24729779.6936 - val_mse: 24729780.0000\n",
      "Epoch 2/100\n",
      "17381/17381 [==============================] - 0s 3us/sample - loss: 522758.8778 - mse: 522758.8750 - val_loss: 24528536.1656 - val_mse: 24528536.0000\n",
      "Epoch 3/100\n",
      "17381/17381 [==============================] - 0s 3us/sample - loss: 493283.2260 - mse: 493283.2500 - val_loss: 23981470.7660 - val_mse: 23981472.0000\n",
      "Epoch 4/100\n",
      "17381/17381 [==============================] - 0s 4us/sample - loss: 439975.7745 - mse: 439975.7500 - val_loss: 22910429.9462 - val_mse: 22910430.0000\n",
      "Epoch 5/100\n",
      "17381/17381 [==============================] - 0s 5us/sample - loss: 365231.2854 - mse: 365231.2812 - val_loss: 21203937.1760 - val_mse: 21203938.0000\n",
      "Epoch 6/100\n",
      "17381/17381 [==============================] - 0s 5us/sample - loss: 288228.0680 - mse: 288228.0625 - val_loss: 19124596.7205 - val_mse: 19124598.0000\n",
      "Epoch 7/100\n",
      "17381/17381 [==============================] - 0s 5us/sample - loss: 219246.5461 - mse: 219246.5312 - val_loss: 16922355.5776 - val_mse: 16922354.0000\n",
      "Epoch 8/100\n",
      "17381/17381 [==============================] - 0s 5us/sample - loss: 159159.9800 - mse: 159159.9844 - val_loss: 14917565.2795 - val_mse: 14917565.0000\n",
      "Epoch 9/100\n",
      "17381/17381 [==============================] - 0s 5us/sample - loss: 116451.3881 - mse: 116451.3906 - val_loss: 13064928.2609 - val_mse: 13064928.0000\n",
      "Epoch 10/100\n",
      "17381/17381 [==============================] - 0s 5us/sample - loss: 85059.6934 - mse: 85059.7031 - val_loss: 11585914.3064 - val_mse: 11585914.0000\n",
      "Epoch 11/100\n",
      "17381/17381 [==============================] - 0s 5us/sample - loss: 64497.2203 - mse: 64497.2266 - val_loss: 10360468.5549 - val_mse: 10360468.0000\n",
      "Epoch 12/100\n",
      "17381/17381 [==============================] - 0s 5us/sample - loss: 50908.3207 - mse: 50908.3203 - val_loss: 9372942.4596 - val_mse: 9372942.0000\n",
      "Epoch 13/100\n",
      "17381/17381 [==============================] - 0s 5us/sample - loss: 42250.9325 - mse: 42250.9258 - val_loss: 8665925.0890 - val_mse: 8665925.0000\n",
      "Epoch 14/100\n",
      "17381/17381 [==============================] - 0s 5us/sample - loss: 34945.9511 - mse: 34945.9531 - val_loss: 8092212.7826 - val_mse: 8092212.5000\n",
      "Epoch 15/100\n",
      "17381/17381 [==============================] - 0s 5us/sample - loss: 30977.9387 - mse: 30977.9375 - val_loss: 7534164.2215 - val_mse: 7534164.5000\n",
      "Epoch 16/100\n",
      "17381/17381 [==============================] - 0s 5us/sample - loss: 27890.8743 - mse: 27890.8750 - val_loss: 7081037.8323 - val_mse: 7081038.0000\n",
      "Epoch 17/100\n",
      "17381/17381 [==============================] - 0s 7us/sample - loss: 22699.8595 - mse: 22699.8594 - val_loss: 6810326.3685 - val_mse: 6810326.5000\n",
      "Epoch 18/100\n",
      "17381/17381 [==============================] - 0s 8us/sample - loss: 21596.7664 - mse: 21596.7676 - val_loss: 6488197.5673 - val_mse: 6488197.5000\n",
      "Epoch 19/100\n",
      "17381/17381 [==============================] - 0s 8us/sample - loss: 19511.2332 - mse: 19511.2344 - val_loss: 6425707.8157 - val_mse: 6425708.0000\n",
      "Epoch 20/100\n",
      "17381/17381 [==============================] - 0s 8us/sample - loss: 19788.8704 - mse: 19788.8711 - val_loss: 6265819.1014 - val_mse: 6265819.0000\n",
      "Epoch 21/100\n",
      "17381/17381 [==============================] - 0s 8us/sample - loss: 18753.7160 - mse: 18753.7168 - val_loss: 6091089.5176 - val_mse: 6091089.0000\n",
      "Epoch 22/100\n",
      "17381/17381 [==============================] - 0s 8us/sample - loss: 17622.3039 - mse: 17622.3047 - val_loss: 5763045.9482 - val_mse: 5763046.0000\n",
      "Epoch 23/100\n",
      "17381/17381 [==============================] - 0s 8us/sample - loss: 16905.9447 - mse: 16905.9434 - val_loss: 5843015.7101 - val_mse: 5843015.5000\n",
      "Epoch 24/100\n",
      "17381/17381 [==============================] - 0s 8us/sample - loss: 15246.0371 - mse: 15246.0381 - val_loss: 5387041.9275 - val_mse: 5387042.0000\n",
      "Epoch 25/100\n",
      "17381/17381 [==============================] - 0s 8us/sample - loss: 13683.5318 - mse: 13683.5322 - val_loss: 5138469.9275 - val_mse: 5138470.0000\n",
      "Epoch 26/100\n",
      "17381/17381 [==============================] - 0s 8us/sample - loss: 13915.2747 - mse: 13915.2734 - val_loss: 5123180.8530 - val_mse: 5123181.0000\n",
      "Epoch 27/100\n",
      "17381/17381 [==============================] - 0s 8us/sample - loss: 12542.2310 - mse: 12542.2324 - val_loss: 4924574.2650 - val_mse: 4924574.5000\n",
      "Epoch 28/100\n",
      "17381/17381 [==============================] - 0s 8us/sample - loss: 12005.7519 - mse: 12005.7520 - val_loss: 4866634.7723 - val_mse: 4866634.5000\n",
      "Epoch 29/100\n",
      "17381/17381 [==============================] - 0s 8us/sample - loss: 12750.5317 - mse: 12750.5312 - val_loss: 4960836.4203 - val_mse: 4960836.5000\n",
      "Epoch 30/100\n",
      "17381/17381 [==============================] - 0s 8us/sample - loss: 12508.2425 - mse: 12508.2422 - val_loss: 4853318.9006 - val_mse: 4853319.0000\n",
      "Epoch 31/100\n",
      "17381/17381 [==============================] - 0s 8us/sample - loss: 11005.9489 - mse: 11005.9512 - val_loss: 4624813.1946 - val_mse: 4624813.5000\n",
      "Epoch 32/100\n",
      "17381/17381 [==============================] - 0s 8us/sample - loss: 10370.8585 - mse: 10370.8574 - val_loss: 4378171.0870 - val_mse: 4378171.5000\n",
      "Epoch 33/100\n",
      "17381/17381 [==============================] - 0s 8us/sample - loss: 10285.9964 - mse: 10285.9971 - val_loss: 4307085.2050 - val_mse: 4307085.5000\n",
      "Epoch 34/100\n",
      "17381/17381 [==============================] - 0s 8us/sample - loss: 11685.9640 - mse: 11685.9629 - val_loss: 4565564.0124 - val_mse: 4565564.0000\n",
      "Epoch 35/100\n",
      "17381/17381 [==============================] - 0s 8us/sample - loss: 12121.0119 - mse: 12121.0127 - val_loss: 4589260.4493 - val_mse: 4589260.5000\n",
      "Epoch 36/100\n",
      "17381/17381 [==============================] - 0s 8us/sample - loss: 11840.4268 - mse: 11840.4277 - val_loss: 4584164.1967 - val_mse: 4584164.5000\n",
      "Epoch 37/100\n",
      "17381/17381 [==============================] - 0s 8us/sample - loss: 10247.2823 - mse: 10247.2822 - val_loss: 4393072.3478 - val_mse: 4393072.5000\n",
      "Epoch 38/100\n",
      "17381/17381 [==============================] - 0s 8us/sample - loss: 9716.1294 - mse: 9716.1299 - val_loss: 4193235.9079 - val_mse: 4193235.7500\n",
      "Epoch 39/100\n",
      "17381/17381 [==============================] - 0s 8us/sample - loss: 8636.0550 - mse: 8636.0547 - val_loss: 3985465.9679 - val_mse: 3985466.0000\n",
      "Epoch 40/100\n",
      "17381/17381 [==============================] - 0s 8us/sample - loss: 9762.3711 - mse: 9762.3711 - val_loss: 4015041.4431 - val_mse: 4015041.5000\n",
      "Epoch 41/100\n",
      "17381/17381 [==============================] - 0s 8us/sample - loss: 9147.1655 - mse: 9147.1650 - val_loss: 3851866.2184 - val_mse: 3851866.0000\n",
      "Epoch 42/100\n",
      "17381/17381 [==============================] - 0s 8us/sample - loss: 8414.6078 - mse: 8414.6084 - val_loss: 3697545.9493 - val_mse: 3697546.0000\n",
      "Epoch 43/100\n",
      "17381/17381 [==============================] - 0s 8us/sample - loss: 7947.8712 - mse: 7947.8716 - val_loss: 3555729.4130 - val_mse: 3555729.5000\n",
      "Epoch 44/100\n",
      "17381/17381 [==============================] - 0s 8us/sample - loss: 7622.7659 - mse: 7622.7666 - val_loss: 3577311.2712 - val_mse: 3577311.2500\n",
      "Epoch 45/100\n",
      "17381/17381 [==============================] - 0s 8us/sample - loss: 7618.7790 - mse: 7618.7798 - val_loss: 3397810.0932 - val_mse: 3397810.0000\n",
      "Epoch 46/100\n",
      "17381/17381 [==============================] - 0s 8us/sample - loss: 7313.0284 - mse: 7313.0283 - val_loss: 3272519.1853 - val_mse: 3272519.0000\n",
      "Epoch 47/100\n",
      "17381/17381 [==============================] - 0s 8us/sample - loss: 7085.0777 - mse: 7085.0771 - val_loss: 3336722.5683 - val_mse: 3336722.5000\n",
      "Epoch 48/100\n",
      "17381/17381 [==============================] - 0s 8us/sample - loss: 7746.3833 - mse: 7746.3823 - val_loss: 3348641.4327 - val_mse: 3348641.7500\n",
      "Epoch 49/100\n",
      "17381/17381 [==============================] - 0s 8us/sample - loss: 7469.1461 - mse: 7469.1460 - val_loss: 3158095.9731 - val_mse: 3158096.0000\n",
      "Epoch 50/100\n",
      "17381/17381 [==============================] - 0s 8us/sample - loss: 7729.9240 - mse: 7729.9238 - val_loss: 3274860.5994 - val_mse: 3274860.7500\n",
      "Epoch 51/100\n",
      "17381/17381 [==============================] - 0s 8us/sample - loss: 8236.0508 - mse: 8236.0508 - val_loss: 3312373.3530 - val_mse: 3312373.5000\n",
      "Epoch 52/100\n",
      "17381/17381 [==============================] - 0s 8us/sample - loss: 7590.0083 - mse: 7590.0083 - val_loss: 3260892.5290 - val_mse: 3260892.5000\n",
      "Epoch 53/100\n",
      "17381/17381 [==============================] - 0s 8us/sample - loss: 7129.2954 - mse: 7129.2959 - val_loss: 3246808.3199 - val_mse: 3246808.5000\n",
      "Epoch 54/100\n",
      "17381/17381 [==============================] - 0s 8us/sample - loss: 7937.7220 - mse: 7937.7212 - val_loss: 3383964.1791 - val_mse: 3383964.0000\n",
      "Epoch 55/100\n",
      "17381/17381 [==============================] - 0s 8us/sample - loss: 8184.7954 - mse: 8184.7949 - val_loss: 3366217.4348 - val_mse: 3366217.5000\n",
      "Epoch 56/100\n",
      "17381/17381 [==============================] - 0s 8us/sample - loss: 7936.7340 - mse: 7936.7344 - val_loss: 3304702.4959 - val_mse: 3304702.5000\n",
      "Epoch 57/100\n",
      "17381/17381 [==============================] - 0s 8us/sample - loss: 7167.2648 - mse: 7167.2646 - val_loss: 3222752.9793 - val_mse: 3222753.0000\n",
      "Epoch 58/100\n",
      "17381/17381 [==============================] - 0s 8us/sample - loss: 6887.0993 - mse: 6887.0991 - val_loss: 3262427.5642 - val_mse: 3262427.7500\n",
      "Epoch 59/100\n",
      "17381/17381 [==============================] - 0s 8us/sample - loss: 6729.7086 - mse: 6729.7085 - val_loss: 3154569.0238 - val_mse: 3154569.0000\n",
      "Epoch 60/100\n",
      "17381/17381 [==============================] - 0s 8us/sample - loss: 6545.7773 - mse: 6545.7769 - val_loss: 2990892.0311 - val_mse: 2990892.0000\n",
      "Epoch 61/100\n",
      "17381/17381 [==============================] - 0s 8us/sample - loss: 6684.4268 - mse: 6684.4263 - val_loss: 2947351.5072 - val_mse: 2947351.5000\n",
      "Epoch 62/100\n",
      "17381/17381 [==============================] - 0s 8us/sample - loss: 6435.9084 - mse: 6435.9087 - val_loss: 2802342.0859 - val_mse: 2802342.2500\n",
      "Epoch 63/100\n",
      "17381/17381 [==============================] - 0s 8us/sample - loss: 6744.0721 - mse: 6744.0728 - val_loss: 2708998.0652 - val_mse: 2708998.0000\n",
      "Epoch 64/100\n",
      "17381/17381 [==============================] - 0s 8us/sample - loss: 6173.2419 - mse: 6173.2422 - val_loss: 2793180.2288 - val_mse: 2793180.2500\n",
      "Epoch 65/100\n",
      "17381/17381 [==============================] - 0s 8us/sample - loss: 6643.4264 - mse: 6643.4268 - val_loss: 2945345.0052 - val_mse: 2945345.0000\n",
      "Epoch 66/100\n",
      "17381/17381 [==============================] - 0s 8us/sample - loss: 6788.5201 - mse: 6788.5200 - val_loss: 2904398.2319 - val_mse: 2904398.5000\n",
      "Epoch 67/100\n",
      "17381/17381 [==============================] - 0s 8us/sample - loss: 7596.9526 - mse: 7596.9526 - val_loss: 2963999.1615 - val_mse: 2963999.2500\n",
      "Epoch 68/100\n",
      " 1024/17381 [>.............................] - ETA: 0s"
     ]
    },
    {
     "ename": "KeyboardInterrupt",
     "evalue": "",
     "output_type": "error",
     "traceback": [
      "\u001b[0;31m---------------------------------------------------------------------------\u001b[0m",
      "\u001b[0;31mKeyboardInterrupt\u001b[0m                         Traceback (most recent call last)",
      "\u001b[0;32m<ipython-input-131-afd0582c8b85>\u001b[0m in \u001b[0;36m<module>\u001b[0;34m\u001b[0m\n\u001b[1;32m      1\u001b[0m history = model.fit(X_train, y_train, batch_size=1024, epochs=100, \n\u001b[0;32m----> 2\u001b[0;31m                     validation_split=0.1, verbose=1, shuffle=True)\n\u001b[0m",
      "\u001b[0;32m~/anaconda3/envs/cs109b/lib/python3.7/site-packages/tensorflow_core/python/keras/engine/training.py\u001b[0m in \u001b[0;36mfit\u001b[0;34m(self, x, y, batch_size, epochs, verbose, callbacks, validation_split, validation_data, shuffle, class_weight, sample_weight, initial_epoch, steps_per_epoch, validation_steps, validation_freq, max_queue_size, workers, use_multiprocessing, **kwargs)\u001b[0m\n\u001b[1;32m    817\u001b[0m         \u001b[0mmax_queue_size\u001b[0m\u001b[0;34m=\u001b[0m\u001b[0mmax_queue_size\u001b[0m\u001b[0;34m,\u001b[0m\u001b[0;34m\u001b[0m\u001b[0;34m\u001b[0m\u001b[0m\n\u001b[1;32m    818\u001b[0m         \u001b[0mworkers\u001b[0m\u001b[0;34m=\u001b[0m\u001b[0mworkers\u001b[0m\u001b[0;34m,\u001b[0m\u001b[0;34m\u001b[0m\u001b[0;34m\u001b[0m\u001b[0m\n\u001b[0;32m--> 819\u001b[0;31m         use_multiprocessing=use_multiprocessing)\n\u001b[0m\u001b[1;32m    820\u001b[0m \u001b[0;34m\u001b[0m\u001b[0m\n\u001b[1;32m    821\u001b[0m   def evaluate(self,\n",
      "\u001b[0;32m~/anaconda3/envs/cs109b/lib/python3.7/site-packages/tensorflow_core/python/keras/engine/training_v2.py\u001b[0m in \u001b[0;36mfit\u001b[0;34m(self, model, x, y, batch_size, epochs, verbose, callbacks, validation_split, validation_data, shuffle, class_weight, sample_weight, initial_epoch, steps_per_epoch, validation_steps, validation_freq, max_queue_size, workers, use_multiprocessing, **kwargs)\u001b[0m\n\u001b[1;32m    340\u001b[0m                 \u001b[0mmode\u001b[0m\u001b[0;34m=\u001b[0m\u001b[0mModeKeys\u001b[0m\u001b[0;34m.\u001b[0m\u001b[0mTRAIN\u001b[0m\u001b[0;34m,\u001b[0m\u001b[0;34m\u001b[0m\u001b[0;34m\u001b[0m\u001b[0m\n\u001b[1;32m    341\u001b[0m                 \u001b[0mtraining_context\u001b[0m\u001b[0;34m=\u001b[0m\u001b[0mtraining_context\u001b[0m\u001b[0;34m,\u001b[0m\u001b[0;34m\u001b[0m\u001b[0;34m\u001b[0m\u001b[0m\n\u001b[0;32m--> 342\u001b[0;31m                 total_epochs=epochs)\n\u001b[0m\u001b[1;32m    343\u001b[0m             \u001b[0mcbks\u001b[0m\u001b[0;34m.\u001b[0m\u001b[0mmake_logs\u001b[0m\u001b[0;34m(\u001b[0m\u001b[0mmodel\u001b[0m\u001b[0;34m,\u001b[0m \u001b[0mepoch_logs\u001b[0m\u001b[0;34m,\u001b[0m \u001b[0mtraining_result\u001b[0m\u001b[0;34m,\u001b[0m \u001b[0mModeKeys\u001b[0m\u001b[0;34m.\u001b[0m\u001b[0mTRAIN\u001b[0m\u001b[0;34m)\u001b[0m\u001b[0;34m\u001b[0m\u001b[0;34m\u001b[0m\u001b[0m\n\u001b[1;32m    344\u001b[0m \u001b[0;34m\u001b[0m\u001b[0m\n",
      "\u001b[0;32m~/anaconda3/envs/cs109b/lib/python3.7/site-packages/tensorflow_core/python/keras/engine/training_v2.py\u001b[0m in \u001b[0;36mrun_one_epoch\u001b[0;34m(model, iterator, execution_function, dataset_size, batch_size, strategy, steps_per_epoch, num_samples, mode, training_context, total_epochs)\u001b[0m\n\u001b[1;32m    126\u001b[0m         step=step, mode=mode, size=current_batch_size) as batch_logs:\n\u001b[1;32m    127\u001b[0m       \u001b[0;32mtry\u001b[0m\u001b[0;34m:\u001b[0m\u001b[0;34m\u001b[0m\u001b[0;34m\u001b[0m\u001b[0m\n\u001b[0;32m--> 128\u001b[0;31m         \u001b[0mbatch_outs\u001b[0m \u001b[0;34m=\u001b[0m \u001b[0mexecution_function\u001b[0m\u001b[0;34m(\u001b[0m\u001b[0miterator\u001b[0m\u001b[0;34m)\u001b[0m\u001b[0;34m\u001b[0m\u001b[0;34m\u001b[0m\u001b[0m\n\u001b[0m\u001b[1;32m    129\u001b[0m       \u001b[0;32mexcept\u001b[0m \u001b[0;34m(\u001b[0m\u001b[0mStopIteration\u001b[0m\u001b[0;34m,\u001b[0m \u001b[0merrors\u001b[0m\u001b[0;34m.\u001b[0m\u001b[0mOutOfRangeError\u001b[0m\u001b[0;34m)\u001b[0m\u001b[0;34m:\u001b[0m\u001b[0;34m\u001b[0m\u001b[0;34m\u001b[0m\u001b[0m\n\u001b[1;32m    130\u001b[0m         \u001b[0;31m# TODO(kaftan): File bug about tf function and errors.OutOfRangeError?\u001b[0m\u001b[0;34m\u001b[0m\u001b[0;34m\u001b[0m\u001b[0;34m\u001b[0m\u001b[0m\n",
      "\u001b[0;32m~/anaconda3/envs/cs109b/lib/python3.7/site-packages/tensorflow_core/python/keras/engine/training_v2_utils.py\u001b[0m in \u001b[0;36mexecution_function\u001b[0;34m(input_fn)\u001b[0m\n\u001b[1;32m     96\u001b[0m     \u001b[0;31m# `numpy` translates Tensors to values in Eager mode.\u001b[0m\u001b[0;34m\u001b[0m\u001b[0;34m\u001b[0m\u001b[0;34m\u001b[0m\u001b[0m\n\u001b[1;32m     97\u001b[0m     return nest.map_structure(_non_none_constant_value,\n\u001b[0;32m---> 98\u001b[0;31m                               distributed_function(input_fn))\n\u001b[0m\u001b[1;32m     99\u001b[0m \u001b[0;34m\u001b[0m\u001b[0m\n\u001b[1;32m    100\u001b[0m   \u001b[0;32mreturn\u001b[0m \u001b[0mexecution_function\u001b[0m\u001b[0;34m\u001b[0m\u001b[0;34m\u001b[0m\u001b[0m\n",
      "\u001b[0;32m~/anaconda3/envs/cs109b/lib/python3.7/site-packages/tensorflow_core/python/eager/def_function.py\u001b[0m in \u001b[0;36m__call__\u001b[0;34m(self, *args, **kwds)\u001b[0m\n\u001b[1;32m    566\u001b[0m         \u001b[0mxla_context\u001b[0m\u001b[0;34m.\u001b[0m\u001b[0mExit\u001b[0m\u001b[0;34m(\u001b[0m\u001b[0;34m)\u001b[0m\u001b[0;34m\u001b[0m\u001b[0;34m\u001b[0m\u001b[0m\n\u001b[1;32m    567\u001b[0m     \u001b[0;32melse\u001b[0m\u001b[0;34m:\u001b[0m\u001b[0;34m\u001b[0m\u001b[0;34m\u001b[0m\u001b[0m\n\u001b[0;32m--> 568\u001b[0;31m       \u001b[0mresult\u001b[0m \u001b[0;34m=\u001b[0m \u001b[0mself\u001b[0m\u001b[0;34m.\u001b[0m\u001b[0m_call\u001b[0m\u001b[0;34m(\u001b[0m\u001b[0;34m*\u001b[0m\u001b[0margs\u001b[0m\u001b[0;34m,\u001b[0m \u001b[0;34m**\u001b[0m\u001b[0mkwds\u001b[0m\u001b[0;34m)\u001b[0m\u001b[0;34m\u001b[0m\u001b[0;34m\u001b[0m\u001b[0m\n\u001b[0m\u001b[1;32m    569\u001b[0m \u001b[0;34m\u001b[0m\u001b[0m\n\u001b[1;32m    570\u001b[0m     \u001b[0;32mif\u001b[0m \u001b[0mtracing_count\u001b[0m \u001b[0;34m==\u001b[0m \u001b[0mself\u001b[0m\u001b[0;34m.\u001b[0m\u001b[0m_get_tracing_count\u001b[0m\u001b[0;34m(\u001b[0m\u001b[0;34m)\u001b[0m\u001b[0;34m:\u001b[0m\u001b[0;34m\u001b[0m\u001b[0;34m\u001b[0m\u001b[0m\n",
      "\u001b[0;32m~/anaconda3/envs/cs109b/lib/python3.7/site-packages/tensorflow_core/python/eager/def_function.py\u001b[0m in \u001b[0;36m_call\u001b[0;34m(self, *args, **kwds)\u001b[0m\n\u001b[1;32m    597\u001b[0m       \u001b[0;31m# In this case we have created variables on the first call, so we run the\u001b[0m\u001b[0;34m\u001b[0m\u001b[0;34m\u001b[0m\u001b[0;34m\u001b[0m\u001b[0m\n\u001b[1;32m    598\u001b[0m       \u001b[0;31m# defunned version which is guaranteed to never create variables.\u001b[0m\u001b[0;34m\u001b[0m\u001b[0;34m\u001b[0m\u001b[0;34m\u001b[0m\u001b[0m\n\u001b[0;32m--> 599\u001b[0;31m       \u001b[0;32mreturn\u001b[0m \u001b[0mself\u001b[0m\u001b[0;34m.\u001b[0m\u001b[0m_stateless_fn\u001b[0m\u001b[0;34m(\u001b[0m\u001b[0;34m*\u001b[0m\u001b[0margs\u001b[0m\u001b[0;34m,\u001b[0m \u001b[0;34m**\u001b[0m\u001b[0mkwds\u001b[0m\u001b[0;34m)\u001b[0m  \u001b[0;31m# pylint: disable=not-callable\u001b[0m\u001b[0;34m\u001b[0m\u001b[0;34m\u001b[0m\u001b[0m\n\u001b[0m\u001b[1;32m    600\u001b[0m     \u001b[0;32melif\u001b[0m \u001b[0mself\u001b[0m\u001b[0;34m.\u001b[0m\u001b[0m_stateful_fn\u001b[0m \u001b[0;32mis\u001b[0m \u001b[0;32mnot\u001b[0m \u001b[0;32mNone\u001b[0m\u001b[0;34m:\u001b[0m\u001b[0;34m\u001b[0m\u001b[0;34m\u001b[0m\u001b[0m\n\u001b[1;32m    601\u001b[0m       \u001b[0;31m# Release the lock early so that multiple threads can perform the call\u001b[0m\u001b[0;34m\u001b[0m\u001b[0;34m\u001b[0m\u001b[0;34m\u001b[0m\u001b[0m\n",
      "\u001b[0;32m~/anaconda3/envs/cs109b/lib/python3.7/site-packages/tensorflow_core/python/eager/function.py\u001b[0m in \u001b[0;36m__call__\u001b[0;34m(self, *args, **kwargs)\u001b[0m\n\u001b[1;32m   2361\u001b[0m     \u001b[0;32mwith\u001b[0m \u001b[0mself\u001b[0m\u001b[0;34m.\u001b[0m\u001b[0m_lock\u001b[0m\u001b[0;34m:\u001b[0m\u001b[0;34m\u001b[0m\u001b[0;34m\u001b[0m\u001b[0m\n\u001b[1;32m   2362\u001b[0m       \u001b[0mgraph_function\u001b[0m\u001b[0;34m,\u001b[0m \u001b[0margs\u001b[0m\u001b[0;34m,\u001b[0m \u001b[0mkwargs\u001b[0m \u001b[0;34m=\u001b[0m \u001b[0mself\u001b[0m\u001b[0;34m.\u001b[0m\u001b[0m_maybe_define_function\u001b[0m\u001b[0;34m(\u001b[0m\u001b[0margs\u001b[0m\u001b[0;34m,\u001b[0m \u001b[0mkwargs\u001b[0m\u001b[0;34m)\u001b[0m\u001b[0;34m\u001b[0m\u001b[0;34m\u001b[0m\u001b[0m\n\u001b[0;32m-> 2363\u001b[0;31m     \u001b[0;32mreturn\u001b[0m \u001b[0mgraph_function\u001b[0m\u001b[0;34m.\u001b[0m\u001b[0m_filtered_call\u001b[0m\u001b[0;34m(\u001b[0m\u001b[0margs\u001b[0m\u001b[0;34m,\u001b[0m \u001b[0mkwargs\u001b[0m\u001b[0;34m)\u001b[0m  \u001b[0;31m# pylint: disable=protected-access\u001b[0m\u001b[0;34m\u001b[0m\u001b[0;34m\u001b[0m\u001b[0m\n\u001b[0m\u001b[1;32m   2364\u001b[0m \u001b[0;34m\u001b[0m\u001b[0m\n\u001b[1;32m   2365\u001b[0m   \u001b[0;34m@\u001b[0m\u001b[0mproperty\u001b[0m\u001b[0;34m\u001b[0m\u001b[0;34m\u001b[0m\u001b[0m\n",
      "\u001b[0;32m~/anaconda3/envs/cs109b/lib/python3.7/site-packages/tensorflow_core/python/eager/function.py\u001b[0m in \u001b[0;36m_filtered_call\u001b[0;34m(self, args, kwargs)\u001b[0m\n\u001b[1;32m   1609\u001b[0m          if isinstance(t, (ops.Tensor,\n\u001b[1;32m   1610\u001b[0m                            resource_variable_ops.BaseResourceVariable))),\n\u001b[0;32m-> 1611\u001b[0;31m         self.captured_inputs)\n\u001b[0m\u001b[1;32m   1612\u001b[0m \u001b[0;34m\u001b[0m\u001b[0m\n\u001b[1;32m   1613\u001b[0m   \u001b[0;32mdef\u001b[0m \u001b[0m_call_flat\u001b[0m\u001b[0;34m(\u001b[0m\u001b[0mself\u001b[0m\u001b[0;34m,\u001b[0m \u001b[0margs\u001b[0m\u001b[0;34m,\u001b[0m \u001b[0mcaptured_inputs\u001b[0m\u001b[0;34m,\u001b[0m \u001b[0mcancellation_manager\u001b[0m\u001b[0;34m=\u001b[0m\u001b[0;32mNone\u001b[0m\u001b[0;34m)\u001b[0m\u001b[0;34m:\u001b[0m\u001b[0;34m\u001b[0m\u001b[0;34m\u001b[0m\u001b[0m\n",
      "\u001b[0;32m~/anaconda3/envs/cs109b/lib/python3.7/site-packages/tensorflow_core/python/eager/function.py\u001b[0m in \u001b[0;36m_call_flat\u001b[0;34m(self, args, captured_inputs, cancellation_manager)\u001b[0m\n\u001b[1;32m   1690\u001b[0m       \u001b[0;31m# No tape is watching; skip to running the function.\u001b[0m\u001b[0;34m\u001b[0m\u001b[0;34m\u001b[0m\u001b[0;34m\u001b[0m\u001b[0m\n\u001b[1;32m   1691\u001b[0m       return self._build_call_outputs(self._inference_function.call(\n\u001b[0;32m-> 1692\u001b[0;31m           ctx, args, cancellation_manager=cancellation_manager))\n\u001b[0m\u001b[1;32m   1693\u001b[0m     forward_backward = self._select_forward_and_backward_functions(\n\u001b[1;32m   1694\u001b[0m         \u001b[0margs\u001b[0m\u001b[0;34m,\u001b[0m\u001b[0;34m\u001b[0m\u001b[0;34m\u001b[0m\u001b[0m\n",
      "\u001b[0;32m~/anaconda3/envs/cs109b/lib/python3.7/site-packages/tensorflow_core/python/eager/function.py\u001b[0m in \u001b[0;36mcall\u001b[0;34m(self, ctx, args, cancellation_manager)\u001b[0m\n\u001b[1;32m    543\u001b[0m               \u001b[0minputs\u001b[0m\u001b[0;34m=\u001b[0m\u001b[0margs\u001b[0m\u001b[0;34m,\u001b[0m\u001b[0;34m\u001b[0m\u001b[0;34m\u001b[0m\u001b[0m\n\u001b[1;32m    544\u001b[0m               \u001b[0mattrs\u001b[0m\u001b[0;34m=\u001b[0m\u001b[0;34m(\u001b[0m\u001b[0;34m\"executor_type\"\u001b[0m\u001b[0;34m,\u001b[0m \u001b[0mexecutor_type\u001b[0m\u001b[0;34m,\u001b[0m \u001b[0;34m\"config_proto\"\u001b[0m\u001b[0;34m,\u001b[0m \u001b[0mconfig\u001b[0m\u001b[0;34m)\u001b[0m\u001b[0;34m,\u001b[0m\u001b[0;34m\u001b[0m\u001b[0;34m\u001b[0m\u001b[0m\n\u001b[0;32m--> 545\u001b[0;31m               ctx=ctx)\n\u001b[0m\u001b[1;32m    546\u001b[0m         \u001b[0;32melse\u001b[0m\u001b[0;34m:\u001b[0m\u001b[0;34m\u001b[0m\u001b[0;34m\u001b[0m\u001b[0m\n\u001b[1;32m    547\u001b[0m           outputs = execute.execute_with_cancellation(\n",
      "\u001b[0;32m~/anaconda3/envs/cs109b/lib/python3.7/site-packages/tensorflow_core/python/eager/execute.py\u001b[0m in \u001b[0;36mquick_execute\u001b[0;34m(op_name, num_outputs, inputs, attrs, ctx, name)\u001b[0m\n\u001b[1;32m     59\u001b[0m     tensors = pywrap_tensorflow.TFE_Py_Execute(ctx._handle, device_name,\n\u001b[1;32m     60\u001b[0m                                                \u001b[0mop_name\u001b[0m\u001b[0;34m,\u001b[0m \u001b[0minputs\u001b[0m\u001b[0;34m,\u001b[0m \u001b[0mattrs\u001b[0m\u001b[0;34m,\u001b[0m\u001b[0;34m\u001b[0m\u001b[0;34m\u001b[0m\u001b[0m\n\u001b[0;32m---> 61\u001b[0;31m                                                num_outputs)\n\u001b[0m\u001b[1;32m     62\u001b[0m   \u001b[0;32mexcept\u001b[0m \u001b[0mcore\u001b[0m\u001b[0;34m.\u001b[0m\u001b[0m_NotOkStatusException\u001b[0m \u001b[0;32mas\u001b[0m \u001b[0me\u001b[0m\u001b[0;34m:\u001b[0m\u001b[0;34m\u001b[0m\u001b[0;34m\u001b[0m\u001b[0m\n\u001b[1;32m     63\u001b[0m     \u001b[0;32mif\u001b[0m \u001b[0mname\u001b[0m \u001b[0;32mis\u001b[0m \u001b[0;32mnot\u001b[0m \u001b[0;32mNone\u001b[0m\u001b[0;34m:\u001b[0m\u001b[0;34m\u001b[0m\u001b[0;34m\u001b[0m\u001b[0m\n",
      "\u001b[0;31mKeyboardInterrupt\u001b[0m: "
     ]
    }
   ],
   "source": [
    "history = model.fit(X_train, y_train, batch_size=1024, epochs=100, \n",
    "                    validation_split=0.1, verbose=1, shuffle=True)"
   ]
  },
  {
   "cell_type": "code",
   "execution_count": 133,
   "metadata": {},
   "outputs": [],
   "source": [
    "pred = model.predict(X_train)"
   ]
  },
  {
   "cell_type": "code",
   "execution_count": 115,
   "metadata": {},
   "outputs": [
    {
     "data": {
      "text/plain": [
       "<matplotlib.collections.PathCollection at 0x7f23b44b5c50>"
      ]
     },
     "execution_count": 115,
     "metadata": {},
     "output_type": "execute_result"
    },
    {
     "data": {
      "image/png": "[encoded data removed]",
      "text/plain": [
       "<Figure size 432x288 with 1 Axes>"
      ]
     },
     "metadata": {
      "needs_background": "light"
     },
     "output_type": "display_data"
    }
   ],
   "source": [
    "plt.scatter(range(len(y_train)), y_train)"
   ]
  },
  {
   "cell_type": "code",
   "execution_count": 134,
   "metadata": {},
   "outputs": [
    {
     "data": {
      "text/plain": [
       "<matplotlib.collections.PathCollection at 0x7f23b4142390>"
      ]
     },
     "execution_count": 134,
     "metadata": {},
     "output_type": "execute_result"
    },
    {
     "data": {
      "image/png": "[encoded data removed]",
      "text/plain": [
       "<Figure size 432x288 with 1 Axes>"
      ]
     },
     "metadata": {
      "needs_background": "light"
     },
     "output_type": "display_data"
    }
   ],
   "source": [
    "plt.scatter(range(len(y_train)), pred)"
   ]
  },
  {
   "cell_type": "code",
   "execution_count": null,
   "metadata": {},
   "outputs": [],
   "source": []
  }
 ],
 "metadata": {
  "kernelspec": {
   "display_name": "Python 3",
   "language": "python",
   "name": "python3"
  },
  "language_info": {
   "codemirror_mode": {
    "name": "ipython",
    "version": 3
   },
   "file_extension": ".py",
   "mimetype": "text/x-python",
   "name": "python",
   "nbconvert_exporter": "python",
   "pygments_lexer": "ipython3",
   "version": "3.7.6"
  }
 },
 "nbformat": 4,
 "nbformat_minor": 4
}
