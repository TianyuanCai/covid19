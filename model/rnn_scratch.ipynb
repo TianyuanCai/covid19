{
 "cells": [
  {
   "cell_type": "code",
   "execution_count": 1,
   "metadata": {},
   "outputs": [],
   "source": [
    "import pandas as pd\n",
    "import numpy as np\n",
    "\n",
    "import utils"
   ]
  },
  {
   "cell_type": "code",
   "execution_count": 2,
   "metadata": {},
   "outputs": [],
   "source": [
    "processed_path = '../data/processed/time_series_all.csv'\n",
    "df = pd.read_csv(processed_path)"
   ]
  },
  {
   "cell_type": "code",
   "execution_count": 14,
   "metadata": {},
   "outputs": [
    {
     "data": {
      "text/plain": [
       "Index(['state', 'county', 'fips', 'cases', 'deaths', 'cldCvrMin', 'cldCvrAvg',\n",
       "       'cldCvrMax', 'dewPtMin', 'dewPtAvg', 'dewPtMax', 'feelsLikeMin',\n",
       "       'feelsLikeAvg', 'feelsLikeMax', 'heatIndexMin', 'heatIndexAvg',\n",
       "       'heatIndexMax', 'mslPresMin', 'mslPresAvg', 'mslPresMax', 'precip',\n",
       "       'presTendMin', 'presTendAvg', 'presTendMax', 'radSolarMin',\n",
       "       'radSolarAvg', 'radSolarMax', 'radSolarTot', 'relHumMin', 'relHumAvg',\n",
       "       'relHumMax', 'sfcPresMin', 'sfcPresAvg', 'sfcPresMax', 'snowDepth',\n",
       "       'snowfall', 'spcHumMin', 'spcHumAvg', 'spcHumMax', 'tempMin', 'tempAvg',\n",
       "       'tempMax', 'windChillMin', 'windChillAvg', 'windChillMax', 'windDirAvg',\n",
       "       'windDir80mAvg', 'windDir100mAvg', 'windSpdMin', 'windSpdAvg',\n",
       "       'windSpdMax', 'windSpd80mMin', 'windSpd80mAvg', 'windSpd80mMax',\n",
       "       'windSpd100mMin', 'windSpd100mAvg', 'windSpd100mMax', 'wetBulbMin',\n",
       "       'wetBulbAvg', 'wetBulbMax',\n",
       "       'grocery_and_pharmacy_percent_change_from_baseline',\n",
       "       'retail_and_recreation_percent_change_from_baseline',\n",
       "       'residential_percent_change_from_baseline',\n",
       "       'transit_stations_percent_change_from_baseline',\n",
       "       'workplaces_percent_change_from_baseline',\n",
       "       'parks_percent_change_from_baseline', 'income_2018', 'pop_2018',\n",
       "       'day_10_delta_fips', 'day_10_delta_cases', 'day_10_delta_deaths'],\n",
       "      dtype='object')"
      ]
     },
     "execution_count": 14,
     "metadata": {},
     "output_type": "execute_result"
    }
   ],
   "source": [
    "df_new = utils.get_model_data(df,date_range=(0,5), pred_day=10)\n",
    "df_new.columns"
   ]
  },
  {
   "cell_type": "code",
   "execution_count": 8,
   "metadata": {},
   "outputs": [
    {
     "data": {
      "text/plain": [
       "(576,)"
      ]
     },
     "execution_count": 8,
     "metadata": {},
     "output_type": "execute_result"
    }
   ],
   "source": [
    "df_new['county'].unique().shape"
   ]
  },
  {
   "cell_type": "code",
   "execution_count": 9,
   "metadata": {},
   "outputs": [
    {
     "data": {
      "text/plain": [
       "(735,)"
      ]
     },
     "execution_count": 9,
     "metadata": {},
     "output_type": "execute_result"
    }
   ],
   "source": [
    "df_new['fips'].unique().shape"
   ]
  },
  {
   "cell_type": "code",
   "execution_count": null,
   "metadata": {},
   "outputs": [],
   "source": []
  }
 ],
 "metadata": {
  "kernelspec": {
   "display_name": "Python 3",
   "language": "python",
   "name": "python3"
  },
  "language_info": {
   "codemirror_mode": {
    "name": "ipython",
    "version": 3
   },
   "file_extension": ".py",
   "mimetype": "text/x-python",
   "name": "python",
   "nbconvert_exporter": "python",
   "pygments_lexer": "ipython3",
   "version": "3.7.6"
  }
 },
 "nbformat": 4,
 "nbformat_minor": 4
}
