{
 "cells": [
  {
   "cell_type": "code",
   "execution_count": 485,
   "metadata": {},
   "outputs": [
    {
     "name": "stdout",
     "output_type": "stream",
     "text": [
      "2.2.4-tf\n",
      "2.1.0\n"
     ]
    }
   ],
   "source": [
    "import sys\n",
    "sys.path.append('../')\n",
    "import datetime\n",
    "import pandas as pd\n",
    "import numpy as np\n",
    "from lib import get_data\n",
    "import matplotlib.pyplot as plt\n",
    "import seaborn as sns\n",
    "import tensorflow as tf\n",
    "from tensorflow.keras import backend\n",
    "\n",
    "from tensorflow.keras import Model, Sequential\n",
    "from tensorflow.keras.models import model_from_json\n",
    "from tensorflow.keras.layers import Input, SimpleRNN, Dense, GRU, Dropout, Bidirectional,\\\n",
    "                                    BatchNormalization, LSTM, LeakyReLU, Concatenate, GaussianNoise\n",
    "from tensorflow.keras.callbacks import Callback, ModelCheckpoint, ReduceLROnPlateau, EarlyStopping\n",
    "from sklearn.model_selection import train_test_split\n",
    "\n",
    "print(tf.keras.__version__)\n",
    "print(tf.__version__)"
   ]
  },
  {
   "cell_type": "code",
   "execution_count": 150,
   "metadata": {},
   "outputs": [],
   "source": [
    "OTHERS = ['date', 'county', 'state', 'fips', 'cases', 'deaths', \n",
    "                'income_2018', 'pop_2018', 'pred_days_since_10_cases',\n",
    "                'pred_cases', 'pred_deaths']\n",
    "WEATHER = ['heatIndexMin', 'heatIndexAvg', 'heatIndexMax','relHumMin',\n",
    "                'relHumAvg', 'relHumMax',  'tempMin', 'tempAvg', 'tempMax', 'windChillMin', 'windChillAvg',\n",
    "                'windChillMax', 'windDirAvg']\n",
    "MOBILITY = ['retail_and_recreation_percent_change_from_baseline',\n",
    "                'residential_percent_change_from_baseline',\n",
    "                'workplaces_percent_change_from_baseline',\n",
    "                'transit_stations_percent_change_from_baseline',\n",
    "                'grocery_and_pharmacy_percent_change_from_baseline',\n",
    "                'parks_percent_change_from_baseline']\n",
    "COLUMNS = OTHERS + WEATHER + MOBILITY\n",
    "LEN = 6"
   ]
  },
  {
   "cell_type": "code",
   "execution_count": 14,
   "metadata": {},
   "outputs": [],
   "source": [
    "processed_path = '../data/processed/time_series_updated.csv'\n",
    "data = pd.read_csv(processed_path)"
   ]
  },
  {
   "cell_type": "code",
   "execution_count": 15,
   "metadata": {},
   "outputs": [],
   "source": [
    "# normalize \n",
    "income_max = data['income_2018'].max()\n",
    "income_min = data['income_2018'].min()\n",
    "data['income_2018'] = (data['income_2018'] - income_min) / income_max\n",
    "\n",
    "pop_max = data['pop_2018'].max()\n",
    "pop_min = data['pop_2018'].min()\n",
    "data['pop_2018'] = (data['pop_2018']-pop_min)/pop_max\n",
    "\n",
    "# # normalize weather\n",
    "# weather = data[WEATHER]\n",
    "# weather_max = weather.max()\n",
    "# weather_min = weather.min()\n",
    "# weather_new = (weather - weather_min)/weather_max\n",
    "# data[WEATHER] = weather_new\n",
    "\n",
    "# # nomalize mobility\n",
    "# mobility = data[MOBILITY]\n",
    "# mobility_mean = mobility.mean()\n",
    "# mobility_std = mobility.std()\n",
    "# mobility_new = (mobility - mobility_mean)/mobility_std\n",
    "# data[MOBILITY] = mobility_new"
   ]
  },
  {
   "cell_type": "code",
   "execution_count": 151,
   "metadata": {},
   "outputs": [],
   "source": [
    "def get_model_data_cumulative(data, date_range=(0, 14), pred_day=21):\n",
    "    \"\"\"\n",
    "\n",
    "    :param date_range: integer measuring the number of days since first day w/ 10 cases\n",
    "    :param pred_day:\n",
    "    :return:\n",
    "    \"\"\"\n",
    "\n",
    "    # ensure full coverage of interested dates\n",
    "    data = data[data['fips'].isin(data[data['days_since_10_cases'] == pred_day]['fips'].drop_duplicates())]\n",
    "\n",
    "    # filter for training and testing dates\n",
    "    data_x = data[data['days_since_10_cases'].between(date_range[0], date_range[1])]\n",
    "    data_grouped = data_x.groupby(['state', 'county', 'fips']).agg('mean').reset_index()  # todo play with granularity\n",
    "    data_x = data_x.drop(['days_since_10_cases'], axis=1)\n",
    "\n",
    "    # get change rate since last training date\n",
    "    data_y = data[data['days_since_10_cases'].isin([date_range[1], pred_day])][\n",
    "        ['fips', 'cases', 'deaths', 'days_since_10_cases']]\n",
    "    data_y = data_y.sort_values(['fips', 'days_since_10_cases']).reset_index(drop=True)\n",
    "    day_idx = np.where(data_y['days_since_10_cases'] == pred_day)[0]\n",
    "    data_y_new = data_y.iloc[day_idx, :].reset_index()\n",
    "    data_y_new = data_y_new.drop(['index'], axis=1)\n",
    "    data_y_new['fips'] = data_y.loc[day_idx, 'fips'].reset_index(drop=True)\n",
    "    data_y_new = data_y_new.add_prefix('pred_')\n",
    "    \n",
    "    \n",
    "    data = data_x.merge(data_y_new, left_on='fips', right_on='pred_fips', how='inner')\n",
    "#     data_grouped = data_grouped.merge(data_y, left_on='fips', right_on=f'day_{pred_day}_cumulative_fips',\n",
    "#                                       how='inner')\n",
    "#     data_grouped = data_grouped.drop(f'day_{pred_day}_cumulative_fips', axis=1)\n",
    "    data = data.drop('pred_fips', axis=1)\n",
    "    \n",
    "    data = data[COLUMNS]\n",
    "    data = data.fillna(0)\n",
    "    data = data.drop(['county','state'],axis=1)\n",
    "#     data_grouped = data_grouped[COLUMNS]\n",
    "    return data \n"
   ]
  },
  {
   "cell_type": "markdown",
   "metadata": {},
   "source": [
    "Generating training set\n",
    "-----------"
   ]
  },
  {
   "cell_type": "code",
   "execution_count": 550,
   "metadata": {},
   "outputs": [],
   "source": [
    "\n",
    "\n",
    "def genrate_rnn_data(start, end, LEN, data):\n",
    "\n",
    "    for i in range(start, end):\n",
    "        df = get_model_data_cumulative(data, date_range=(i, i+LEN), pred_day=i+LEN+1)\n",
    "        if df.empty is False:\n",
    "            grouped_by_fips = df.groupby(['fips']).groups\n",
    "            count = 0\n",
    "            for fips in grouped_by_fips:\n",
    "                index = grouped_by_fips[fips]\n",
    "                y = np.expand_dims(df.iloc[index]['pred_cases'].to_numpy(),axis=0)\n",
    "                features = df.iloc[index].drop(['pop_2018','income_2018','pred_cases','pred_deaths'],axis=1)\n",
    "    #             train = np.expand_dims(df.iloc[index][['cases']].to_numpy(),axi,s=0)\n",
    "    #             train = np.expand_dims(df.iloc[index].drop(['date','fips'],axis=1)[['cases','pred_cases']].to_numpy(),axis=0)\n",
    "                statis_features = df.iloc[index][['pop_2018','income_2018']]\n",
    "\n",
    "                if i == 1:\n",
    "                    X_time_series = np.expand_dims(features.to_numpy(),axis=0)\n",
    "                    time_series_col = features.columns\n",
    "                    X_static = np.expand_dims(statis_features.iloc[0].to_numpy(),axis=0)\n",
    "                    static_series_col = statis_features.columns\n",
    "    #                 X_train = train[:,:,0]\n",
    "                    y_true = y.mean()\n",
    "    #                 y_train = train[:,:,1].mean()\n",
    "                else:\n",
    "                    X_time_series = np.vstack((X_time_series,  np.expand_dims(features.to_numpy(),axis=0)))\n",
    "                    X_static = np.vstack((X_static,  np.expand_dims(statis_features.iloc[0].to_numpy(),axis=0)))\n",
    "                    y_true =np.vstack((y_true, y.mean()))\n",
    "    return X_time_series, X_static, y_true, time_series_col, static_series_col\n"
   ]
  },
  {
   "cell_type": "code",
   "execution_count": 551,
   "metadata": {},
   "outputs": [],
   "source": [
    "start = 1\n",
    "end = 100\n",
    "X_time_series, X_static, y_true, time_series_col, static_series_col = genrate_rnn_data(start, end, LEN, data)"
   ]
  },
  {
   "cell_type": "code",
   "execution_count": 257,
   "metadata": {},
   "outputs": [
    {
     "data": {
      "text/plain": [
       "(24,)"
      ]
     },
     "metadata": {},
     "output_type": "display_data"
    },
    {
     "data": {
      "text/plain": [
       "Index(['pop_2018', 'income_2018'], dtype='object')"
      ]
     },
     "metadata": {},
     "output_type": "display_data"
    }
   ],
   "source": [
    "display(time_series_col.shape)\n",
    "display(static_series_col)"
   ]
  },
  {
   "cell_type": "code",
   "execution_count": null,
   "metadata": {},
   "outputs": [],
   "source": [
    "# np.save('../data/rnn_data/X_time_series.npy',X_time_series,allow_pickle)\n",
    "# np.save('../data/rnn_data/X_static.npy',X_static)\n",
    "# np.save('../data/rnn_data/y_true.npy',y_true)"
   ]
  },
  {
   "cell_type": "markdown",
   "metadata": {},
   "source": [
    "### Split train_test"
   ]
  },
  {
   "cell_type": "code",
   "execution_count": 836,
   "metadata": {},
   "outputs": [],
   "source": [
    "X_time_series = np.load('../data/rnn_data/X_time_series.npy',allow_pickle=True)\n",
    "X_static = np.load('../data/rnn_data/X_static.npy',allow_pickle=True)\n",
    "y_true = np.load('../data/rnn_data/y_true.npy',allow_pickle=True)"
   ]
  },
  {
   "cell_type": "code",
   "execution_count": 837,
   "metadata": {},
   "outputs": [],
   "source": [
    "X_time_series_data = X_time_series[:,:,2:].astype(np.float32)\n",
    "fips_date = X_time_series[:,:,:2]\n",
    "\n",
    "X_time_series_train, X_time_series_test, X_static_train, \\\n",
    "    X_static_test, y_train, y_test, fips_date_train, fips_date_test = train_test_split(X_time_series_data, X_static, y_true, fips_date, test_size=0.1, random_state=109)\n"
   ]
  },
  {
   "cell_type": "markdown",
   "metadata": {},
   "source": [
    "### Upsampling"
   ]
  },
  {
   "cell_type": "code",
   "execution_count": 838,
   "metadata": {},
   "outputs": [],
   "source": [
    "def upsampling(x1, x2, y, threshold1,threshold2, rate):\n",
    "    idx = np.where((y > threshold1) & (y < threshold2))[0]\n",
    "    print(idx.shape)\n",
    "    y_resample = np.tile(y[idx], (rate,1))\n",
    "    noise = np.random.normal(0,10,y_resample.shape) \n",
    "    y_new = np.append(y,y_resample+noise,axis=0)\n",
    "    \n",
    "    \n",
    "    X_time_series_resample = np.tile(x1[idx],(rate,1,1))\n",
    "    x1_new = np.append(x1, X_time_series_resample,axis=0)\n",
    "\n",
    "    X_static_resample = np.tile(x2[idx],(rate,1))\n",
    "    x2_new = np.append(x2, X_static_resample,axis=0)\n",
    "    \n",
    "    return x1_new, x2_new, y_new"
   ]
  },
  {
   "cell_type": "code",
   "execution_count": 839,
   "metadata": {},
   "outputs": [
    {
     "name": "stdout",
     "output_type": "stream",
     "text": [
      "(209,)\n",
      "(73,)\n",
      "(27,)\n",
      "(2,)\n"
     ]
    }
   ],
   "source": [
    "X_time_series_train, X_static_train, y_train = upsampling(X_time_series_train, X_static_train, y_train, 5000, 10000, 50)\n",
    "X_time_series_train, X_static_train, y_train = upsampling(X_time_series_train, X_static_train, y_train, 10000, 20000, 500)\n",
    "X_time_series_train, X_static_train, y_train = upsampling(X_time_series_train, X_static_train, y_train, 20000, 30000, 500)\n",
    "X_time_series_train, X_static_train, y_train = upsampling(X_time_series_train, X_static_train, y_train, 30000, 40000, 1000)"
   ]
  },
  {
   "cell_type": "code",
   "execution_count": 840,
   "metadata": {},
   "outputs": [
    {
     "data": {
      "text/plain": [
       "(79831, 7, 22)"
      ]
     },
     "execution_count": 840,
     "metadata": {},
     "output_type": "execute_result"
    }
   ],
   "source": [
    "X_time_series_train.shape"
   ]
  },
  {
   "cell_type": "markdown",
   "metadata": {},
   "source": [
    "RNN\n",
    "--------"
   ]
  },
  {
   "cell_type": "code",
   "execution_count": 841,
   "metadata": {},
   "outputs": [],
   "source": [
    "# your code here\n",
    "\n",
    "# time series input\n",
    "time_series_input = Input(shape=(7,22), name='time_series_input')\n",
    "noise_layer1 = GaussianNoise(0.1)(time_series_input)\n",
    "rnn1 = LSTM(64, return_sequences=True, recurrent_dropout=0.2)(noise_layer1)\n",
    "rnn2 = LSTM(32)(rnn1)\n",
    "\n",
    "#static input branch\n",
    "static_input_layer = Input(shape=(2))\n",
    "noise_layer2 = GaussianNoise(0.1)(static_input_layer)\n",
    "static_dense = Dense(64)(noise_layer2)\n",
    "static_dropout = Dropout(0.3)(static_dense)\n",
    "\n",
    "concat = Concatenate(axis=-1)([rnn2,static_dropout])\n",
    "dense = Dense(32)(concat)\n",
    "dropout = Dropout(0.3)(dense)\n",
    "output = Dense(1, activation='relu',name=\"output\")(dropout)\n",
    "\n",
    "\n",
    "model = Model([time_series_input,static_input_layer ], output, name='rnn')\n",
    "\n",
    "model.compile(optimizer='adam', loss=tf.keras.losses.MeanSquaredLogarithmicError())"
   ]
  },
  {
   "cell_type": "code",
   "execution_count": 842,
   "metadata": {},
   "outputs": [
    {
     "name": "stdout",
     "output_type": "stream",
     "text": [
      "Model: \"rnn\"\n",
      "__________________________________________________________________________________________________\n",
      "Layer (type)                    Output Shape         Param #     Connected to                     \n",
      "==================================================================================================\n",
      "time_series_input (InputLayer)  [(None, 7, 22)]      0                                            \n",
      "__________________________________________________________________________________________________\n",
      "input_32 (InputLayer)           [(None, 2)]          0                                            \n",
      "__________________________________________________________________________________________________\n",
      "gaussian_noise_11 (GaussianNois (None, 7, 22)        0           time_series_input[0][0]          \n",
      "__________________________________________________________________________________________________\n",
      "gaussian_noise_12 (GaussianNois (None, 2)            0           input_32[0][0]                   \n",
      "__________________________________________________________________________________________________\n",
      "lstm_72 (LSTM)                  (None, 7, 64)        22272       gaussian_noise_11[0][0]          \n",
      "__________________________________________________________________________________________________\n",
      "dense_72 (Dense)                (None, 64)           192         gaussian_noise_12[0][0]          \n",
      "__________________________________________________________________________________________________\n",
      "lstm_73 (LSTM)                  (None, 32)           12416       lstm_72[0][0]                    \n",
      "__________________________________________________________________________________________________\n",
      "dropout_63 (Dropout)            (None, 64)           0           dense_72[0][0]                   \n",
      "__________________________________________________________________________________________________\n",
      "concatenate_28 (Concatenate)    (None, 96)           0           lstm_73[0][0]                    \n",
      "                                                                 dropout_63[0][0]                 \n",
      "__________________________________________________________________________________________________\n",
      "dense_73 (Dense)                (None, 32)           3104        concatenate_28[0][0]             \n",
      "__________________________________________________________________________________________________\n",
      "dropout_64 (Dropout)            (None, 32)           0           dense_73[0][0]                   \n",
      "__________________________________________________________________________________________________\n",
      "output (Dense)                  (None, 1)            33          dropout_64[0][0]                 \n",
      "==================================================================================================\n",
      "Total params: 38,017\n",
      "Trainable params: 38,017\n",
      "Non-trainable params: 0\n",
      "__________________________________________________________________________________________________\n"
     ]
    }
   ],
   "source": [
    "model.summary()"
   ]
  },
  {
   "cell_type": "code",
   "execution_count": 843,
   "metadata": {},
   "outputs": [],
   "source": [
    "callbacks = [ReduceLROnPlateau(monitor='val_loss', patience=4, verbose=1, factor=0.6),\n",
    "             EarlyStopping(monitor='val_loss', patience=20),\n",
    "             ModelCheckpoint(filepath='../../models/best_model_1.h5', monitor='val_loss', save_best_only=True)]"
   ]
  },
  {
   "cell_type": "code",
   "execution_count": 844,
   "metadata": {
    "scrolled": true
   },
   "outputs": [
    {
     "name": "stdout",
     "output_type": "stream",
     "text": [
      "Train on 71847 samples, validate on 7984 samples\n",
      "Epoch 1/200\n",
      "71847/71847 [==============================] - 5s 72us/sample - loss: 48.1881 - val_loss: 53.2583\n",
      "Epoch 2/200\n",
      "71847/71847 [==============================] - 2s 31us/sample - loss: 30.0136 - val_loss: 41.9421\n",
      "Epoch 3/200\n",
      "71847/71847 [==============================] - 2s 31us/sample - loss: 23.9690 - val_loss: 35.5592\n",
      "Epoch 4/200\n",
      "71847/71847 [==============================] - 2s 31us/sample - loss: 20.2069 - val_loss: 31.0086\n",
      "Epoch 5/200\n",
      "71847/71847 [==============================] - 2s 31us/sample - loss: 17.3528 - val_loss: 27.4297\n",
      "Epoch 6/200\n",
      "71847/71847 [==============================] - 2s 31us/sample - loss: 15.1811 - val_loss: 24.5286\n",
      "Epoch 7/200\n",
      "71847/71847 [==============================] - 2s 31us/sample - loss: 13.4114 - val_loss: 22.1275\n",
      "Epoch 8/200\n",
      "71847/71847 [==============================] - 2s 31us/sample - loss: 11.9663 - val_loss: 20.1021\n",
      "Epoch 9/200\n",
      "71847/71847 [==============================] - 2s 31us/sample - loss: 10.7713 - val_loss: 18.3767\n",
      "Epoch 10/200\n",
      "71847/71847 [==============================] - 2s 31us/sample - loss: 9.7615 - val_loss: 16.8954\n",
      "Epoch 11/200\n",
      "71847/71847 [==============================] - 2s 31us/sample - loss: 8.9077 - val_loss: 15.6137\n",
      "Epoch 12/200\n",
      "71847/71847 [==============================] - 2s 31us/sample - loss: 8.1864 - val_loss: 14.4989\n",
      "Epoch 13/200\n",
      "71847/71847 [==============================] - 2s 31us/sample - loss: 7.5902 - val_loss: 13.5336\n",
      "Epoch 14/200\n",
      "71847/71847 [==============================] - 2s 31us/sample - loss: 7.0931 - val_loss: 12.6936\n",
      "Epoch 15/200\n",
      "71847/71847 [==============================] - 2s 31us/sample - loss: 6.6650 - val_loss: 11.9490\n",
      "Epoch 16/200\n",
      "71847/71847 [==============================] - 2s 31us/sample - loss: 6.3074 - val_loss: 11.2854\n",
      "Epoch 17/200\n",
      "71847/71847 [==============================] - 2s 31us/sample - loss: 5.9928 - val_loss: 10.6912\n",
      "Epoch 18/200\n",
      "71847/71847 [==============================] - 2s 31us/sample - loss: 5.7107 - val_loss: 10.1499\n",
      "Epoch 19/200\n",
      "71847/71847 [==============================] - 2s 32us/sample - loss: 5.4658 - val_loss: 9.6615\n",
      "Epoch 20/200\n",
      "71847/71847 [==============================] - 2s 32us/sample - loss: 5.2452 - val_loss: 9.2188\n",
      "Epoch 21/200\n",
      "71847/71847 [==============================] - 2s 32us/sample - loss: 5.0371 - val_loss: 8.8114\n",
      "Epoch 22/200\n",
      "71847/71847 [==============================] - 2s 33us/sample - loss: 4.8762 - val_loss: 8.4380\n",
      "Epoch 23/200\n",
      "71847/71847 [==============================] - 2s 31us/sample - loss: 4.7026 - val_loss: 8.0974\n",
      "Epoch 24/200\n",
      "71847/71847 [==============================] - 2s 32us/sample - loss: 4.5743 - val_loss: 7.7838\n",
      "Epoch 25/200\n",
      "71847/71847 [==============================] - 2s 32us/sample - loss: 4.4295 - val_loss: 7.4946\n",
      "Epoch 26/200\n",
      "71847/71847 [==============================] - 2s 32us/sample - loss: 4.3245 - val_loss: 7.2275\n",
      "Epoch 27/200\n",
      "71847/71847 [==============================] - 2s 31us/sample - loss: 4.2068 - val_loss: 6.9826\n",
      "Epoch 28/200\n",
      "71847/71847 [==============================] - 2s 32us/sample - loss: 4.1029 - val_loss: 6.7571\n",
      "Epoch 29/200\n",
      "71847/71847 [==============================] - 2s 31us/sample - loss: 4.0164 - val_loss: 6.5483\n",
      "Epoch 30/200\n",
      "71847/71847 [==============================] - 2s 31us/sample - loss: 3.9230 - val_loss: 6.3559\n",
      "Epoch 31/200\n",
      "71847/71847 [==============================] - 2s 31us/sample - loss: 3.8382 - val_loss: 6.1765\n",
      "Epoch 32/200\n",
      "71847/71847 [==============================] - 2s 31us/sample - loss: 3.7629 - val_loss: 6.0079\n",
      "Epoch 33/200\n",
      "71847/71847 [==============================] - 2s 31us/sample - loss: 3.6797 - val_loss: 5.8589\n",
      "Epoch 34/200\n",
      "71847/71847 [==============================] - 2s 32us/sample - loss: 3.6093 - val_loss: 5.7125\n",
      "Epoch 35/200\n",
      "71847/71847 [==============================] - 2s 31us/sample - loss: 3.5365 - val_loss: 5.5858\n",
      "Epoch 36/200\n",
      "71847/71847 [==============================] - 2s 31us/sample - loss: 3.4669 - val_loss: 5.4669\n",
      "Epoch 37/200\n",
      "71847/71847 [==============================] - 2s 31us/sample - loss: 3.4009 - val_loss: 5.3415\n",
      "Epoch 38/200\n",
      "71847/71847 [==============================] - 2s 31us/sample - loss: 3.3304 - val_loss: 5.2259\n",
      "Epoch 39/200\n",
      "71847/71847 [==============================] - 2s 32us/sample - loss: 3.2725 - val_loss: 5.1207\n",
      "Epoch 40/200\n",
      "71847/71847 [==============================] - 2s 32us/sample - loss: 3.2244 - val_loss: 4.9892\n",
      "Epoch 41/200\n",
      "71847/71847 [==============================] - 2s 32us/sample - loss: 3.1576 - val_loss: 4.8956\n",
      "Epoch 42/200\n",
      "71847/71847 [==============================] - 2s 33us/sample - loss: 3.1114 - val_loss: 4.8050\n",
      "Epoch 43/200\n",
      "71847/71847 [==============================] - 2s 32us/sample - loss: 3.0648 - val_loss: 4.6991\n",
      "Epoch 44/200\n",
      "71847/71847 [==============================] - 2s 31us/sample - loss: 3.0221 - val_loss: 4.5817\n",
      "Epoch 45/200\n",
      "71847/71847 [==============================] - 2s 32us/sample - loss: 2.9722 - val_loss: 4.5039\n",
      "Epoch 46/200\n",
      "71847/71847 [==============================] - 2s 32us/sample - loss: 2.9349 - val_loss: 4.3977\n",
      "Epoch 47/200\n",
      "71847/71847 [==============================] - 2s 32us/sample - loss: 2.8922 - val_loss: 4.3172\n",
      "Epoch 48/200\n",
      "71847/71847 [==============================] - 2s 31us/sample - loss: 2.8589 - val_loss: 4.2186\n",
      "Epoch 49/200\n",
      "71847/71847 [==============================] - 2s 31us/sample - loss: 2.8149 - val_loss: 4.1217\n",
      "Epoch 50/200\n",
      "71847/71847 [==============================] - 2s 32us/sample - loss: 2.7773 - val_loss: 4.0761\n",
      "Epoch 51/200\n",
      "71847/71847 [==============================] - 2s 31us/sample - loss: 2.7220 - val_loss: 3.9739\n",
      "Epoch 52/200\n",
      "71847/71847 [==============================] - 2s 31us/sample - loss: 2.7072 - val_loss: 3.8950\n",
      "Epoch 53/200\n",
      "71847/71847 [==============================] - 2s 32us/sample - loss: 2.6741 - val_loss: 3.8556\n",
      "Epoch 54/200\n",
      "71847/71847 [==============================] - 2s 31us/sample - loss: 2.6368 - val_loss: 3.8053\n",
      "Epoch 55/200\n",
      "71847/71847 [==============================] - 2s 31us/sample - loss: 2.5980 - val_loss: 3.7604\n",
      "Epoch 56/200\n",
      "71847/71847 [==============================] - 2s 31us/sample - loss: 2.5832 - val_loss: 3.6526\n",
      "Epoch 57/200\n",
      "71847/71847 [==============================] - 2s 31us/sample - loss: 2.5326 - val_loss: 3.5838\n",
      "Epoch 58/200\n",
      "71847/71847 [==============================] - 2s 31us/sample - loss: 2.5067 - val_loss: 3.5118\n",
      "Epoch 59/200\n",
      "71847/71847 [==============================] - 2s 31us/sample - loss: 2.4845 - val_loss: 3.4879\n",
      "Epoch 60/200\n",
      "71847/71847 [==============================] - 2s 31us/sample - loss: 2.4464 - val_loss: 3.4139\n",
      "Epoch 61/200\n",
      "71847/71847 [==============================] - 2s 32us/sample - loss: 2.4106 - val_loss: 3.3956\n",
      "Epoch 62/200\n",
      "71847/71847 [==============================] - 2s 31us/sample - loss: 2.3888 - val_loss: 3.3390\n",
      "Epoch 63/200\n",
      "71847/71847 [==============================] - 2s 31us/sample - loss: 2.3776 - val_loss: 3.3076\n",
      "Epoch 64/200\n",
      "71847/71847 [==============================] - 2s 31us/sample - loss: 2.3337 - val_loss: 3.2591\n",
      "Epoch 65/200\n",
      "71847/71847 [==============================] - 2s 32us/sample - loss: 2.3023 - val_loss: 3.2065\n",
      "Epoch 66/200\n",
      "71847/71847 [==============================] - 2s 31us/sample - loss: 2.2708 - val_loss: 3.1321\n",
      "Epoch 67/200\n",
      "71847/71847 [==============================] - 2s 32us/sample - loss: 2.2532 - val_loss: 3.0918\n",
      "Epoch 68/200\n",
      "71847/71847 [==============================] - 2s 32us/sample - loss: 2.2193 - val_loss: 3.0400\n",
      "Epoch 69/200\n",
      "71847/71847 [==============================] - 2s 32us/sample - loss: 2.1987 - val_loss: 3.0311\n",
      "Epoch 70/200\n",
      "71847/71847 [==============================] - 2s 32us/sample - loss: 2.1806 - val_loss: 2.9737\n",
      "Epoch 71/200\n",
      "71847/71847 [==============================] - 2s 31us/sample - loss: 2.1351 - val_loss: 2.9458\n",
      "Epoch 72/200\n",
      "71847/71847 [==============================] - 2s 31us/sample - loss: 2.1094 - val_loss: 2.9165\n",
      "Epoch 73/200\n",
      "71847/71847 [==============================] - 2s 31us/sample - loss: 2.0852 - val_loss: 2.8672\n",
      "Epoch 74/200\n",
      "71847/71847 [==============================] - 2s 31us/sample - loss: 2.0755 - val_loss: 2.8490\n",
      "Epoch 75/200\n",
      "71847/71847 [==============================] - 2s 31us/sample - loss: 2.0438 - val_loss: 2.8088\n",
      "Epoch 76/200\n",
      "71847/71847 [==============================] - 2s 32us/sample - loss: 2.0065 - val_loss: 2.7649\n",
      "Epoch 77/200\n",
      "71847/71847 [==============================] - 2s 31us/sample - loss: 2.0098 - val_loss: 2.7097\n",
      "Epoch 78/200\n",
      "71847/71847 [==============================] - 2s 31us/sample - loss: 1.9815 - val_loss: 2.7106\n",
      "Epoch 79/200\n",
      "71847/71847 [==============================] - 2s 31us/sample - loss: 1.9524 - val_loss: 2.6649\n",
      "Epoch 80/200\n",
      "71847/71847 [==============================] - 2s 31us/sample - loss: 1.9166 - val_loss: 2.6281\n",
      "Epoch 81/200\n",
      "71847/71847 [==============================] - 2s 31us/sample - loss: 1.8898 - val_loss: 2.6106\n",
      "Epoch 82/200\n",
      "71847/71847 [==============================] - 2s 31us/sample - loss: 1.8686 - val_loss: 2.5761\n",
      "Epoch 83/200\n",
      "71847/71847 [==============================] - 2s 32us/sample - loss: 1.8738 - val_loss: 2.5258\n",
      "Epoch 84/200\n",
      "71847/71847 [==============================] - 2s 31us/sample - loss: 1.8196 - val_loss: 2.5070\n",
      "Epoch 85/200\n",
      "71847/71847 [==============================] - 2s 31us/sample - loss: 1.7925 - val_loss: 2.4736\n",
      "Epoch 86/200\n",
      "71847/71847 [==============================] - 2s 31us/sample - loss: 1.7882 - val_loss: 2.4509\n",
      "Epoch 87/200\n",
      "71847/71847 [==============================] - 2s 32us/sample - loss: 1.7637 - val_loss: 2.4307\n",
      "Epoch 88/200\n",
      "71847/71847 [==============================] - 2s 31us/sample - loss: 1.7358 - val_loss: 2.4058\n",
      "Epoch 89/200\n",
      "71847/71847 [==============================] - 2s 31us/sample - loss: 1.7268 - val_loss: 2.3607\n",
      "Epoch 90/200\n",
      "71847/71847 [==============================] - 2s 31us/sample - loss: 1.6939 - val_loss: 2.3480\n",
      "Epoch 91/200\n",
      "71847/71847 [==============================] - 2s 31us/sample - loss: 1.6710 - val_loss: 2.3078\n",
      "Epoch 92/200\n",
      "71847/71847 [==============================] - 2s 31us/sample - loss: 1.6662 - val_loss: 2.2891\n",
      "Epoch 93/200\n",
      "71847/71847 [==============================] - 2s 31us/sample - loss: 1.6558 - val_loss: 2.2497\n",
      "Epoch 94/200\n",
      "71847/71847 [==============================] - 2s 31us/sample - loss: 1.6294 - val_loss: 2.2207\n",
      "Epoch 95/200\n",
      "71847/71847 [==============================] - 2s 31us/sample - loss: 1.6063 - val_loss: 2.2022\n",
      "Epoch 96/200\n",
      "71847/71847 [==============================] - 2s 31us/sample - loss: 1.6178 - val_loss: 2.1410\n",
      "Epoch 97/200\n",
      "71847/71847 [==============================] - 2s 31us/sample - loss: 1.5919 - val_loss: 2.1278\n",
      "Epoch 98/200\n",
      "71847/71847 [==============================] - 2s 31us/sample - loss: 1.5807 - val_loss: 2.1093\n",
      "Epoch 99/200\n",
      "71847/71847 [==============================] - 2s 31us/sample - loss: 1.5655 - val_loss: 2.0829\n",
      "Epoch 100/200\n",
      "71847/71847 [==============================] - 2s 31us/sample - loss: 1.5397 - val_loss: 2.0642\n",
      "Epoch 101/200\n",
      "71847/71847 [==============================] - 2s 31us/sample - loss: 1.5342 - val_loss: 2.0326\n",
      "Epoch 102/200\n",
      "71847/71847 [==============================] - 2s 31us/sample - loss: 1.5057 - val_loss: 2.0289\n",
      "Epoch 103/200\n",
      "71847/71847 [==============================] - 2s 31us/sample - loss: 1.4907 - val_loss: 1.9981\n",
      "Epoch 104/200\n",
      "71847/71847 [==============================] - 2s 31us/sample - loss: 1.4806 - val_loss: 1.9761\n",
      "Epoch 105/200\n",
      "71847/71847 [==============================] - 2s 31us/sample - loss: 1.4691 - val_loss: 1.9414\n",
      "Epoch 106/200\n",
      "71847/71847 [==============================] - 2s 31us/sample - loss: 1.4717 - val_loss: 1.9219\n",
      "Epoch 107/200\n",
      "71847/71847 [==============================] - 2s 31us/sample - loss: 1.4668 - val_loss: 1.8996\n",
      "Epoch 108/200\n",
      "71847/71847 [==============================] - 2s 31us/sample - loss: 1.4430 - val_loss: 1.8620\n",
      "Epoch 109/200\n",
      "71847/71847 [==============================] - 2s 31us/sample - loss: 1.5835 - val_loss: 1.8768\n",
      "Epoch 110/200\n",
      "71847/71847 [==============================] - 2s 30us/sample - loss: 1.4336 - val_loss: 1.8767\n",
      "Epoch 111/200\n",
      "71847/71847 [==============================] - 2s 31us/sample - loss: 1.4132 - val_loss: 1.8524\n",
      "Epoch 112/200\n",
      "71847/71847 [==============================] - 2s 31us/sample - loss: 1.4311 - val_loss: 1.8169\n",
      "Epoch 113/200\n",
      "71847/71847 [==============================] - 2s 31us/sample - loss: 1.4278 - val_loss: 1.7992\n",
      "Epoch 114/200\n",
      "71847/71847 [==============================] - 2s 31us/sample - loss: 1.4052 - val_loss: 1.7854\n",
      "Epoch 115/200\n",
      "71847/71847 [==============================] - 2s 31us/sample - loss: 1.3888 - val_loss: 1.7647\n",
      "Epoch 116/200\n",
      "71847/71847 [==============================] - 2s 31us/sample - loss: 1.3970 - val_loss: 1.7509\n",
      "Epoch 117/200\n",
      "71847/71847 [==============================] - 2s 31us/sample - loss: 1.3879 - val_loss: 1.7453\n",
      "Epoch 118/200\n",
      "71847/71847 [==============================] - 2s 31us/sample - loss: 1.3589 - val_loss: 1.7210\n",
      "Epoch 119/200\n",
      "71847/71847 [==============================] - 2s 31us/sample - loss: 1.3602 - val_loss: 1.6966\n",
      "Epoch 120/200\n",
      "71847/71847 [==============================] - 2s 32us/sample - loss: 1.3601 - val_loss: 1.6688\n",
      "Epoch 121/200\n",
      "71847/71847 [==============================] - 2s 31us/sample - loss: 1.3416 - val_loss: 1.6562\n",
      "Epoch 122/200\n",
      "71847/71847 [==============================] - 2s 31us/sample - loss: 1.3414 - val_loss: 1.6395\n",
      "Epoch 123/200\n",
      "71847/71847 [==============================] - 2s 31us/sample - loss: 1.3415 - val_loss: 1.6171\n",
      "Epoch 124/200\n",
      "71847/71847 [==============================] - 2s 31us/sample - loss: 1.3201 - val_loss: 1.5979\n",
      "Epoch 125/200\n",
      "71847/71847 [==============================] - 2s 31us/sample - loss: 1.3065 - val_loss: 1.5848\n",
      "Epoch 126/200\n",
      "71847/71847 [==============================] - 2s 31us/sample - loss: 1.3285 - val_loss: 1.5709\n",
      "Epoch 127/200\n",
      "71847/71847 [==============================] - 2s 32us/sample - loss: 1.3167 - val_loss: 1.5585\n",
      "Epoch 128/200\n",
      "71847/71847 [==============================] - 2s 31us/sample - loss: 1.3147 - val_loss: 1.5448\n",
      "Epoch 129/200\n",
      "71847/71847 [==============================] - 2s 32us/sample - loss: 1.3230 - val_loss: 1.5373\n",
      "Epoch 130/200\n",
      "71847/71847 [==============================] - 2s 31us/sample - loss: 1.3068 - val_loss: 1.5025\n",
      "Epoch 131/200\n",
      "71847/71847 [==============================] - 2s 31us/sample - loss: 1.2961 - val_loss: 1.4830\n",
      "Epoch 132/200\n",
      "71847/71847 [==============================] - 2s 31us/sample - loss: 1.2885 - val_loss: 1.4690\n",
      "Epoch 133/200\n",
      "71847/71847 [==============================] - 2s 31us/sample - loss: 1.2953 - val_loss: 1.4643\n",
      "Epoch 134/200\n",
      "71847/71847 [==============================] - 2s 31us/sample - loss: 1.2998 - val_loss: 1.4442\n",
      "Epoch 135/200\n",
      "71847/71847 [==============================] - 2s 32us/sample - loss: 1.2863 - val_loss: 1.4236\n",
      "Epoch 136/200\n",
      "71847/71847 [==============================] - 2s 31us/sample - loss: 1.2772 - val_loss: 1.3989\n",
      "Epoch 137/200\n",
      "71847/71847 [==============================] - 2s 32us/sample - loss: 1.2809 - val_loss: 1.3987\n",
      "Epoch 138/200\n",
      "71847/71847 [==============================] - 2s 32us/sample - loss: 1.2808 - val_loss: 1.3874\n",
      "Epoch 139/200\n",
      "71847/71847 [==============================] - 2s 31us/sample - loss: 1.2744 - val_loss: 1.3681\n",
      "Epoch 140/200\n",
      "71847/71847 [==============================] - 2s 31us/sample - loss: 1.2709 - val_loss: 1.3631\n",
      "Epoch 141/200\n",
      "71847/71847 [==============================] - 2s 31us/sample - loss: 1.2621 - val_loss: 1.3458\n",
      "Epoch 142/200\n",
      "71847/71847 [==============================] - 2s 32us/sample - loss: 1.2548 - val_loss: 1.3203\n",
      "Epoch 143/200\n",
      "71847/71847 [==============================] - 2s 31us/sample - loss: 1.2507 - val_loss: 1.3160\n",
      "Epoch 144/200\n",
      "71847/71847 [==============================] - 2s 31us/sample - loss: 1.2684 - val_loss: 1.3018\n",
      "Epoch 145/200\n",
      "71847/71847 [==============================] - 2s 32us/sample - loss: 1.2636 - val_loss: 1.2904\n",
      "Epoch 146/200\n",
      "71847/71847 [==============================] - 2s 31us/sample - loss: 1.2609 - val_loss: 1.2808\n",
      "Epoch 147/200\n",
      "71847/71847 [==============================] - 2s 31us/sample - loss: 1.2608 - val_loss: 1.2718\n",
      "Epoch 148/200\n",
      "71847/71847 [==============================] - 2s 31us/sample - loss: 1.2555 - val_loss: 1.2750\n",
      "Epoch 149/200\n",
      "71847/71847 [==============================] - 2s 31us/sample - loss: 1.2521 - val_loss: 1.2663\n",
      "Epoch 150/200\n",
      "71847/71847 [==============================] - 2s 32us/sample - loss: 1.2662 - val_loss: 1.2380\n",
      "Epoch 151/200\n",
      "71847/71847 [==============================] - 2s 31us/sample - loss: 1.2473 - val_loss: 1.2496\n",
      "Epoch 152/200\n",
      "71847/71847 [==============================] - 2s 31us/sample - loss: 1.2298 - val_loss: 1.2456\n",
      "Epoch 153/200\n",
      "71847/71847 [==============================] - 2s 31us/sample - loss: 1.2370 - val_loss: 1.2323\n",
      "Epoch 154/200\n",
      "71847/71847 [==============================] - 2s 31us/sample - loss: 1.2272 - val_loss: 1.2413\n",
      "Epoch 155/200\n",
      "71847/71847 [==============================] - 2s 31us/sample - loss: 1.2279 - val_loss: 1.2327\n",
      "Epoch 156/200\n",
      "71847/71847 [==============================] - 2s 31us/sample - loss: 1.2541 - val_loss: 1.2170\n",
      "Epoch 157/200\n",
      "71847/71847 [==============================] - 2s 32us/sample - loss: 1.2125 - val_loss: 1.2099\n",
      "Epoch 158/200\n",
      "71847/71847 [==============================] - 2s 31us/sample - loss: 1.2216 - val_loss: 1.2009\n",
      "Epoch 159/200\n",
      "71847/71847 [==============================] - 2s 31us/sample - loss: 1.2150 - val_loss: 1.1958\n",
      "Epoch 160/200\n",
      "71847/71847 [==============================] - 2s 32us/sample - loss: 1.2213 - val_loss: 1.1897\n",
      "Epoch 161/200\n",
      "71847/71847 [==============================] - 2s 31us/sample - loss: 1.2055 - val_loss: 1.1895\n",
      "Epoch 162/200\n",
      "71847/71847 [==============================] - 2s 31us/sample - loss: 1.1882 - val_loss: 1.1731\n",
      "Epoch 163/200\n",
      "71847/71847 [==============================] - 2s 31us/sample - loss: 1.1985 - val_loss: 1.1645\n",
      "Epoch 164/200\n",
      "71847/71847 [==============================] - 2s 31us/sample - loss: 1.1859 - val_loss: 1.1581\n",
      "Epoch 165/200\n",
      "71847/71847 [==============================] - 2s 31us/sample - loss: 1.1917 - val_loss: 1.1646\n",
      "Epoch 166/200\n",
      "71847/71847 [==============================] - 2s 31us/sample - loss: 1.1981 - val_loss: 1.1555\n",
      "Epoch 167/200\n",
      "71847/71847 [==============================] - 2s 31us/sample - loss: 1.2050 - val_loss: 1.1380\n",
      "Epoch 168/200\n",
      "71847/71847 [==============================] - 2s 31us/sample - loss: 1.1954 - val_loss: 1.1221\n",
      "Epoch 169/200\n",
      "71847/71847 [==============================] - 2s 31us/sample - loss: 1.1801 - val_loss: 1.1259\n",
      "Epoch 170/200\n",
      "71847/71847 [==============================] - 2s 31us/sample - loss: 1.1966 - val_loss: 1.1326\n",
      "Epoch 171/200\n",
      "71847/71847 [==============================] - 2s 31us/sample - loss: 1.1922 - val_loss: 1.1303\n",
      "Epoch 172/200\n",
      "70656/71847 [============================>.] - ETA: 0s - loss: 1.1748\n",
      "Epoch 00172: ReduceLROnPlateau reducing learning rate to 0.0006000000284984708.\n",
      "71847/71847 [==============================] - 2s 31us/sample - loss: 1.1741 - val_loss: 1.1291\n",
      "Epoch 173/200\n",
      "71847/71847 [==============================] - 2s 31us/sample - loss: 1.1685 - val_loss: 1.1281\n",
      "Epoch 174/200\n",
      "71847/71847 [==============================] - 2s 31us/sample - loss: 1.1713 - val_loss: 1.1272\n",
      "Epoch 175/200\n",
      "71847/71847 [==============================] - 2s 31us/sample - loss: 1.1756 - val_loss: 1.1157\n",
      "Epoch 176/200\n",
      "71847/71847 [==============================] - 2s 31us/sample - loss: 1.1529 - val_loss: 1.1128\n",
      "Epoch 177/200\n",
      "71847/71847 [==============================] - 2s 31us/sample - loss: 1.1652 - val_loss: 1.1078\n",
      "Epoch 178/200\n",
      "71847/71847 [==============================] - 2s 31us/sample - loss: 1.1598 - val_loss: 1.1059\n",
      "Epoch 179/200\n",
      "71847/71847 [==============================] - 2s 31us/sample - loss: 1.1756 - val_loss: 1.1116\n",
      "Epoch 180/200\n",
      "71847/71847 [==============================] - 2s 31us/sample - loss: 1.1591 - val_loss: 1.1108\n",
      "Epoch 181/200\n",
      "71847/71847 [==============================] - 2s 31us/sample - loss: 1.1794 - val_loss: 1.1127\n",
      "Epoch 182/200\n",
      "70656/71847 [============================>.] - ETA: 0s - loss: 1.1348\n",
      "Epoch 00182: ReduceLROnPlateau reducing learning rate to 0.0003600000170990825.\n",
      "71847/71847 [==============================] - 2s 32us/sample - loss: 1.1350 - val_loss: 1.1176\n",
      "Epoch 183/200\n",
      "71847/71847 [==============================] - 2s 32us/sample - loss: 1.1518 - val_loss: 1.1081\n",
      "Epoch 184/200\n",
      "71847/71847 [==============================] - 2s 32us/sample - loss: 1.1530 - val_loss: 1.1111\n",
      "Epoch 185/200\n",
      "71847/71847 [==============================] - 2s 31us/sample - loss: 1.1506 - val_loss: 1.1048\n",
      "Epoch 186/200\n",
      "71847/71847 [==============================] - 2s 32us/sample - loss: 1.1344 - val_loss: 1.1003\n",
      "Epoch 187/200\n",
      "71847/71847 [==============================] - 2s 32us/sample - loss: 1.1356 - val_loss: 1.0989\n",
      "Epoch 188/200\n",
      "71847/71847 [==============================] - 2s 31us/sample - loss: 1.1402 - val_loss: 1.0939\n",
      "Epoch 189/200\n",
      "71847/71847 [==============================] - 2s 31us/sample - loss: 1.1430 - val_loss: 1.0874\n",
      "Epoch 190/200\n",
      "71847/71847 [==============================] - 2s 31us/sample - loss: 1.1459 - val_loss: 1.0914\n",
      "Epoch 191/200\n",
      "71847/71847 [==============================] - 2s 31us/sample - loss: 1.1473 - val_loss: 1.0923\n",
      "Epoch 192/200\n",
      "71847/71847 [==============================] - 2s 31us/sample - loss: 1.1276 - val_loss: 1.0917\n",
      "Epoch 193/200\n",
      "70656/71847 [============================>.] - ETA: 0s - loss: 1.1432\n",
      "Epoch 00193: ReduceLROnPlateau reducing learning rate to 0.00021600000327453016.\n",
      "71847/71847 [==============================] - 2s 31us/sample - loss: 1.1447 - val_loss: 1.0908\n",
      "Epoch 194/200\n",
      "71847/71847 [==============================] - 2s 32us/sample - loss: 1.1488 - val_loss: 1.0811\n",
      "Epoch 195/200\n",
      "71847/71847 [==============================] - 2s 31us/sample - loss: 1.1380 - val_loss: 1.0846\n",
      "Epoch 196/200\n",
      "71847/71847 [==============================] - 2s 32us/sample - loss: 1.1341 - val_loss: 1.0821\n",
      "Epoch 197/200\n",
      "71847/71847 [==============================] - 2s 32us/sample - loss: 1.1247 - val_loss: 1.0811\n",
      "Epoch 198/200\n",
      "70656/71847 [============================>.] - ETA: 0s - loss: 1.1337\n",
      "Epoch 00198: ReduceLROnPlateau reducing learning rate to 0.00012960000021848827.\n",
      "71847/71847 [==============================] - 2s 32us/sample - loss: 1.1332 - val_loss: 1.0826\n",
      "Epoch 199/200\n",
      "71847/71847 [==============================] - 2s 32us/sample - loss: 1.1186 - val_loss: 1.0825\n",
      "Epoch 200/200\n",
      "71847/71847 [==============================] - 2s 32us/sample - loss: 1.1240 - val_loss: 1.0809\n"
     ]
    }
   ],
   "source": [
    "history = model.fit([X_time_series_train, X_static_train], y_train, batch_size=1024, epochs=200, \n",
    "                    validation_split=0.1, verbose=1, shuffle=True,  callbacks=callbacks)"
   ]
  },
  {
   "cell_type": "code",
   "execution_count": 849,
   "metadata": {},
   "outputs": [
    {
     "data": {
      "image/png": "[encoded data removed]",
      "text/plain": [
       "<Figure size 432x288 with 1 Axes>"
      ]
     },
     "metadata": {
      "needs_background": "light"
     },
     "output_type": "display_data"
    }
   ],
   "source": [
    "plt.plot(history.history['loss'], label='train loss')\n",
    "plt.plot(history.history['val_loss'],label='val loss')\n",
    "plt.legend()\n",
    "plt.title('loss')\n",
    "plt.xlabel('epochs')\n",
    "plt.ylabel('Mean Squared Logarithmic Error');"
   ]
  },
  {
   "cell_type": "code",
   "execution_count": 845,
   "metadata": {},
   "outputs": [
    {
     "name": "stdout",
     "output_type": "stream",
     "text": [
      "1932/1932 [==============================] - 0s 51us/sample - loss: 2.7274\n"
     ]
    },
    {
     "data": {
      "text/plain": [
       "2.727390992715492"
      ]
     },
     "execution_count": 845,
     "metadata": {},
     "output_type": "execute_result"
    }
   ],
   "source": [
    "pred = model.predict([X_time_series_test, X_static_test])\n",
    "model.evaluate([X_time_series_test, X_static_test], y_test)"
   ]
  },
  {
   "cell_type": "markdown",
   "metadata": {},
   "source": [
    "### Case studies"
   ]
  },
  {
   "cell_type": "code",
   "execution_count": 730,
   "metadata": {},
   "outputs": [],
   "source": [
    "def predict_cases(fips, model, data):\n",
    "    index = (data['fips'] == fips)\n",
    "    county = data.iloc[np.where(index)[0][0]]['county']\n",
    "    state = data.iloc[np.where(index)[0][0]]['state']\n",
    "    \n",
    "    county_data = data[(data['fips'] == fips)]\n",
    "    county_X_time_series_raw, county_X_static, county_y_true, county_time_series_col, county_static_series_col  = genrate_rnn_data(start, end, LEN, county_data)\n",
    "    county_X_time_series = county_X_time_series_raw[:,:,2:].astype(np.float32)\n",
    "    date = np.array([pd.to_datetime(row[0][0]) for row in county_X_time_series_raw])\n",
    "    index = sorted(range(len(date)), key=lambda k: date[k])\n",
    "    \n",
    "    date_new = date[index]\n",
    "    county_X_time_series = county_X_time_series[index]\n",
    "    county_X_static = county_X_static[index]\n",
    "    county_y_true = county_y_true[index]\n",
    "    \n",
    "    predict_test = model.predict([county_X_time_series, county_X_static])\n",
    "    plt.scatter(range(len(date_new)), predict_test, label='predicted cases')\n",
    "    plt.scatter(range(len(date_new)),county_y_true, label='true cases')\n",
    "    plt.xlabel('day since first 10 cases')\n",
    "    plt.ylabel('cases')\n",
    "    plt.legend()\n",
    "    plt.title('Cases for {}, {}'.format(county, state))"
   ]
  },
  {
   "cell_type": "code",
   "execution_count": 866,
   "metadata": {},
   "outputs": [
    {
     "data": {
      "image/png": "[encoded data removed]",
      "text/plain": [
       "<Figure size 432x288 with 1 Axes>"
      ]
     },
     "metadata": {
      "needs_background": "light"
     },
     "output_type": "display_data"
    }
   ],
   "source": [
    "predict_cases(13121, model, data)"
   ]
  },
  {
   "cell_type": "code",
   "execution_count": 862,
   "metadata": {},
   "outputs": [
    {
     "data": {
      "image/png": "[encoded data removed]",
      "text/plain": [
       "<Figure size 432x288 with 1 Axes>"
      ]
     },
     "metadata": {
      "needs_background": "light"
     },
     "output_type": "display_data"
    },
    {
     "data": {
      "image/png": "[encoded data removed]",
      "text/plain": [
       "<Figure size 432x288 with 1 Axes>"
      ]
     },
     "metadata": {
      "needs_background": "light"
     },
     "output_type": "display_data"
    },
    {
     "data": {
      "image/png": "[encoded data removed]",
      "text/plain": [
       "<Figure size 432x288 with 1 Axes>"
      ]
     },
     "metadata": {
      "needs_background": "light"
     },
     "output_type": "display_data"
    },
    {
     "data": {
      "image/png": "[encoded data removed]",
      "text/plain": [
       "<Figure size 432x288 with 1 Axes>"
      ]
     },
     "metadata": {
      "needs_background": "light"
     },
     "output_type": "display_data"
    }
   ],
   "source": [
    "predict_cases(25025, model, data)\n",
    "plt.show()\n",
    "predict_cases(6085, model, data)\n",
    "plt.show()\n",
    "predict_cases(17043, model, data)\n",
    "plt.show()\n",
    "predict_cases(6037, model, data)\n",
    "plt.show()\n",
    "predict_cases(36059, model, data)\n",
    "\n"
   ]
  },
  {
   "cell_type": "code",
   "execution_count": null,
   "metadata": {},
   "outputs": [],
   "source": []
  }
 ],
 "metadata": {
  "kernelspec": {
   "display_name": "Python 3",
   "language": "python",
   "name": "python3"
  },
  "language_info": {
   "codemirror_mode": {
    "name": "ipython",
    "version": 3
   },
   "file_extension": ".py",
   "mimetype": "text/x-python",
   "name": "python",
   "nbconvert_exporter": "python",
   "pygments_lexer": "ipython3",
   "version": "3.7.6"
  }
 },
 "nbformat": 4,
 "nbformat_minor": 4
}
